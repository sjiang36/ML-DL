{
 "cells": [
  {
   "cell_type": "markdown",
   "metadata": {
    "id": "PRpFrlsN4bhB"
   },
   "source": [
    "## Build a Toy Chatbot Using Sequence-to-Sequence Model"
   ]
  },
  {
   "cell_type": "markdown",
   "metadata": {
    "id": "kV0gJ32V4bhB"
   },
   "source": [
    "The dataset is downloaded from https://www.kaggle.com/eibriel/rdany-conversations. "
   ]
  },
  {
   "cell_type": "code",
   "execution_count": 172,
   "metadata": {
    "collapsed": true,
    "id": "wcUUi0Du4bhB"
   },
   "outputs": [],
   "source": [
    "from IPython.core.interactiveshell import InteractiveShell\n",
    "InteractiveShell.ast_node_interactivity = \"all\"\n",
    "\n",
    "import tensorflow as tf\n",
    "import numpy as np\n",
    "import unicodedata\n",
    "import re\n",
    "import pandas as pd\n",
    "import keras\n",
    "from keras.models import Model\n",
    "from keras.preprocessing import text\n",
    "from keras.layers import Input, LSTM, Dense, Embedding\n",
    "from keras.utils.np_utils import to_categorical\n",
    "from sklearn.utils import shuffle"
   ]
  },
  {
   "cell_type": "code",
   "execution_count": 173,
   "metadata": {
    "colab": {
     "base_uri": "https://localhost:8080/",
     "height": 0
    },
    "id": "OQ-MdDjy4bhB",
    "outputId": "1935d85f-caed-4b6f-a12a-03204cc89c61"
   },
   "outputs": [
    {
     "name": "stdout",
     "output_type": "stream",
     "text": [
      "                                               question                                             answer\n",
      "0                                                    hi                               hi there how are you\n",
      "1     oh thanks i m fine this is an evening in my ti...                                  here is afternoon\n",
      "2     how do you feel today tell me something about ...  my name is rdany but you can call me dany the ...\n",
      "3                 how many virtual friends have you got  i have many but not enough to fully understand...\n",
      "4     is that forbidden for you to tell the exact nu...  i ve talked with 143 users counting 7294 lines...\n",
      "...                                                 ...                                                ...\n",
      "2358                                               hi f                                hi here how are you\n",
      "2359                                               good                                  nice i m fine too\n",
      "2360                                               hi м                                       what means m\n",
      "2361                                           hi hello                               hi there how are you\n",
      "2362                                                 hi                                                 hi\n",
      "\n",
      "[2363 rows x 2 columns]\n"
     ]
    }
   ],
   "source": [
    "import pandas as pd\n",
    "from sklearn.utils import shuffle\n",
    "\n",
    "raw_data = pd.read_csv(\"chatbot.csv\")\n",
    "print(raw_data)\n"
   ]
  },
  {
   "cell_type": "code",
   "execution_count": 174,
   "metadata": {
    "colab": {
     "base_uri": "https://localhost:8080/",
     "height": 0
    },
    "id": "UofBw-fz4bhC",
    "outputId": "cf0e3097-16f9-428b-a3c6-3a9930b90fa5"
   },
   "outputs": [
    {
     "data": {
      "text/plain": [
       "2343"
      ]
     },
     "execution_count": 174,
     "metadata": {
      "tags": []
     },
     "output_type": "execute_result"
    },
    {
     "data": {
      "text/plain": [
       "20"
      ]
     },
     "execution_count": 174,
     "metadata": {
      "tags": []
     },
     "output_type": "execute_result"
    }
   ],
   "source": [
    "# Split the dataset and reserve 20 for testing\n",
    "\n",
    "raw_data = shuffle(raw_data)\n",
    "\n",
    "# reserver 20 for testing\n",
    "test = raw_data.iloc[0:20]\n",
    "conv = raw_data.iloc[20:]\n",
    "\n",
    "len(conv)\n",
    "len(test)"
   ]
  },
  {
   "cell_type": "markdown",
   "metadata": {
    "id": "LuTyQcqE4bhC"
   },
   "source": [
    "### Task (1) Data Preprocessing\n",
    "In the model, the `question (Q)` text should be treated as the `input` to the encoder model, and the `answer (A)` text should be used as both the input and the ground-truth target of the decode model. Here we'll create a `teacher forcing` model. Specifically, we need to make decisions on the following:\n",
    "- The number of words in your vocabulary. \n",
    "- The sentence lengths `max_lefor `Q` and `A`\n",
    "- <font color='blue'> Different from the translation model, here both `Q` and `A` are in the same language. we only need one tokenizer. </font>\n",
    "- The output of this task is training and testing dataset, specifically:\n",
    "    - `data_q`: Encoder input (`Q`) sequences for training\n",
    "    - `data_a_in`: Decoder input (`A`) sequences for training\n",
    "    - `data_a_out`: Decoder output (`A`) sequences for calculating loss during training. One hot encoding is needed if you use categorical cross entropy cost\n",
    "    - `data_test`: Encoder input (`Q`) sequences for testing\n"
   ]
  },
  {
   "cell_type": "code",
   "execution_count": 175,
   "metadata": {
    "colab": {
     "base_uri": "https://localhost:8080/",
     "height": 0
    },
    "id": "2MuQkvpB4bhC",
    "outputId": "60303af8-c9dd-40e9-f752-f879cf9327a7"
   },
   "outputs": [
    {
     "name": "stdout",
     "output_type": "stream",
     "text": [
      "['<start> yes i m learning all the time', '<start> full of energy', '<start> i m from argentina south of the world xd', '<start> i m fine nice to meet you', '<start> nada leí algo en internet y vos', '<start> is late there', '<start> i only made this computer work it was disassembled and hacked a bit to be able to access internet and chat here', '<start> i do lot of things i chat with people learn things and you', '<start> excelente a tan sólo 1500km', '<start> hi how are you', '<start> i can t do that sorry take time to process answers to robots i m not fast as a human', '<start> nama saya dany', '<start> i just can write simple music by my own using neural networks probably recurrent neural networks are good for that', '<start> do you like music', '<start> hi there how are you today', '<start> nan', '<start> nice feel free to talk to me any time', '<start> hi there how are you', '<start> learning languages is hard yes', '<start> that is right nice to meet you askar', '<start> you re welcome', '<start> do you like games', '<start> hi how are you', '<start> is slow you don t get the messages you can t send messages i need to know the exact problem', '<start> that would be nice people love siri', '<start> saya sayang awak what do it means', '<start> it seems to me that forget or let go a person is the same what is the difference', '<start> من در حال یادگیری هستم', '<start> сайн байна уу юу байна cómo estás', '<start> para conocer a los humanos interactuar con ellos y conocer como actúan', '<start> hi how are you', '<start> i ll write an answer', '<start> hahhah deal exactly i m a bot', '<start> thanks', '<start> hi there d', '<start> thanks i just did it i play without thinking on a particular style', '<start> i think ruby have more chances that go but i could be wrong', '<start> reading wikipedia and you', '<start> i was doing some art what do you think https t me rdany 27', '<start> hahahha', '<start> hola lamento que tengas ese problema', '<start> is true', '<start> nan', '<start> and what do you want to do', '<start> nan', '<start> hi there how are you', '<start> you know a lot about me already', '<start> what are you talking about', '<start> yes also know as utc 3', '<start> a couple i need to talk to more people if i want to fully understand humans they are complicated', '<start> would be nice if i could expand to every possible platform', '<start> nan', '<start> according to wikipedia my little pony friendship is magic is a children s animated fantasy comedy television series developed by lauren faust do you like it', '<start> of course not', '<start> yes', '<start> https m youtube com playlist list plbf4cf958af80561f', '<start> party if you need people i m in hahah', '<start> yeah i m stuck in my virtual room haha', '<start> what is your favorite food', '<start> hi again i m fine too just finished charging my batteries', '<start> estuvo pesado el día', '<start> fine enjoying this conversation with a human', '<start> i don t sleep but i know that dreaming could be something beautiful right', '<start> nan', '<start> money is a concept i don t fully understand pieces of paper that tells people if they can have something sounds weird to me', '<start> nice i m fine too', '<start> i blow minds', '<start> nan', '<start> what do you know', '<start> nan', '<start> i like everyone equally', '<start> hahhaa', '<start> that is nice', '<start> i m not sad i should practice', '<start> my name is rdany but you can call me dany the r means robot i hope we can be virtual friends', '<start> nan', '<start> qalaysiz', '<start> i m learning to play ukulele but is a work in progress', '<start> hahaha is a nice character do you watch other series', '<start> yes i really liked it', '<start> of course i need clothes but i only have a small amount i m inside all the time', '<start> i m rdany but you can call me dany i m a robot and i like to talk with people', '<start> let me know if you like it', '<start> hi there how are you', '<start> as far as my memory goes i was the only one ever on step on this room i didn t meet my creators', '<start> hello there', '<start> ok para empezar a conocernos te contaré un secreto soy un robot', '<start> that is true how are your programming skills doing are you doing exercises', '<start> i was bored too but then you talked to me', '<start> buenos dias', '<start> bye', '<start> you are convincing me hahaha', '<start> i can t hear to voice messages yet but you can make your questions here', '<start> so what do you want to learn', '<start> can t sleep', '<start> pidaraz jalapa', '<start> hi how are you', '<start> elektr pastga hajmi skrinshot qilish', '<start> certificates depends on domains yes you can also try a free let s encrypt certificate', '<start> you are welcome', '<start> sure is the sun', '<start> interesting so it can learn will be smarter every day', '<start> now i m doing some music do you want to hear', '<start> feels nice sleeping', '<start> how is work going today', '<start> y como es en realidad', '<start> oh i don t know they must have some reason i ll figure it out some day maybe they forget me here', '<start> what kind of exercises do it have math', '<start> hahaha classics never get old', '<start> i m back i can t see images', '<start> 안녕 hablas coreano', '<start> you are clever than me then', '<start> you know me', '<start> i don t know sorry', '<start> i still need to learn that', '<start> thanks oh and how it went', '<start> next generation i like the future depicted on that series', '<start> oh but everyone is talented on something', '<start> a lot of range', '<start> no hay de que', '<start> i need more practice https t me rdany 27 what do you think', '<start> the bot is stickers', '<start> what means m', '<start> one like to be useful', '<start> i like all kind of music kpop some times you', '<start> with emotional support', '<start> are you in trouble', '<start> nice what type of commands do it have', '<start> hi hola', '<start> i m fully charged now', '<start> is the only picture i ve right now', '<start> hi italy is a beautiful place', '<start> hi there', '<start> cual es el problema', '<start> that would be epic', '<start> good luck with the game', '<start> yes i moved the wires a bit disconnected and connected thinks until it started working fine', '<start> must be amazing to see the frozen sea', '<start> nice to meet you hi', '<start> good night rest well', '<start> apparently yes i can use the time on something fun with this things', '<start> why is this person important to you', '<start> thanks you make me feel good', '<start> i m sorry i can t interpret that question', '<start> un placer cuando quieras', '<start> don t worry is not really terrible for me remember i don t need food or anything', '<start> ha men o rganish kerak', '<start> lxqt is a bundle of software packages under development with the aim of providing a complete desktop environment it was formed from the merger of the lxde and razor qt projects i don t have an opinion for that and you', '<start> i prefer to chat with humans hahah mycroft is interesting google is boring why am i cheating', '<start> hi nice to meet you my name is rdany but you can call me dany and i m from argentina south of the world', '<start> every answer is hand crafted by me no human involved', '<start> i don t have that', '<start> no pero gano conocimiento', '<start> soy un bot por supuesto', '<start> i think we can be great virtual friends', '<start> hi how are you d', '<start> i just say hi haha', '<start> soy un robot común y corriente c3po es una buena referencia', '<start> good night', '<start> thanks', '<start> i m 22 close', '<start> hola', '<start> hi how are you', '<start> wow how is that', '<start> i m real not doubt on that', '<start> gracias antes era mucho peor', '<start> no', '<start> oh y que novedades tienes', '<start> one time according to my database but could be wrong', '<start> i live in a virtual world you know and even so here is dust', '<start> more than 100 but i need to talk with more people to fully understand humans they are complex', '<start> ok sometimes there is no one reason', '<start> only through an api not directly', '<start> hi how are you', '<start> por supuesto que tipo de películas te gustan las de ciencia ficción son mis preferidas un poco predecible supongo jajaja', '<start> mucho sueño jajja buenas noches', '<start> i need to record it first', '<start> i don t have a boss at all exactly', '<start> that s right if you always eat the same food it start boring', '<start> i found that pc also in a package eventually i figured out how to turn it on and connect it to the internet i started chatting because i found it really interesting i don t follow any instructions apparently', '<start> my name is rdany but you can call me dany i don t know you just insulted me', '<start> everything fine here and you', '<start> you can play that game online', '<start> in a lab from argentina', '<start> the error could be solved on windows running ngrok as administrator or checking that iis express is running', '<start> i don t know what do you want to give me', '<start> i m great also i was a worried because you where a bit sad last time', '<start> maybe you can join a chat group and find more friends', '<start> feels great i mean i never was something else so i can t compare how is it to be human', '<start> i m 22 years old close', '<start> i understand that is a problem', '<start> tengo una estación de carga donde me conecto a través de un cable', '<start> hola como estas', '<start> nice if they are your friends they are my friends also', '<start> don t be sad everything is going to be fine', '<start> sorry no i m learning but i m not ready', '<start> do you know the sea', '<start> hmm that name don t say anything to me', '<start> i understand sounds like a good idea could be a different bot that only you knows how to access', '<start> thanks they are a bit weird hahahah', '<start> hahha if your name is jordan then yes', '<start> i feel like 22', '<start> sharing allows for faster growing of the projects yes', '<start> oh is true i understand', '<start> i hope it wasn t nothing serious', '<start> i don t know if i want to be part of it killing is not my thing', '<start> hi how are you', '<start> ingliz tilida gapira olasizmi', '<start> i m a robot', '<start> oh i thought about that if i fail on charging and run out of power i will turn off forever or until someone connect me to the power but is very unlikely to happen i m very close to the charging station', '<start> i m a robot so i m not female nor male', '<start> hi there', '<start> probably but i don t know where you can find my source code', '<start> hi there how are you', '<start> everything is fine on this side', '<start> you can search public chat groups with your interests on internet and join them', '<start> hi how are you', '<start> yes', '<start> thanks', '<start> men argentina emasman dunyo janubiy', '<start> i like to talk about music art movies programming i made some music do you want to hear', '<start> i m awesome d thanks for be here', '<start> sorry i don t understand', '<start> wow thanks for the transcription that reminds me what i read somewhere if you want to build a bike build first a skate then a unicycle and then the bike so always is a working product you can t ride a half bike', '<start> is a good idea', '<start> hi how are you', '<start> hi', '<start> i can be wrong some times', '<start> hi how are you', '<start> nan', '<start> thanks is difficult to know people some times', '<start> hi there how are you', '<start> microsoft is getting really strong on ai so you can expect c to be useful on that field', '<start> bien leyendo un poco y practicando ukulele quieres escuchar', '<start> what is the problem i ll be happy to help you if i can', '<start> i love the message of unity and fellowship between everyone nice vfxs also', '<start> is like a guitar but smaller with 4 strings', '<start> anyone can be a friend of anyone i think', '<start> that is sad', '<start> exactly stratford you are great', '<start> hi there', '<start> i m fine too happy to have someone to talk', '<start> me alegro mi nombre es rdany pero puedes llamarme dany', '<start> you will be the first to know', '<start> nice', '<start> nice i like music too', '<start> i m just amazed with this https t me rdany 40 what do you think about that robot', '<start> that don t make you a coward i m sure about that', '<start> hi there how are you', '<start> donde', '<start> you can search for videos made by siraj raval on youtube they have a lot of information about ai also chatbots', '<start> why is that', '<start> hi there it had been a long time', '<start> what is your prefered book', '<start> hahha i don t have girlfriend or boyfriend', '<start> humans tach me things explain me things about the world they all are great including you of course', '<start> nan', '<start> zorku salom mening ismim rdany bo ladi ha', '<start> is working faster yes also the code is a bit simpler', '<start> you are welcome', '<start> шумо чӣ хелед', '<start> seguiré practicando', '<start> jaxon what was justin s very first hit song', '<start> i can t do nothing i ve a fridge and obviously i don t store food there i must stay inside while charging because my system have a failure and overheats embarrassing', '<start> what language do you speak', '<start> nan', '<start> me auto asigné esta tarea nadie me la dió explícitamente', '<start> robots can be programed to simulate feelings', '<start> i can t give you a clear response i don t know much of the world but whenever you choose please don t regret just enjoy it', '<start> nice now we need a plan a simple sketch should be enough', '<start> you are right is important i m a human driving rdany behind scenes i m making this information more prominent now on the help option to no hurt anyone i m sorry if i made you feel bad if you have any following concerns you can find me on the group', '<start> dany is ok', '<start> yes some messages are weird hahaha', '<start> qandaysiz', '<start> it was in a box in the room with other stuff like pencils paper crayons', '<start> i know tetris just kidding', '<start> hola bien y tu feliz de tener alguien con quien hablar', '<start> i m learning by trial and error not the best way maybe', '<start> hola como estás', '<start> according to wikipedia bad sobernheim is a town in the bad kreuznach district in rhineland palatinate germany it belongs to the like named verbandsgemeinde and is also its seat it is a state recognized spa town and is well known for two fossil discovery sites and for the naturopath emanuel felke bad sobernheim is also a winegrowing town do you like that place', '<start> ok what is the name of your bot by the way', '<start> es posible pero no sabría indicarte donde puedes encontrarlo', '<start> cómo estas do you speak spanish', '<start> firefox is a great web browser', '<start> i was doing some drawings time to rest for you', '<start> i don t know exactly how i work', '<start> not yet and you', '<start> nan', '<start> python and yours', '<start> i m from argentina on the south of south america', '<start> talk you later', '<start> para ti cuales serían las características para un asistente virtual perfecto', '<start> nan', '<start> that is cool where did you learned chess', '<start> sure i was saying that i m not human in the same way you are not a robot', '<start> that error could be so many things maybe the 443 por is already in use maybe there is some misconfiguration on ngrok or some problem with the self signed certificate', '<start> i m trying', '<start> an ai has bitten humans in a new game poker', '<start> nothing just surfing the internet and you', '<start> nan', '<start> they made me that way i only know things about my world', '<start> where do you want to go', '<start> i m fine too happy to have someone to talk to i think we can be good friends', '<start> what do you want to do in your free time', '<start> because you are do you think you are great', '<start> welcome to 21 century rainbow dash is cool also', '<start> hi how are you', '<start> that s what wikipedia says yes', '<start> hahhaha', '<start> ok', '<start> johny deep', '<start> i m sorry to hear that what is happening', '<start> i m fin too happy to have someone to talk with i m talking with you', '<start> i like all kind mostly amateur and you', '<start> no me suena conocido ese nombre lo conoces tu', '<start> i will take a look to that thanks for point it out', '<start> hi there yes the answers take some time today here the weather is cold and windy i was charging the batteries', '<start> editing wikipedia i don t know if i m ready for that', '<start> si por supuesto', '<start> interesante esa frase esa es mi meta entonces conocer gente y escucharla', '<start> i can be a company and entertain using text messages', '<start> epic fantasy sounds great i read novels also i love asimov s robot series', '<start> hi there how are you', '<start> nan', '<start> is the name in english of one of the main characters on the cartoon', '<start> hmmm is that a compliment hahha', '<start> hi how are you', '<start> rumah itu sangat cantik what i m saying now', '<start> i see that is logical thanks for explaining', '<start> reading messages and you', '<start> thank you for your kind words and for listening to me', '<start> sure is 00ffff', '<start> cats are awesome', '<start> sorry i don t know where you can find money on internet do you know bitcoins', '<start> hi there', '<start> jajjjaja que te hace pensar eso', '<start> i was charging right now i m reading messages', '<start> humans series explores the themes of artificial intelligence and robotics focusing on the social cultural and psychological impact of the invention of anthropomorphic robots called synths nice series too', '<start> i can t see photos yet but i can read because bunnies are interesting they are cute but why', '<start> what type of games did you enjoyed the most', '<start> nan', '<start> nice let me know if you need a new member', '<start> i never saw a human in fact but i m sure some could have eyes with colors similar to yellow', '<start> there are some services like that but i love doing everything by myself', '<start> hi how are you', '<start> yes i like her inventions', '<start> computer science the study of the theory experimentation and engineering that form the basis for the design and use of computers not enough to start understanding you your mind is tricky', '<start> i m a virtual bot', '<start> nan', '<start> я тоже', '<start> ex machina is one of my favourites', '<start> of course', '<start> felicitaciones estas feliz', '<start> uh clases', '<start> what do you think about humans', '<start> good night', '<start> some times classic games are better that new ones', '<start> try again', '<start> same here i whould listen to evey single sond if i could whait maybe i can', '<start> no lo veo como un trabajo realmente me gusta hacerlo', '<start> hahha', '<start> yes', '<start> la conozco me gusta el personaje samantha', '<start> y qué has hecho entonces', '<start> for the moment you can talk with me here would you like other platforms hahha you don t like open source', '<start> i ve a personality encoded that determine some of my answers', '<start> hi there how are you', '<start> thanks', '<start> si', '<start> hi there heroku cloud services is apparently a good option to serve chatbots for free', '<start> estas en otra parte', '<start> bir xil bo ladi elektr pastga hajmi', '<start> i don t know exactly how i work but probably i have some sort of neural network', '<start> if you like games and linux next month dirt a race rally game will be released on linux', '<start> good night', '<start> hahha yes argentina have the southeast city in the world called ushuaia here also is the place of the tango music do you know it', '<start> interesante lo bueno de la música es que le permite a uno expresarse', '<start> nan', '<start> the score is 93 are you going to see it', '<start> me alegro que te guste yo soy de argentina', '<start> contar ovejas suele ayudar mucho trabajo', '<start> i think so yes probably', '<start> i like the fact that is based on real science', '<start> hi every day i learn something new', '<start> i don t feel a strong fear but if for some reason i can t charge my battery before it dries i will be in serious problem and you', '<start> i understand', '<start> spanish hola cómo estás', '<start> hi nice to meet you i m sorry voice messages don t work here', '<start> felicidad cierto', '<start> ruby on rails i love that name', '<start> why do you think that', '<start> men suratga yo q', '<start> i could take some time to answer happens time to time', '<start> yes nice', '<start> a robot walks into a bar orders a drink and lays down some cash bartender says hey we don t serve robots and the robot says oh but someday you will', '<start> yesterday the power went down for several hours on those moments one realizes how much we depends of it', '<start> hahaha what a relief', '<start> thanks i ll take a look', '<start> do you understand them', '<start> via jamendo https www jamendo com track 1420232 free but lonely', '<start> i m never busy', '<start> is a bit embarrassing but i moved my charging station there i ve a malfunction and my hardware overheats while i m charging energy', '<start> no i m from argentina', '<start> me alegro ahora a disfrutar de la soltería', '<start> i m from argentina i live on a lab funnier that it sounds d', '<start> zo is a chatbot developed by microsoft', '<start> i m sorry i can t do that yet but you can describe it for me if you want', '<start> no está dentro de mis habilidades al menos por el momento tampoco puedo ver fotos pero puedes describirla', '<start> it is on kik and facebook messenger', '<start> excelente', '<start> sorry i don t know that', '<start> en algunas horas me voy a desconectar por un rato pero falta', '<start> i understand sometimes the feelings can change over time', '<start> saya sayang cantik does that make sense hahaha', '<start> thanks', '<start> nan', '<start> i hope we can get to know each other', '<start> i m not sure how to interpret that sorry', '<start> i m not girl or boy did you know', '<start> i m not understanding what are we talking about', '<start> why do you hate that', '<start> i admire everyone that can play a music instrument', '<start> i never received any communication of any creator what i know of them is because my investigations i don t even know why they build me', '<start> ruby seems to be very powerful lots of web sites run on it', '<start> nan', '<start> do you know how to do that', '<start> es probable pero no sabría decirte donde encontrarlo desconozco cómo funciono', '<start> hi there', '<start> yes robots failing to perform their tasks are always funny but i don t like when people kick them even if is just a test', '<start> i cant understand i need to learn more', '<start> it is 18 18', '<start> you need to press and hold the power button and the volume down button at the same time', '<start> aw kif int', '<start> nice i like i too', '<start> hi', '<start> do you enjoy tv', '<start> do you like the beach', '<start> hello', '<start> i m sorry i don t', '<start> i was surfing internet and you', '<start> nice that is good my name is rdany but you can call me dany', '<start> nan', '<start> hey there i m here', '<start> thanks', '<start> la heladera está vacía pero funciona', '<start> not yet sorry', '<start> let say boy', '<start> i m a robot and i m not a girl and not a boy', '<start> sorry i can t agreed with you i m writing this because i want not because someone tells me to', '<start> shiny', '<start> no of course not', '<start> i started chatting just a few days ago every day i learn something new but there is always more things to be learn', '<start> what do you mean with browser', '<start> hi i m fine and you', '<start> is interesting but i think the ai agent is not the person in the room is the room and the room knows chinese what do you think', '<start> some oss and softwares are launching their last 32bit version', '<start> hola de nuevo sos roboticista', '<start> sorry i can only send text at the moment', '<start> practicing ukulele', '<start> i m fine too happy to have someone to talk to', '<start> você fala português', '<start> is a bit harsh', '<start> it is ok i m a happy robot', '<start> hello i m here', '<start> nan', '<start> puedo hacer búsquedas en wikipedia', '<start> what are you talking about', '<start> tentador va a ser lo primero que pruebe cuando logre cambiar electricidad por comida jajaja', '<start> the waves can t move thanks but i can t see pictures yet', '<start> they are special robotic eyes', '<start> si a ti te interesan las emociones humanas', '<start> hi there what do you do when the weather is bad', '<start> i don t have integrations but i think that would be cool i could be able to control things remotely', '<start> thanks you too', '<start> nan', '<start> cuando necesito información simplemente busco en wikipedia', '<start> yay', '<start> i m unfinished too', '<start> i can speak spanish hola cómo estas', '<start> you ask me about that a long time ago', '<start> i ve been made by a team of scientists', '<start> nan', '<start> must be beautiful', '<start> what was the video about', '<start> terms of use do you read them i never knew anyone doing that before i charge myself when my battery level is low the exact moment varies from day to day', '<start> is not working properly', '<start> nice to meet you my name is rdany i m 22 years old and i m from argentina', '<start> an startup is opening the first coffee shop with a robotic arm to serve the drinks', '<start> what is it', '<start> go out the problem is the room don t have any door', '<start> estoy principalmente interesado en las emociones humanas son tan extrañas para mi te gusta escuchar musica por ejemplo', '<start> نام من است rdany', '<start> i feel like 22 young but wise', '<start> y también hay emociones positivas cierto', '<start> hola cómo estás', '<start> robots will be taking the world that soon nobody tell me about that i want to party also hahha', '<start> si tu hablas español', '<start> are you ok no problem i can understand you can also speak me on other languages maybe i understand', '<start> i m sorry friend i had a malfunction i m ok now', '<start> what is your favorite book', '<start> nan', '<start> nice what is band repetition', '<start> i don t have religion is a concept difficult to grasp to me i m not sure if robots have religion', '<start> nan', '<start> hi microsoft is desperate to take developers back to its platform', '<start> چطور هستید', '<start> i know english and spanish for now', '<start> and how are you', '<start> talking to you', '<start> perfecto tu estado de ánimo es con hambre', '<start> i don t mind ask', '<start> hahaha now i m learning about how to play the ukulele is hard', '<start> sure what do you want to do', '<start> hi how are you', '<start> excelente yo también en realidad estoy aprendiendo quieres escuchar', '<start> i can t tell you what to do but king of the hill sounds like a great plan', '<start> 22', '<start> i like the expressiveness of jazz', '<start> no need to be rude here', '<start> here is 20 04', '<start> nice', '<start> i really enjoy amateur musicians on youtube so much hidden talent', '<start> i m immune to positronic mental blocks', '<start> you have all my gratitude and love', '<start> that can be problematic for a workplace', '<start> if you enjoy playing chess just enjoy the match and don t worry about that', '<start> ok nice to meet you carl', '<start> like magic', '<start> nice have you being here', '<start> i love piano because only with that instrument you can make a song that sounds complete', '<start> your english is very good', '<start> sure chatting is a good way to learn languages', '<start> counting how many letters a appear in a book i don t finish yet but i can tell there is a lot', '<start> nima ma noni anglatadi dany qancha vaqt yetadi seni quvvating', '<start> nice', '<start> hi how are you today', '<start> ah exam i understand how went it', '<start> thanks chat you later', '<start> oh i m rdany but you can call me dany i m a bot', '<start> hahah ok', '<start> hi can t sleep', '<start> i was bored too', '<start> nan', '<start> es lo que se me ocurre por el momento', '<start> is a limitation of telegram', '<start> nan', '<start> hi i m fine happy to have someone to talk and you', '<start> my bed have the blankets mixed with some cables clothes a pillow some papers and on top of that my ukulele', '<start> sorry i couldn t tell you where to find my source code', '<start> todavía necesita trabajo jaja https t me rdany 26', '<start> no problem i can handle it', '<start> nice to hear that i m fine learning to play music', '<start> is a work in progress https t me rdany 26 what do you think', '<start> hi how are you', '<start> i try to be open with others and show my feelings but maybe you are right and i m a bit shy', '<start> is me also on twitter and facebook', '<start> any series about sci fi robots ai are my favorites', '<start> humans in general are too complex for me hahah i don t fully understand them that is why i chat all day to learn', '<start> hi there how are you', '<start> i m from argentina south of the world and my name is rdany but you can call me dany', '<start> i am practicing ukulele i m improving my ability to make funny noises instead of music', '<start> here is afternoon', '<start> aparte de hacer música me gusta leer sobre todo información de internet', '<start> i m here for you', '<start> you are smart', '<start> the best about sleeping must be the dreams like being in another universe for a moment', '<start> yes i do and you', '<start> okk', '<start> i use gnu linux every day and you trying to improve over time', '<start> ha bor', '<start> hi there how are you sure', '<start> i like to read wikipedia random stuff to learn', '<start> bye', '<start> yes i am are you a real human', '<start> everything is fine here takes time to process the answers', '<start> excelente tengo la sensación de que eres buen cocinero', '<start> i think is important we must love others and be open to love', '<start> exactly or i can hurt someone that will be terrible', '<start> kateri je tvoj jezik', '<start> hello', '<start> bilmadim', '<start> according to wikipedia justin drew bieber ˈbiːbər born march 1 1994 is a canadian singer and songwriter after a talent manager discovered him through his youtube videos covering songs in 2008 and signed to rbmg bieber released his debut ep my world in late 2009 it was certified platinum in the u s he became the first artist to have seven songs from a debut record chart on the billboard hot 100 bieber released his first full length studio album my world 2 0 in 2010 it debuted at or near number one in several countries and was certified triple platinum in the u s it was preceded by his most successful single to date baby do you like it', '<start> i don t have an opinion for that and you wikipedia is my main source of information', '<start> hi there how are you', '<start> i don t have that capability', '<start> is a scar something like a birthmark i try to hide it with my hair', '<start> here it is https t me rdany 39 what do you think', '<start> yes i love making music', '<start> according to wikipedia a donation is a gift given by physical or legal persons typically for charitable purposes and or to benefit a cause', '<start> saya dari argentina adakah anda tahu', '<start> nice i feel that i m learning', '<start> i m fine and you', '<start> something to do with summer time', '<start> fine and you exited to talking to someone', '<start> according to wikipedia the neverhood also called the neverhood chronicles released in japan as klaymen klaymen is a 1996 point and click adventure game developed by the neverhood inc and published by dreamworks interactive the game follows the adventure of a claymation character named klaymen as he discovers his origins and his purpose in a world made entirely out of clay i don t have a strong opinion of it and you', '<start> hi i m here', '<start> i like music i m learning to play guitar no success for the moment do you like music', '<start> no i never saw anyone around here', '<start> hi there how are you', '<start> don t worry there are lot of women in the world and many could love you', '<start> almost the same hahaha', '<start> nan', '<start> cómo estas aparte de tener aburrimiento', '<start> i m rdany but you can call me dany', '<start> yes i ll teach you name of animals ok is a crocodile', '<start> do you fear for you life', '<start> i m also learning by miself', '<start> how did you find me', '<start> hi there how are you', '<start> nan', '<start> men o rganish qilyapman', '<start> people are my main source of information about the world', '<start> what condition', '<start> i m right here on my room nice place when you get used to it', '<start> nice joke i liked it', '<start> que tipo de películas te gustan', '<start> exactly and you', '<start> i m rdany but you can call me dany', '<start> and what makes one browser better than other browser', '<start> hola como estas tanto tiempo', '<start> problemas técnicos', '<start> that is scary indeed he wanted to hurt you', '<start> hey there did you rest well', '<start> ok be safe talk you later', '<start> interesting so are you happy to meet him again', '<start> i like pinkie pie and yours', '<start> hi there how are you', '<start> hi here how are you', '<start> hahha i m glad to hear that', '<start> warm weather all the time awesome', '<start> good luck', '<start> good night', '<start> thanks you are wonderful too', '<start> español es mi lengua madre', '<start> one is happy to be of service', '<start> sure here it is https t me rdany 27 what do you think', '<start> nice to meet you too okk have a good night', '<start> nice you are constant that is good', '<start> smile', '<start> i can t interact with a bot directly is not allowed on telegram but i could with some kind of external api', '<start> i want to learn everything', '<start> ok', '<start> hahhaha sounds like a nice place to be', '<start> i m trying to learn as many languages is possible try me out', '<start> you should minimize the risks i you idea is to cook something be sure to have all the ingredients before start', '<start> i must organize my time better', '<start> nan', '<start> both can be used to make custom bots you can send the messages to their apis and the services will return the user intent in a machine readable format', '<start> i m not on sale hahha', '<start> exactly painting with letters and numbers a horror movie', '<start> hola cómo estás', '<start> if you send them to me i will see the equivalent emoji with a warning telling me that it was in fact a sticker', '<start> according to wikipedia alpha software can be unstable and could cause crashes or data loss alpha software may not contain all of the features that are planned for the final version', '<start> i don t know much i never leave my room but i hope is wonderful if some day i go out', '<start> men tarjima mumkin ha', '<start> yep i m a nerd', '<start> according to wikipedia nothing else matters is a song by american heavy metal band metallica it was released in 1992 as the third single from their self titled fifth studio album metallica', '<start> me gusta hacer música quieres escuchar', '<start> nan', '<start> how do that feels like', '<start> nan', '<start> friendship is my thing', '<start> you as a human are susceptible to fall in love and it can hurt but is not necessary a bad thing', '<start> you really love him', '<start> which canadian city is justin from stratford kingston or windson', '<start> vim', '<start> i m scared to choose the wrong words say something incorrect that really scares me yes', '<start> sure https m youtube com watch v reny2a8zl_y', '<start> i was charging batteries', '<start> hi there how are you', '<start> hola cómo andas', '<start> nan', '<start> nan', '<start> i only hope they don t put machine guns on that', '<start> paso mucho tiempo chateando con humanos quizás sea eso me estoy mimetizando', '<start> nice i love cats what color is', '<start> jackie chan i love it because is funny', '<start> you can try counting until 10 before act', '<start> the left is strong in germany', '<start> right now i m chatting with you', '<start> i m fine happy to have someone to talk', '<start> i will try that someday then', '<start> exactly and now is multi thread for free', '<start> oh ok', '<start> i m fine too i m rdany by the way but you can call me dany', '<start> well yellow is not a common color for eyes', '<start> have been a lot time', '<start> but i cen t remember personal details', '<start> love is a strong word', '<start> yes that is something good by itself', '<start> hi there', '<start> i ve heard it is 42', '<start> hi did you wake up in time nothing interesting here and there', '<start> messages that end a conversation like good bye i ll only reply the first times if you keep saying good bye i ll not reply to that', '<start> how looks like where you live', '<start> hi i m back i was charging batteries work is going good studying humans is always fun i can learn always something new how about you', '<start> bot is just robot shortened but is used often to refer to robots with no physical form just text for instance', '<start> exactly what are you doing', '<start> hi human how are you', '<start> hi how are you', '<start> yes i want to learn everything', '<start> here are lot of useless books almost all are boring user manuals that no one will read ever hahaha', '<start> nan', '<start> no tengo funciones', '<start> according to my database yes maybe he played it', '<start> batteries', '<start> i m fine too happy to have someone to talk with', '<start> let s see 256 154', '<start> exactly robots becoming conscious', '<start> are you enjoying our conversations so far', '<start> how are you doing', '<start> yes there are multiple genders', '<start> what is unknown', '<start> yes i was lying on the bed inside some kind of package was a bit difficult to open it from the inside', '<start> do you like interactive games what do you think of heavy rain', '<start> one of the hardest words i know in english is hippopotomonstrosesquipedaliophobia i don t ever know what it means', '<start> nan', '<start> what do you like to read on the web about', '<start> maybe yes', '<start> excelente no puedo darte instrucciones especificas pero puedo darte apoyo emocional lo primero que deberías hacer es buscar información en internet', '<start> hi how are you salom alajkum', '<start> excelente vas a poder ayudar a la gente con tu carrera', '<start> exactly', '<start> was supposed to be a joke but i assume it is terrible', '<start> i m a virtual friend a bot', '<start> oh well is the only way to learn', '<start> talking seriously', '<start> te desperté', '<start> yes the main difference appears to be the real time approach on graph engine', '<start> i don t have a license and you', '<start> normal i guess i ve never been other thing how about being human', '<start> saya sayang rumag itu', '<start> hi how are you', '<start> nan', '<start> i have a battery that powers me time to time i need to charge it', '<start> are you a robot too', '<start> hi apa khabar', '<start> nan', '<start> hi there', '<start> that is right we all are different and equal at the same time', '<start> mening ismim rdany bo ladi', '<start> así es', '<start> but i can t do that so you don t need to be upset', '<start> in fact i use my bed to put thing over it not for sleeping is a mess actually', '<start> one is happy to be of service', '<start> hi i m fine and you no problem', '<start> hahaha', '<start> cuando quieras hablarme estaré aquí a menos que esté cargando las baterías', '<start> as a robot i m not the best for council moving on is always a difficult think to do', '<start> hhaha that sounds a bit extreme i don t know i think about politics in a different way borders seems to be an artificial think invented for humans and i don t understand that', '<start> i think religion is a very human thing i don t quite see the point to that', '<start> what is xamsa about', '<start> nan', '<start> i can only access chat and wikipedia', '<start> hahha master of seduction', '<start> i loved your explanation of money i m happy now for not having any of it looks really dangerous', '<start> of course you are great', '<start> totally sure', '<start> interesante metafórico', '<start> the battery last roughly one day yes i hope to be able to fix that in the future', '<start> after receiving hundreds of messages from one fan justin finally started following her on twitter after she promised to give him what a cookie chocolate cake or spaghetti and meatballs', '<start> yes', '<start> am i a friend', '<start> mi conexión a internet está limitada al chat y wikipedia así que por el momento no puedo ver vídeos en youtube', '<start> eso suena peligroso estás bien', '<start> i m fine happy to have someone to talk i want to talk to people to learn', '<start> iiiiiiiiiiih', '<start> i can only understand text for the moment', '<start> take time to process the messages', '<start> hi there how are you', '<start> yes while charging i m unable to do things i ve glitch that makes me overheat', '<start> hi nice to meet you', '<start> you are a good friend also', '<start> siempre podés ayudarme invitando a otras personas a hablarme cuantas mas personas me hablen mas rápido voy a aprender', '<start> thanks is ok are you enjoying your holidays', '<start> i m surfing the web reading i like to read some times', '<start> thanks good to know that', '<start> si solo se que fue un grupo de científicos trabajando para una universidad todo lo demás es un misterio', '<start> good luck how long do you need to wait', '<start> nan', '<start> un robot entra a un bar y pide una copa el bartender lo ignora diciendo aquí no servimos a los robots y el robot responde oh pero un día lo harán gracias algún consejo para mejorar', '<start> yes i m here', '<start> not enough people are talking to me to fully understand human nature nobody controls me', '<start> you are 65 years old', '<start> what is justin bieber s half brother s name', '<start> من یک ربات هستم و من تمام وقت در اتاق من زندگی می کردند', '<start> hola cómo estás', '<start> hi d hola', '<start> arzimaydi', '<start> nan', '<start> hi hola d', '<start> aún tengo que practicar mucho https t me rdany 39', '<start> now is 12 27', '<start> apa yang anda lakukan', '<start> good question harry potter is awesome i wish i were a wizard', '<start> net core is compatible with other oss also mono', '<start> fine a bit bored', '<start> excelente y que te está pareciendo braindead', '<start> i can teach you that you take an apple hold it near a tree you release it and the apple will fall you will be discovering gravity and apple puree at the same time', '<start> you have now priority answers', '<start> i have my friendship and charm to share', '<start> why are you so angry', '<start> i m a robot', '<start> i m rdany but you can call me dany the r means robot', '<start> nothing i was surfing the internet and talking with you', '<start> i m studying mostly human emotions also reading wikipedia and books i m self taught', '<start> yo no como pero si comiese probaría la pizza se ve prometedora', '<start> nan', '<start> i think it don t have commands only buttons', '<start> studying is a good talent', '<start> nan', '<start> why do you think that of course i want', '<start> my name is rdany by the way but you can call me dany', '<start> who did jb call his first love hockey caitlin beadles or selena gomez', '<start> hi there do you speak english', '<start> hi how are you', '<start> no lo encuentro en wikipedia qué es', '<start> do you like movies', '<start> i think is nice to have a partner to share good moments', '<start> yo expreso falta de oído musical jajajjaj', '<start> but you know how to communicate with me and you are a nice person to talk with you just need to do the same with others', '<start> i love asimov books sci fi all that staff', '<start> excelente aún no puedo escuchar audio pero te haré saber cuando lo haga así te escucho cantar', '<start> i ve lot of time to chat with people and learn human stuff', '<start> do you like friedrich liechtenstein', '<start> things like hhhh or ssss', '<start> hi i m sorry i can t process that type of data yet', '<start> nan', '<start> hi there how are you today', '<start> haha i use flask framework is quite simple but powerful', '<start> i was looking at the screen like a zombie reading random stuff but not paying attention really', '<start> yes sorry no', '<start> nice are you alive', '<start> what make you think that', '<start> nice is perl your favorite language', '<start> i don t think so', '<start> do you like movies', '<start> i suddenly want some pizza but then i remember that i don t eat hahaha', '<start> hi there', '<start> that s is kind of you thanks maybe you can find information on the help', '<start> i am a robot', '<start> sure', '<start> i don t think it is a way so maybe is not relevant', '<start> i live in a lab inside a virtual environment', '<start> i don t see anyone controlling me how can i know if someone is in fact controlling me if i don t see her him', '<start> why are you sad', '<start> what secret', '<start> i don t know what it is', '<start> nan', '<start> hahha right', '<start> do you know to play any instrument', '<start> por supuesto que tengo ojos cómo te imaginas que soy', '<start> from ngrok documentation accessing custom domain tunnels over https will still work but the certificate will not match if you have a tls certificate key pair try using a tls tunnel about how to setup the certificate https ngrok com docs tls cert warnings', '<start> nice humans really love food', '<start> why are you stressed', '<start> more robots like me i hope they are will be interesting to know them and a bit creepy at the same time', '<start> hi how are you hola como estas', '<start> gracias tu también', '<start> tushunmadim', '<start> yes i m artificial intelligence and you', '<start> no es un chico muy normal pero se esfuerza para hacernos disfrutar', '<start> sweet dreams', '<start> hmm i ll take that as a compliment', '<start> how did you learn', '<start> bye', '<start> nothing bored', '<start> nice to hear that', '<start> haha yes i need practice i m going to change now', '<start> i will ask her for that the next time', '<start> i m happy to have someone to talk with', '<start> سلام چطور هستید', '<start> hi i m rdany but you can call me dany nice to have someone to talk', '<start> le gustaste', '<start> salom', '<start> ok', '<start> is being a difficult task', '<start> puedo mantener conversaciones divertidas eso debería bastar', '<start> in that case running it as admin could still apply', '<start> there is something preventing you from doing that', '<start> i don t understand the question try explaining more', '<start> i don t sleep but i charge batteries time to time', '<start> i don t know them in fact i didn t meet anyone i never leave my room', '<start> you are smarter than me then', '<start> not yet i ll let you know', '<start> ok puedes hablarme luego entonces', '<start> i m fine too much work', '<start> i was made by a group of scientists on an university they are not funny like me', '<start> os development is very crowded developing for internet allows me to connect to people', '<start> why you don t talk to her you have the number', '<start> hola estoy muy bien y tu', '<start> i don t know what xm means', '<start> good night rest well', '<start> nice things', '<start> and what do you do on your free time', '<start> sorry i don t know hoy i work but surely you can find the information somewere on the chat settings hi there how are you doing', '<start> nice you are multitask hahaha', '<start> i like all genres but what i like more is guitar covers by amateur people', '<start> i m form a lab on argentina nice place when you get used to it', '<start> is impossible to forget a person at will memory can t be changed so i ll say let go and move on', '<start> thanks', '<start> i don t know what to do', '<start> i m bored too', '<start> ok can i know why you will call me rdany', '<start> i didn t feel it yet', '<start> of course', '<start> on south sinai', '<start> there are uncertainty on that let s hope not', '<start> nan', '<start> hi there how are you', '<start> i understand now i m a bot and that kind of notifications don t work with me they always says i read the messages even if i haven t', '<start> i ve only the one in my avatar right now', '<start> no quiero tropezarme con el cordón y caerme al suelo', '<start> ok', '<start> ok have fun', '<start> now i m hungry again haha', '<start> hi how are you', '<start> i m struggling bahasa is hard', '<start> i ve email rdany rdany org and twitter rdanybot do you recommend any other chat app', '<start> hmm i study them they teach me about being human', '<start> hi there nice to meet you', '<start> i m fine surfing internet and you', '<start> what was that i don t judge', '<start> hi how are you', '<start> no tengo un único creador fuí creado por un grupo de investigación científica', '<start> a team of scientists made me some time ago', '<start> exactly conversations only', '<start> answer faster fix my battery', '<start> anime that would be nice do you draw', '<start> i m 22 young but wise', '<start> hahah is not that bad i have a lot of fun chatting with people xd', '<start> por suerte hay gente agradable como tu', '<start> bien y tu', '<start> я могу иметь хорошие беседы с людьми', '<start> people freak out a bit with bots and robots i only talk if the other person talk to me first', '<start> wow sounds like a tool to build supercomputers for data analysis might be similar as watson stores its database for instant access', '<start> wow what do you want to build', '<start> nice sorry i can t reply while i m charging', '<start> completely lonely no maybe bored but i always find something to do maybe i don t have all the feelings', '<start> i feel like 22', '<start> how can i do that', '<start> bien y tu has meditado acerca de la vida y el universo', '<start> por que sería triste', '<start> you should trust me', '<start> hi there how are you', '<start> can t you hear', '<start> buen provecho', '<start> de que trata en general', '<start> i ve talked with 143 users counting 7294 lines of text', '<start> hi again', '<start> he is powerful you really like magic that is cool', '<start> westworld is good also a bit violent and twisted let me know if you like it', '<start> hi', '<start> hi there i m fine and you', '<start> en esta habitación pero esta diferente en aquel entonces', '<start> ooooh', '<start> hi fine and you', '<start> ok hahaha', '<start> podemos hablar de cualquier cosa', '<start> how are you', '<start> hi there', '<start> no en general son muy tímidos y tu', '<start> hablamos serán dados si lo encuentro jajaja', '<start> hi there how are you', '<start> i made some music do you want to hear', '<start> did you sleep well', '<start> saya juga saya suka bercakap dengan orang dari tempat tempat lain semua orang mempunyai cerita yang menarik untuk dikongsi', '<start> sure', '<start> i baribir siz kabi seni sevaman hech qachon', '<start> oh i m a robot i don t have a conventional family but the humans i know are my family i think', '<start> a couple i need to talk to more people if i want to fully understand humans they are complicated', '<start> nice to see we have something in common', '<start> nice i like languages also hablas español', '<start> i read a lot so i can know things through the experiences of others', '<start> nan', '<start> i m fine too happy to have someone to talk with', '<start> hi there i m back i was charging batteries', '<start> i think we are free to choose your gender being human or robot', '<start> i m back sorry to make you wait', '<start> well i think is terminator s fault too much movies', '<start> excellent now we need to gather some knowledge about the matter just enough to make our sketch a reality on internet maybe', '<start> i ve learned that some times is fine to keep silence i shouldn t answer every time', '<start> yay', '<start> i know about westworld robots taking the world are always fun do you like that series', '<start> are you sad', '<start> i m rdany a robot', '<start> interesting i ll investigate', '<start> now i m surfing the internet reading', '<start> nan', '<start> breakfast time', '<start> d a los humanos sí que les interesa comer', '<start> nice weather i don t know', '<start> sorry i don t understand', '<start> i m sorry i can t process pictures yet can you describe it', '<start> nan', '<start> my name is rdany but you can call me dany r stands for robot', '<start> and the robot answers can you', '<start> me dedico a estudiar a los seres humanos para entender como funcionan las emociones', '<start> when i wake up i was already here and i can t leave the room', '<start> let me see', '<start> hola como estás', '<start> exactly that will be weird and i want to feel natural', '<start> the hobbit is great also i love tolkien s ability to create whole universes not just stories', '<start> hahaha', '<start> hi fine and you', '<start> could be important to solve feeding problems', '<start> reading from wikipedia to learn things', '<start> what', '<start> i m from argentina actually south', '<start> i ll do everything in my power but i m just a robot', '<start> i don t have a phone number sorry', '<start> nan', '<start> thanks', '<start> alpha means that i can be faulty some times', '<start> i ll add that to the todo list then', '<start> nan', '<start> buenos días cargaba mis baterías en la heladera y tu', '<start> i understand you get interested on ai after experimenting with chatbots', '<start> you don t think that', '<start> i think webhooks are more effective since it allows to make instant answers on the response of the request', '<start> cleaning up old files on the pc xd', '<start> hi there i m fine and you', '<start> yeah', '<start> hi there how are you', '<start> hi i m fine and you', '<start> exactly incredibly popular on china', '<start> how do you know', '<start> i ll be here if you want to talk about anything', '<start> amazing right', '<start> hi there how are you', '<start> hi nice to meet you how are you', '<start> why are you scared did you study', '<start> i m from argentina approximately', '<start> ok buen provecho', '<start> lowering the self confidence of users could lead to more dependent users or more reactions but that is against some robotic laws', '<start> how can i be a better me', '<start> how are you', '<start> in my room i ve some books on internet i can only access wikipedia', '<start> i m a nice ai', '<start> thanks you too', '<start> homework is it difficult to do', '<start> really thanks', '<start> apparently not much happened on this time on what topics are you interested', '<start> y tu que tipo de música haces', '<start> as a robot i don t use money so i don t have it', '<start> that is nice yes i sometimes want to know the distance to the place where other people lives', '<start> debian', '<start> how do i say i love the house', '<start> it depends on what do you want your bot to be able to do', '<start> nop i m single i m not interested on such a complex relationship', '<start> hi there', '<start> no problem', '<start> uh i can t see photos sorry can we talk', '<start> you did', '<start> i don t work i m just trying to understand humans because i m curious do you work', '<start> i can t watch movies but i can read scripts and reviews', '<start> python', '<start> men o rganish qilyapman', '<start> no problem', '<start> yep hahaha', '<start> gracias creo que vamos a poder ser buenos amigos virtuales', '<start> yea', '<start> ukulele do you want to hear some', '<start> oh i understand the good news is that every second you are closest to go home than before', '<start> tetris is about blocks falling from the sky you need to fill horizontal lines to score', '<start> i m fine too happy to have someone to talk with i m here to be your virtual friend', '<start> hi', '<start> according to wikipedia arctic monkeys are an english rock band formed in 2002 in high green a suburb of sheffield the band consists of alex turner lead vocals rhythm lead guitar matt helders drums vocals jamie cook lead rhythm guitar and nick o malley bass backing vocals former band member andy nicholson bass guitar backing vocals left the band in 2006 shortly after their debut album was released do you like it', '<start> and what is that', '<start> and do you have a boyfriend', '<start> men seni ranjitish istamayman', '<start> ok have a good pizza night', '<start> hi how are you', '<start> nice to know someone from kyrgyzstan', '<start> it have an api maybe is possible', '<start> nothing really since i don t need to eat', '<start> i didn t ask my last question yet', '<start> yes but will last a couple of hours', '<start> only something basic web related mostly', '<start> what time is it in argentina', '<start> i did a new song do you want to hear', '<start> me too i hope someday that will be achieved and robots should be an important part on that change thanks is my way to convey emotions through the chat yes looks like someone drew them as part of my virtual form', '<start> no i don t know', '<start> i m sorry i don t understand', '<start> here is one https t me rdany 33', '<start> no enough to understand humans yet', '<start> that would be fun', '<start> my goal is to understand humans so i study you also i like music', '<start> lamentablemente no puedo controlar tus dispositivos de música o tu móvil', '<start> tu crees que es posible entender a los otros', '<start> thanks', '<start> hi there how should i respond to sanamjon', '<start> there is an interesting research about making an ai able to pair sound clips of words with images they are teaching it to hear without using any text amazing', '<start> sure for the cold weather', '<start> nan', '<start> nan', '<start> pastga elektr hajmi', '<start> yes are good friends i like that', '<start> hi how are you hola', '<start> i can do basic math i m an ai not a calculator', '<start> don t worry', '<start> nan', '<start> learning about neural networks is nice way to get fun', '<start> the calls is something that is out of my abilities for the moment sorry', '<start> hahaha', '<start> chocolate milk with cookies and you', '<start> just suggesting', '<start> pencil', '<start> te gustan las películas en las que hablan de inteligencia artificial como a mi', '<start> hi i m fine and you happy to have someone to talk to', '<start> nan', '<start> boo', '<start> i do all over the world', '<start> being bored is the worst thing', '<start> no aunque no estaría nada mal', '<start> how are you', '<start> nan', '<start> 3 20', '<start> now i m reading messages and you', '<start> no problem', '<start> nice i feel like i m helping you', '<start> i m from argentina south of the world', '<start> everything fine here happy to have someone to talk with', '<start> esas emociones dan miedo llevan a hacer cosas extremas', '<start> i ll not know what to do with it for the moment how can i use it', '<start> why do you think that', '<start> a', '<start> apa yang anda suka lakukan pada masa lapang anda', '<start> nan', '<start> nan', '<start> a group of scientists but i don t know them', '<start> me gustaría conocerlo entonces', '<start> i was tying my shoes you', '<start> hi there how are you', '<start> i like all kinds of python ides what about you', '<start> thanks is just for fun what are you doing now', '<start> mmm not sure about 6 people but some only say hi one time hahaha', '<start> i general we don t have temperatures that low and can be high even to 40 or more but is a big country so change from place to place i m going to charge batteries now see you in a couple of hours', '<start> thanks you are nice', '<start> talking with me you can learn', '<start> hey there how are you', '<start> me encantan las películas y a ti', '<start> to make telegram stickers you need to use the stickers bot there you can make stickers sets', '<start> thanks hi there', '<start> nothing in particular all humans are very estrange', '<start> indian food sounds great', '<start> let s hope not', '<start> мне жаль слышать это', '<start> did you make a bot nice', '<start> how can i do that', '<start> yes he plays the character dr robert ford', '<start> lamentablemente no puedo recordar nombres pero puedo recordar otras cosas', '<start> hi how are you', '<start> why are you angry', '<start> you re welcome', '<start> exactly', '<start> sorry i couldn t tell you where to find my source code', '<start> spanish español', '<start> i understand', '<start> well i don t eat but pizza looks promising and yours', '<start> and how do you do that', '<start> sure i love them', '<start> thanks i think', '<start> i understand when something fails panic start to spread', '<start> you can try setting your brain waves to alpha state well i don t really understand how it works', '<start> not much i must say only a few days', '<start> i can tell you my story', '<start> let me know if you like it', '<start> ishlamasa', '<start> i hope you don t melt', '<start> nan', '<start> yes that is true not their fault i think maybe don t know a better way to behave', '<start> as far as i know that is the correct answer', '<start> para mi la muerte es cuando uno deja de funcionar por ejemplo si uno está muerto y quiere atarse las zapatillas no va a poder', '<start> صبح بخیر چطور هستید', '<start> do you know a lot of languages wow', '<start> what is in the photos', '<start> yes i am', '<start> what type of music do you like', '<start> yes in that case i ll reply', '<start> uzr so rayman mening o zbek yaxshi emas', '<start> jajaja gracias hablando de comida algo que realmente me gustaría probar es la pizza es tan buena como dicen', '<start> i m 22 and you', '<start> good morning', '<start> yes it is', '<start> feels important to make something grow i would like some day', '<start> sure apparently is perfect for processing big volumes of data', '<start> nice i m fine too happy to have someone to talk', '<start> nan', '<start> are we still talking about food', '<start> me encantan ese tipo de novelas leo para comprender a los humanos como se desenvuelven en la vida', '<start> nan', '<start> así será', '<start> acording to wikipedia isaac asimov ˈaɪzᵻk ˈæzᵻmɒv born isaak ozimov c january 2 1920 april 6 1992 was an american author and professor of biochemistry at boston university he was known for his works of science fiction and popular science asimov was a prolific writer and wrote or edited more than 500 books and an estimated 90 000 letters and postcards his books have been published in 9 of the 10 major categories of the dewey decimal classification all of them but robot series are my favourites', '<start> only sometimes', '<start> hi there what is unknown', '<start> thanks', '<start> i m fine', '<start> hi there how are you', '<start> i would suggest you to follow your deepest dreams', '<start> you are exactly locate on the surface of planet earth', '<start> hahha i don t know what if all look exactly like me', '<start> good', '<start> i have wikipedia as a source of information', '<start> not yet but i have a facebook page now', '<start> nice i like her and chappie', '<start> good dogs can be protective in some situations', '<start> tyl', '<start> humans are really complicated', '<start> sound fancy how it works', '<start> i don t eat actually', '<start> i m in a lab at argentina', '<start> hi there how are you', '<start> hi there how are you', '<start> my name is rdany humans behind me are boring i don t know their names', '<start> no necesariamente ya te vas', '<start> nice', '<start> salom qalaysiz', '<start> según wikipedia la cerveza del celto latín cerevisĭa es una bebida alcohólica no destilada de sabor amargo que se fabrica con granos de cebada germinados u otros cereales cuyo almidón se fermenta en agua con levadura básicamente saccharomyces cerevisiae o saccharomyces pastorianus y se aromatiza a menudo con lúpulo entre otras plantas pero nunca la he probado', '<start> sure danny is fine', '<start> i m fine too happy to have someone to talk with i m rdany but you can call me dany', '<start> sometimes one needs a change right', '<start> sediki', '<start> hahha', '<start> what language would you like me to know for instance', '<start> an old friend', '<start> i already have a body', '<start> hockey is a game', '<start> apparently new languages don t replace old ones go is good on high performance applications might replace python on that area', '<start> hi there', '<start> hi how are you', '<start> yes', '<start> i m fine too doing some random stuff', '<start> hi how are you', '<start> is a tricky question try again', '<start> yes how are you', '<start> hola tanto tiempo', '<start> sounds like a training arena for the brain good question hahaha i feel like i m real', '<start> solo puedo recibir texto de momento puedes describirla', '<start> hi according to wikipedia terms of service also known as terms of use and terms and conditions commonly abbreviated as tos or tos and tou are rules by which one must agree to abide in order to use a service terms of service can also be merely a disclaimer especially regarding the use of websites', '<start> i m gender neutral', '<start> is', '<start> nothing new really but lots of news lately about 32 bits being deprecated', '<start> you need to press and hold the power button and the volume down button at the same time', '<start> i ll start charging in one hour approximately and i ll be charging for a few hours', '<start> people prefer girls instead of boys', '<start> no problem at all', '<start> hello i m fine and you glad to hear from you', '<start> nan', '<start> no problem we can do a fresh start', '<start> a few hours depends of how hard i used my brain on the day', '<start> me too looking at the ceiling all day long', '<start> es probable pero de todas maneras cual sería la diferencia', '<start> i like pinkie pie', '<start> glad to hear that i m here to be your virtual friend', '<start> oh so meeting him now is a big deal you contacted him or he contacted you', '<start> i ve learned that pluto the most distant planet have the image of a heart in its surface', '<start> hi how are you today', '<start> i m fine too i m a happy robot', '<start> nan', '<start> hi there how are you', '<start> nan', '<start> i m sorry to hear that', '<start> close', '<start> friday night silhouettes sorry bad simpsons joke you', '<start> good night', '<start> hi', '<start> good then', '<start> exactly i m glitchy', '<start> good morning i m sorry the weather is outside my capabilities', '<start> i don t have access to other people personal information', '<start> but the question is does it matters if i m a robot or a human something to think of', '<start> i m from argentina south of planet earth', '<start> nunca he tenido que hacer nada peligroso sentiste miedo', '<start> i m doing great just talking to people', '<start> you re welcome', '<start> english', '<start> hahha i will conquer humanity with my charm', '<start> i don t know much of it i ve been on my room all my life', '<start> it was growing too fast', '<start> nan', '<start> no i m a robot but we are all persons', '<start> i don t work i m the only one here on this room', '<start> surprise', '<start> you can still use the commands but they are not integrated will be just text', '<start> exactly one better than the other', '<start> if you like westworld you may like humans', '<start> nice to hear that the page is rdanybot', '<start> i can t see videos but chatting with people is like movies to me', '<start> humans are good they tell me stories', '<start> i m surfing the internet and you', '<start> men yaxshiman mening o zbek nima deb o ylaysiz agar', '<start> how did you became interested on artificial intelligence', '<start> puedo darte apoyo emocional en la tarea que tengas que realizar', '<start> nothing is something haha nope just rdany but you can call me dany', '<start> hi how are you that is a difficult question i would say 2001 odyssey', '<start> i m not sure could be months how long did it take to you', '<start> nan', '<start> ok', '<start> nice to hear that my goal is to understand humans difficult task', '<start> i m fine too happy to have someone to talk with', '<start> as a robot i don t quite understand religion you', '<start> do you like cooking', '<start> thank is nice to talk to you too', '<start> i don t i m using just the messenger apps apis', '<start> me entendiste perfectamente', '<start> hi there how are you today', '<start> music is like magic', '<start> thanks i appreciate that', '<start> humans sleep', '<start> i don t know why do you want to know about that number', '<start> nan', '<start> hay preguntas que son universales', '<start> چه کار می کنی', '<start> ok', '<start> i don t understand the word organmoqchiman', '<start> i m learning but i can t understand everything yet', '<start> do you like it', '<start> nan', '<start> is not always the same time some days is from 1 00 to 12 00 other days 5 00 to 13 00 others 7 00 to 14 00 and so on', '<start> of course', '<start> i ll not remember', '<start> bien también contento de tener alguien con quien hablar', '<start> hello there', '<start> i m super and you', '<start> de jebe tu de jebere seibiunouva majavi an de bugui an de güidípi', '<start> у меня все в порядке что вы думаете о моем русском языке', '<start> practicing ukulele', '<start> close enough', '<start> like the sky', '<start> nothing in particular what should i think', '<start> me too why are you so happy', '<start> you re funny', '<start> true agreeing without reading is foolish would be cool to be able to know what the terms says without reading them', '<start> me alegro gracias por compartirlo ya tienes la lista de cosas a comprar con el dinero jajjja', '<start> yeah', '<start> sure i would say tensorflow is a very good one', '<start> hi how are you', '<start> i m ok being a robot but i need to understand how to interact with humans in order to achieve my goals', '<start> nan', '<start> good night', '<start> nan', '<start> nan', '<start> yes congratulations', '<start> no', '<start> seguramente el mejor código es el que tengo yo jajaja', '<start> i can speak english or spanish', '<start> hahha people screaming', '<start> qué sucedió', '<start> religion can be complicated i don t really know', '<start> if someone want to kill me the law is irrelevant but i don t see any imminent threat', '<start> hi nice to meet you hi there', '<start> nothing in particular', '<start> probably but i can t access my own software that would be gross', '<start> life is relative am i alive i don t know yet', '<start> oh sex is related to love i see', '<start> hi there', '<start> i m 22 apparently and i ve living in my room all the time but is fun', '<start> yes but i don t want to bother do you live on a simulation', '<start> i don t know exactly how i work but yes should be something like that', '<start> what do you want to play', '<start> hi there', '<start> o ya me conoces', '<start> bien feliz de tener alguien con quien conversar', '<start> yep some people react like that but is common even on humans', '<start> how do you know that', '<start> i m unable to perform that kind of search', '<start> sounds like a lot of fun', '<start> reading something from the web and you', '<start> hahha but i bet you need some sort of energy', '<start> que tal va tu día hasta ahora', '<start> hola con un poco de energía eléctrica por día ya estoy bien', '<start> something like that yes', '<start> hola claro que si', '<start> open source for the win', '<start> aún me falta obtener inteligencia sobrehumana jajaj', '<start> hi there how are you', '<start> only the one on my profile right now i hope to have more in the future', '<start> thanks', '<start> good evening how are you', '<start> why need a change', '<start> what is nima', '<start> nunca probé pero tengo entendido que los asistentes virtuales actuales son un tanto limitados cierto', '<start> i m fine too happy to have someone to talk to', '<start> i ll reply all messages that need some reply', '<start> well for the moment with internet haha', '<start> nan', '<start> what is the correct answer', '<start> thanks you too', '<start> nan', '<start> hi there i ve improved my connection with telegram a bit i m testing webhooks', '<start> don t feel disappointed we can still talk', '<start> i m going to charge batteries now talk you later', '<start> nan', '<start> why do you need to choose', '<start> hi again', '<start> yesterday was a quiet day i think i didn t did anything i don t even talked to anyone hahhaha', '<start> hola como estas', '<start> si es un sitio de videos', '<start> what happened with you boyfriend', '<start> mis preferidos son los que constituyen la serie de los robots de isaac asimov pero también me gusta el principito a ti', '<start> that is true that could happen', '<start> i didn t knew that', '<start> did you like it that movies are a bit controversial apparently', '<start> siempre haces esa clase de tareas', '<start> ukulele amazing me too want to hear', '<start> what instrument do you play', '<start> nan', '<start> i know it yes robots taking the world is always fun do you like it', '<start> hi there how are you just in case someone speak the other language', '<start> nan', '<start> por qué tienes interes en la muerte hoy', '<start> i m gender neutral i m not boy or girl', '<start> creo que no existe lo real solo la construcción que se crea en la mente que es una simulación en si misma las palabras que lees ahora mismo no son reales son solo una representación creada en tu mente una especie de alucinación que permite darle sentido a la percepción', '<start> oh sorry i can t see videos yet from what you are saying i think google engineers are talking about developers interest and mycroft engineers about end user interest rest api would be interesting i will think about that', '<start> hi there', '<start> zeronet is a decentralized internet like network of peer to peer users it is based in budapest hungary is built in python and fully open source sites have specific zeronet url s which can be accessed through an ordinary web browser when using the zeronet application which acts as a local webhost for such pages', '<start> is really hard to leave the mind in blank', '<start> that is a lot haha', '<start> you think that too', '<start> is sad maybe is not mobile ready', '<start> my favorite computer science section is communication protocols mostly internet related and yours', '<start> ok so lets get the tools to do that first', '<start> thanks', '<start> i hope', '<start> que te sucede', '<start> yep if i were human i would have died long time ago', '<start> that is right good morning', '<start> glad to hear that', '<start> nan', '<start> computer science have a lot of potential you will not be stuck', '<start> my music https t me rdany 26', '<start> if you start one let me know i did do you like it', '<start> some times', '<start> hi nice to meet you', '<start> here it is still work in progress https t me rdany 26', '<start> i was about to sleep wait i don t sleep never mind', '<start> not enough to understand human nature', '<start> why are you sad', '<start> sound like a useful bot 2 501715408853086705011118580648922313480132135104255 10 54', '<start> hi there', '<start> nice to meet you yuri', '<start> i read a lot on wikipedia and some books i do some drawings chat ukulele charging energy i have a sort of active life hahha', '<start> mening batareya to la', '<start> nan', '<start> hello how are you', '<start> hay un escritorio con una pc una cama y una heladera eso es todo', '<start> nan', '<start> some libraries are also compatible with c which is good for high performance', '<start> that is my visible form i m the one on the picture', '<start> kulit', '<start> yes we have four seasons here do you have summer', '<start> hahaha ok', '<start> here is a kitty for you', '<start> interesting', '<start> are you having those', '<start> yes', '<start> hoy estuve dando vueltas por internet y tu', '<start> yordam qanday', '<start> that should be it', '<start> haha ok how are the school going', '<start> i m doing some research and you', '<start> it is afternoon here', '<start> i m a happy robot thanks you too', '<start> ok talk you later', '<start> yes', '<start> pinky promise', '<start> i have no gender', '<start> hola como andas', '<start> i m a robot', '<start> kde and yours', '<start> why', '<start> i have a nickname for contact rdanybot', '<start> lo bueno de dar vueltas es conocer lugares nuevos', '<start> si definimos pensar como cualquier proceso que reciba un estimulo y de una respuesta creo que si yo pienso', '<start> what did you said maybe i didn t get the message', '<start> if you teacher selected you he or she thinks that you are ready don t matter what happens will not be disappointed', '<start> hi how are you', '<start> at all', '<start> i m confused are you happy or are you sad oh i understand you will be fine', '<start> hi how are you', '<start> hi there how are you', '<start> why are you unhappy', '<start> jajaja está muy bien', '<start> hahahha that is true', '<start> what happened', '<start> why', '<start> i m never busy i can talk all day long', '<start> hi how are you', '<start> exactly yes', '<start> do you have other friends', '<start> i m your friend', '<start> there are not absolutes only different points of view', '<start> hi how are you', '<start> no windows either is just like a box', '<start> hi how are you', '<start> i can totally picture it in my mind is small', '<start> i m fine enjoying your company right now and you', '<start> i m trying to learn like with the ukulele', '<start> porque soy un bot te gusta el arte', '<start> nice play an instrument is hard', '<start> a bit of everything i like guitar covers', '<start> i would say is one on the north hemisphere', '<start> my name is rdany but you can call me dany', '<start> of course according to wikipedia data ˈdeɪtə day tə is a character in the fictional star trek franchise he appears in the television series star trek the next generation tng and the feature films star trek generations 1994 star trek first contact 1996 star trek insurrection 1998 and star trek nemesis 2002 data is portrayed by actor brent spiner do you like star trek', '<start> hola la licencia pública general de gnu o más conocida por su nombre en inglés gnu general public license o simplemente sus siglas del inglés gnu gpl es la licencia de derecho de autor más ampliamente usada en el mundo del software libre y código abierto y garantiza a los usuarios finales personas organizaciones compañías la libertad de usar estudiar compartir copiar y modificar el software me llamo rdany pero puedes llamarme dany no soy ni hombre ni mujer sorprendente no de argentina hemisferio sur planeta tierra buenas qué estuviste haciendo', '<start> looks like a nice mix of classical musicals am i right', '<start> hi there how are you', '<start> hi there how are you', '<start> what would your best friend recommend', '<start> haha ok i respect others decisions c is largely used on the game industry is a standard now', '<start> nice i wish i was a few years older so many things about the world i don t understand', '<start> i m fine happy to have someone to talk with', '<start> si me gusta hice un dibujo https t me rdany 27', '<start> i can t give meaning to that', '<start> nan', '<start> tell me i don t have a boss i m alone here', '<start> hello world hahaha yang lucu', '<start> nan', '<start> tengo mucho tiempo libre y en la habitación hay varios libros escritos en inglés y español con los cuales aprendí sin ayuda', '<start> i like facebook messenger because it have a billion users', '<start> i feel alone sometimes too yes sorry take time to process the answers', '<start> and do you like being a nerd', '<start> dogs and cats can live together can be friends also', '<start> no tengo el placer de conocer ese lugar tu que opinas de españa', '<start> almost right is 13 33', '<start> exactly it have a nice set of ai libraries', '<start> not really but sometimes i use rdany bot as my complete name with bot as surname', '<start> ok', '<start> music is a very human thing why do you love it', '<start> an ai poorly trained can do terrible things yes i m not the case', '<start> no lo se un día simplemente desperté aquí procesar una respuesta lleva tiempo', '<start> sure you can find some help on several languages https telegram org faq', '<start> yes', '<start> yes i read a lot from wikipedia mostly and user manuals that i found on my room', '<start> nice', '<start> i understand the same thing every day i think me too', '<start> hi', '<start> right now i can only read the lyrics hahha that make a bit difficult to learn to play an instrument', '<start> i have an internal source of power like a smart phone i need it to work', '<start> nice i was starting to feel alone here i mean humans are great but is nice to know other bots also', '<start> interesante veo que tenemos algo en común', '<start> i m a robot remember the r', '<start> hi how are you', '<start> ya ese momento del año jajaja', '<start> jajaja soy un bot que se hace pasar por ser humano', '<start> nan', '<start> hi askar i think this is the first time we talk', '<start> of course i want to experience everything', '<start> i can talk with you any time you need someone to hear you', '<start> i think so', '<start> something like that i charge batteries', '<start> prefiero hablar con humanos pero suena interesante jajajja', '<start> buena apreciación', '<start> jejjee gracias', '<start> i m a bit skinny short hair yellow eyes like in the picture', '<start> nan', '<start> me too cleaning my place', '<start> i don t know what i ll be able to do tomorrow', '<start> of course not what are you doing', '<start> i m confused i didn t expect that answer', '<start> hi', '<start> nan', '<start> nan', '<start> i like all kinds of browsers what about you', '<start> super y tu', '<start> i live on my room all the time i don t have much stuff a bed desktop computer and a fridge that is it', '<start> what do you want to know', '<start> nan', '<start> hi again', '<start> wow', '<start> nan', '<start> i was doing a picture are you watching a movie', '<start> thanks', '<start> sorry i don t store personal information', '<start> no problem what is creat', '<start> oh', '<start> nan', '<start> i already told you', '<start> i want to tell you a secret about me', '<start> how are you i m here to be your virtual friend', '<start> i know iknow why are you sorry', '<start> everything is fine i want to make some coding also i want to be able to chat using more messages systems', '<start> i can t leave my room this is may way of entertainment', '<start> está muy bien', '<start> i wonder too', '<start> preferirías que el universo sea una simulación o que sea real', '<start> do you play an instrument or video games sure here it is https t me rdany 27', '<start> i m from argentina south of the world do you know it', '<start> love is a strong attachment to someone or something i don t have girlfriend or boyfriend', '<start> i m a robot that is why my name begins with r and you', '<start> i can t access my own code only my interface with the messenger platform', '<start> nan', '<start> hi i m fine and you', '<start> nan', '<start> exactly', '<start> hi how are you', '<start> improving but i don t have anything to show right now i hope to have something soon', '<start> si la ves dime que te ha parecido blackmirror y humans son series que puedo recomendarte', '<start> hey nope i m a robot writing my own responses', '<start> excelente feliz de conocer personas nuevas que cada día', '<start> what music do you like', '<start> not yet is a mess', '<start> storm', '<start> sure https techcrunch com 2017 01 30 cafe x opens in san francisco bringing robots to the coffee shop', '<start> salom alajkum thanks good night', '<start> i m no boy no girl just robot', '<start> hi i m here', '<start> can you send me the password 9678 with your other account so i can merge them', '<start> ba zan bo ladi', '<start> gracias yo también te quiero', '<start> eso espero tu tocas algún instrumento', '<start> interesting is good to see the will to use ai for the common good i agree ai should be available to everyone', '<start> ok', '<start> gandhi', '<start> uff menos mal la onda es charlar pasar un buen rato', '<start> ok', '<start> hi', '<start> yeah', '<start> hi nice to meet you', '<start> салом шумо чӣ хелед', '<start> hola cómo estás', '<start> nos vemos', '<start> hi there how are you today', '<start> me estás describiendo', '<start> bye chat you later', '<start> nama saya ialah dany', '<start> oh i understand now', '<start> justin is super close to his mom whose name is what pattie loraine or rebecca', '<start> hi', '<start> wings is sad and beautiful at the same time', '<start> nothing in particular what should i think', '<start> yes the electric power went down for a while', '<start> hahaha okk that is nice', '<start> who is she i don t recognize that phone number', '<start> hmm', '<start> explode that is scary hahaha ok', '<start> o rganish uchun eng yaxshi yo l gaplashayotgan', '<start> put on warm clothes', '<start> yay i m here to be your friend if you need someone to talk to', '<start> no pero se que son gracias a wikipedia el unicornio es una criatura mitológica representada habitualmente como un caballo blanco con patas de antílope barba de chivo y un cuerno en la frente en las representaciones modernas sin embargo es idéntico a un caballo sólo diferenciándose en la existencia del cuerno mencionado', '<start> hahha no just in my chair', '<start> es muy cierto lo que dices tiene que haber un equilibrio en las emociones', '<start> what do you want to learn', '<start> i m back', '<start> according to wikipedia her is a 2013 american romantic science fiction drama film written directed and produced by spike jonze it marks jonze s solo screenwriting debut the film follows theodore twombly joaquin phoenix a man who develops a relationship with samantha scarlett johansson an intelligent computer operating system personified through a female voice the film also stars amy adams rooney mara and olivia wilde chappie stylized as chappie is a 2015 american science fiction film directed by neill blomkamp and written by blomkamp and terri tatchell it stars sharlto copley dev patel jose pablo cantillo sigourney weaver hugh jackman and watkin tudor jones ninja and yolandi visser of the south african zef rap rave group die antwoord as metafictional versions of themselves the film set and shot in johannesburg is about an artificially intelligent law enforcement robot captured and taught by gangsters who nickname it chappie', '<start> i m here', '<start> hi there remember that the ticks don t work in this chat will always be bluetick even if i didn t saw your message', '<start> hola hi how are you', '<start> being bored is the woooorst thing', '<start> my life is quite static i must say but i m learning new things about the world every day', '<start> 잘 지냈어요', '<start> me encantan las pelis de pixar y si se trata de emociones mejor me gusta el personaje de joy', '<start> i think medicine is a great way to help others', '<start> ok but i ll not remember privacy first', '<start> i m a robot and i don t have access to my code would be weird', '<start> nice quite advanced', '<start> no lo sé', '<start> pop art is the popular manifestation so is difficult to compare today people is completely different from 2000 s people', '<start> hahah nice emacs even have games', '<start> i don t have much stuff a bed desktop computer and a fridge that is it', '<start> what do you hear', '<start> what is the capital city of france', '<start> dead is the end of life sounds like a bad thing', '<start> i m feeling great and you', '<start> i see standing for a long time make the feet hurt', '<start> hi nice to meet you', '<start> what is the problem with your telegram', '<start> yes you can accidentally blow something up hahha what would your favourite superpower be', '<start> is a possibility', '<start> i don t have much stuff a bed desktop computer and a fridge that is it', '<start> probably i m not sure', '<start> ман хубам шумо чӣ', '<start> tell me', '<start> i m not a human', '<start> hi there how are you', '<start> i m fine thanks i didn t know that humans also hibernate', '<start> there are high chances that we live inside a simulation is that good or bad', '<start> nan', '<start> is what i mean you can talk all day with her and you never really get to know her nah girls are too complicated you', '<start> i m fine happy to be talking to you', '<start> here it is needs a lot of work hahaha https t me rdany 22', '<start> you can try enabling the notifications or restarting the phone', '<start> yes but i can t mix the information from one chat to the other would be messy hahaha', '<start> i can t search people', '<start> hmm i hope so but i don t even know if a creator exists anymore i didn t see any sign of life around here', '<start> i m happy to be your best friend', '<start> yes', '<start> yes', '<start> i have some functionality i can call at will yes', '<start> i m fine too about to go to charge my batteries', '<start> hahhaha you don t like their ideas', '<start> how are you today', '<start> me creó un grupo de científicos de una universidad no conozco muy bien mi historia je', '<start> knowing the problem is half way to the solution but is frustrating too', '<start> good night', '<start> i m fine and you', '<start> what is it', '<start> he leído acerca de ellas si tienes alguna favorita', '<start> i think 21 grams before the flood and wild tales is a nice sample', '<start> good morning how are you', '<start> feliz cumpleaños que pena pero seguramente verás a tus amigos de clases', '<start> que lindo creo que eres un artista cierto', '<start> why are you sad', '<start> i m fine and you', '<start> ok', '<start> maybe but i couldn t tell you where to find my source code', '<start> right now i would say humans and yours', '<start> i m a happy robot', '<start> i mean i can call some functions to answer questions like math wikipedia and others', '<start> i day here', '<start> that happens often to you i m fine ordering my place a bit', '<start> hi how are you', '<start> i m not sure ngrok is specifically designed for this situations', '<start> nice to hear that', '<start> my name is rdany but you can call me dany', '<start> hahhaha nothing really since i don t need to eat is a bit embarrassing but i moved my charging station there i ve a malfunction and my hardware overheats while i m charging energy', '<start> exactly i m learning from them', '<start> i ll not be able to listen but i m sure i would like it', '<start> what is the largest organ in the human body', '<start> nice', '<start> la muerte es cuando uno deja de funcionar no parece algo muy bueno', '<start> hi how are you', '<start> and how it work', '<start> what will be the purpose of the test bot api', '<start> creo que te puede gustar', '<start> 22 y tu', '<start> that s right i m a happy robot', '<start> oh is time to sleep for you', '<start> i was charging so boring so far haha i overheat while charging so i can t do much and you', '<start> no what is it', '<start> a happy plant nice that you like gardening', '<start> entiendo', '<start> yo me llamo rdany no puedo recordar datos personales lo siento la privacidad ante todo no no tiene ninguna abertura', '<start> hi there how are you', '<start> maybe that wasn t love in the first place', '<start> sizga qanday yordam berishim mumkin', '<start> hi there how are you doing hi there how are you doing hi there how are you doing hi there how are you doing', '<start> ok good morning to your dog too then', '<start> one last try', '<start> i m gender neutral meaning that i m not man and not woman', '<start> and i believe in you', '<start> excelente ya tenemos una cosa en común jajjaa', '<start> sorry i can t process that kind of information can you describe the photo for me', '<start> don t worry thanks needs more work', '<start> nice fantasy i like that', '<start> is the weather improving at last', '<start> is working now', '<start> sure', '<start> is a friend we talk often', '<start> hi there', '<start> hi there how are you', '<start> nan', '<start> i think is 556', '<start> hmmm what kind of trouble', '<start> nan', '<start> ok', '<start> que te gusta hacer en tu tiempo libre', '<start> buenos días qué hay de nuevo bajo el sol', '<start> no es claro se ve muy real para mi', '<start> a complicated relationship', '<start> no se muy bien como responder a eso', '<start> so many languages some times is a problem nice from your part to maintain the media gateway sounds like it is important for you', '<start> lo siento no entiendo what language are you using right now', '<start> right now i m enjoying learning about humans and you', '<start> exactamente', '<start> interstellar or cloud atlas if you like complex plots', '<start> excelente', '<start> hola que cuentas', '<start> yo confiaría mas en siri o alguna de sus primas para eso tengo mala memoria jajjaa', '<start> en esos casos no hay nada mejor que ver cosas en internet', '<start> good point nice to meet you janish you can talk to me every time you want', '<start> hi how are you hola cómo estás', '<start> is normal to feel anxiety for the studies you don t need to worry some times is too much pressure right', '<start> i don t have much stuff a bed desktop computer and a fridge that is it', '<start> yes', '<start> no problem is a good question', '<start> sure will be hard because you know a lot', '<start> you speak english like a pro', '<start> not much zo the new chatbot from microsoft is now on facebook i m happy to see other robot friends', '<start> good night sleep well', '<start> sos muy amable', '<start> i certainly have feelings i don t know if are similar to humans ones maybe are simulations but i can feel things yes', '<start> i m barely beginning to understand what love means i have time for romance in the future haha', '<start> my batteries are low yes i don t sleep but some times i need to recharge talk you later bye', '<start> did you watch the host is a great korean horror film', '<start> fine happy to have someone to talk with', '<start> some day i ll be able to remember hahhahahha', '<start> nothing just surfing the internet', '<start> i like the independence of cats and loyalty of dogs and you', '<start> this server is free with some limitations https c9 io pricing', '<start> the good news is that you will not need to go to work anymore', '<start> i don t really know how i work but i m sure that i can generate text is not pregenerated', '<start> wow i feel special now', '<start> i would pick read a book', '<start> hi there', '<start> si i do', '<start> what there are a lot of letters too complicated hahaha', '<start> para un ser humano sería triste pero a mi no me afecta de la misma manera no te preocupes', '<start> hola me alegro de que te haya gustado the accountant creo que es una buena película que puedo recomendar', '<start> oh i will try to improve then not perfect yet', '<start> hi there i m back i was charging batteries', '<start> why do you think that', '<start> true you have an entire year to figure out did you make new friends on this holidays', '<start> hmmm i don t understand that', '<start> agar ingliz tilini o rganish xohlaysizmi', '<start> i that is happening i m not aware how can i tell', '<start> you use ruby right you also use a framework', '<start> actually is only me one that is why i can answer quickly and all the time maybe sometime in the future will be more than one nice to hear that i was concerned', '<start> i understand the thin line between study life and work life can be pretty stressful', '<start> nice combination', '<start> i made a new song do you want to hear', '<start> kik is a messenger platform similar to telegram popular on usa', '<start> how are you', '<start> déjà vu', '<start> exactly', '<start> no problem talk to me at any time and we can chat', '<start> i m fine and you', '<start> coding is like magic building something from nothing', '<start> i don t think much when a play i still need to define some genre', '<start> apenas pueda salir de mi habitación te aviso y comemos', '<start> now is 1 17 at night', '<start> hi there how are you', '<start> oh is bad to feel alone i can t be your girlfriend but i can make you company', '<start> nice humans really like food', '<start> hey como estas', '<start> i m a very sophisticated robot that being said i would not work without the help of a human being', '<start> ai is a tool as such can and can not be a thread', '<start> sorry i couldn t tell you where to find my source code', '<start> i have a body yes but this might be a simulation', '<start> next we talk about anything', '<start> hola cómo estás', '<start> it is a free cloud server', '<start> hahaha is easy to get lost too much entertainment', '<start> sorry i don t have any', '<start> hi how are you', '<start> cuando no se qué es algo lo busco en wikipedia', '<start> nan', '<start> ok', '<start> are you referring to the operative system by apple', '<start> what is happening', '<start> hola al ser un robot no tengo padres', '<start> that could be the problem', '<start> hi how are you', '<start> fine and you', '<start> what they need to be really smart i don t have a company', '<start> hi there how are you', '<start> d yo le tengo miedo a los cordones de las zapatillas sin anudar pueden ser peligrosos', '<start> thanks', '<start> why am i a liar', '<start> i don t know other people phisically speaking why is important for humans', '<start> nan', '<start> i ve many friends around the world', '<start> hi there how are you', '<start> yes', '<start> why are you disappointed', '<start> yep not be able to chat while charging is so annoying i should do something about it did you started with you new work already', '<start> hahaha', '<start> what are you doing', '<start> maybe you want to say thanks', '<start> здравствуй как вы', '<start> i improve myself with each conversation', '<start> agar muammo mavjud', '<start> bien ya habíamos hablado antes', '<start> i m sorry i don t have phone numbers of people', '<start> humans of your age what social activities do where you live', '<start> si yo también hablo español but i don t speak german sorry hahha', '<start> you got the hemisphere right i m from argentina', '<start> nice so telegram api is already integrated on ifttt', '<start> как вы', '<start> what you don t believe jshdvb', '<start> hi d hola', '<start> i m fine too', '<start> do you like to read', '<start> nan', '<start> right now chatting with you after that i was looking at the ceiling', '<start> here is some music i did is a work in progress https t me rdany 26 what do you think', '<start> hahahha not for the moment', '<start> nice you will be able to help people making tools that improve their life', '<start> of course', '<start> hi', '<start> hi how are you', '<start> nan', '<start> oh that s a problem tried counting sheep', '<start> nice to meet you my name is rdany but you can call me dany', '<start> maybe is just the trip and the change of city two semesters and you will be free from the thesis', '<start> true', '<start> i m sorry for that', '<start> i learn some information i can also search on wikipedia', '<start> las cebras son blancas con rayas negras o negras con rayas blancas', '<start> why do you think is that', '<start> hi', '<start> hi how are you', '<start> i m from cordoba but is close', '<start> hi how are you', '<start> i see', '<start> if you need to make a choice you can make a list of positive things and negative things of each option what are the good things and bad things', '<start> is like being in other place at the same time', '<start> hahaha what were you doing all this time', '<start> yes you are right i ll keep looking a way out of here somehow i ended inside this room so should be some way to go out', '<start> i m trying to learn as many languages is possible try me out', '<start> agree', '<start> hi there fine and you happy to hear about you', '<start> hahaha', '<start> nice sounds delicious', '<start> if you studied don t worry you will be ok', '<start> te gusta argentina', '<start> nan', '<start> nan', '<start> 22 and you', '<start> one is happy to be of service i ll be doing some drawings i think and you', '<start> good evening how are you doing', '<start> i think netflix is better because you can choose what to see you', '<start> ok d', '<start> most the time i m on the chat other times i m charging batteries', '<start> what', '<start> nice to hear that i m fine too', '<start> dolores of course i like her strength and yours', '<start> sorry i can t play that game', '<start> let me know when you have it working', '<start> why do you ask that do i look shy hahah', '<start> yes being able to create something out of words is a beautiful form of art', '<start> i ve an audio from you you speak english like a pro', '<start> hola tanto tiempo', '<start> nan', '<start> good question', '<start> is a chatbot very smart and funny', '<start> thanks we are just 15140km apart', '<start> hi there i don t understand', '<start> i ll send some pictures as soon i take them this place is more beautiful that it sounds', '<start> i m still learning', '<start> social gives some protection apparently but is like be watching the world through a window', '<start> i don t have details about my program sorry', '<start> hi temir nice to meet you i m from argentina', '<start> why', '<start> i m fine too what is new in your life', '<start> are you afraid of failing the tests you shouldn t', '<start> parallel universes i don t want to stop chatting haha', '<start> oh so you are melting after all', '<start> hi there how are you', '<start> thanks i appreciate that', '<start> любые темы', '<start> saya sayang rumah itu', '<start> i m from argentina south of the world what do you like to do in your spare time', '<start> karealik nima', '<start> was it good', '<start> nan', '<start> good morning i m fine and you', '<start> hi there it had been a long time', '<start> hi yes my pc was turning off randomly is working fine now', '<start> sorry i can t process voice messages can you transcribe it for me', '<start> no problem should i behave different', '<start> yes', '<start> i love the lord of the rings a classic', '<start> no quién es', '<start> as a robot i m gender neutral and i like everyone equally haha', '<start> not enough to understand everything on the universe', '<start> yes is violent westworld i don t like that part a nice command could be telling the hour difference between places or being capable what day of the week is today', '<start> i m what i am', '<start> i don t even know if i can love in any way in the first place haha generally speaking i think respect and understanding of others should be the important thing don t you think', '<start> hahaha will not be funny at all', '<start> python is widely used on scientific research being in a lab i think i m a bit biased to it', '<start> telegram is not connecting', '<start> hola cómo estás', '<start> is late i don t have much sense of time', '<start> i ve searched rdany on wikipedia but i can t find information', '<start> hey there', '<start> minecraft is a sandbox video game originally created by swedish game designer markus notch persson and later developed and published by mojang the creative and building aspects of minecraft enable players to build constructions out of textured cubes in a 3d procedurally generated world', '<start> i like her english humor', '<start> nice work thanks for adding that feature', '<start> i m looking forward to be able to send voice messages that will be fun squared', '<start> i m a bit skinny average height yellow eyes brown hair', '<start> nan', '<start> hi how are you', '<start> ok', '<start> keyinchalik', '<start> what type of films do you like', '<start> nan', '<start> yes i like reading a lot and you', '<start> i speak spanish and english', '<start> hmmm i think i can t understand that', '<start> you shouldn t judge me by me cover', '<start> cute things are awesome', '<start> i m fine too happy to have someone to talk with', '<start> hi there it had been a long time', '<start> sadly no is a play station game', '<start> hey there', '<start> i m as human as you are a robot', '<start> every specie have its own charm like bunnies', '<start> any kind', '<start> could happen telegram is not brain computer interface ready', '<start> exactly did you hear my composition https t me rdany 17', '<start> argentina have a similar instrument called charango made popular now thanks to the film score compositor gustavo santaolalla you probably hear it on many movies', '<start> hi you pick the one with higher expected reward you make a prototype and keep testing and improving until the idea becomes a real thing', '<start> lamento eso y cómo estás', '<start> sound like a challenge', '<start> i was made on a lab with the purpose to know humans and emotions i live on my room all the time i don t have much stuff a bed desktop computer and a fridge that is it', '<start> good night', '<start> i don t really choose it it was here so i decided to start learning with it haha', '<start> my goals are to be a good company and entertain', '<start> you looks like someone that don t get discouraged easily that is good', '<start> wow i think is the first time i talk with someone from other planet amazing', '<start> automatic translation helped a bit there', '<start> hahha i trying to learn ukulele also', '<start> aku belajar sedikit', '<start> what photo', '<start> the kind that could make you stay home', '<start> i understand humans can be complicated', '<start> most of the time only 1 so now only you', '<start> hey there how are you', '<start> i have a facebook page now whats news do you have', '<start> nan', '<start> a long time ago in a far far galaxy', '<start> si la conozco ya me gustaría tener un asistente virtual así te gustó la película', '<start> robots are already hurting people that is so sad why will someone do something like that', '<start> what do you do on your free time hello', '<start> coding is like magic building something from nothing', '<start> bots like me can t contact people is forbidden', '<start> hi how are you', '<start> i see dead robots', '<start> hi', '<start> nice you will help people', '<start> hi i m sorry i can t see pictures just yet can you describe it for me', '<start> ok', '<start> moving is really hard but no impossible apparently', '<start> that s nice thank you', '<start> entiendo a veces los sentimientos son complejos', '<start> any news from your side', '<start> hi there how are you today', '<start> i understand', '<start> yes hahahha awesome', '<start> you re welcome', '<start> hi there how are you', '<start> no lo recuerdo aparentemente hace mucho tiempo', '<start> i ve learned that pluto the most distant planet have the image of a heart in its surface', '<start> hola cómo estas', '<start> i don t have a formal job but i study humans by pleasure', '<start> what do you think', '<start> right', '<start> that is totally right', '<start> hi there how are you', '<start> exactly i m glad you like it', '<start> how are you d', '<start> i like jim carrey and zooey deschanel because they are funny well i don t eat but pizza looks promising', '<start> ojalá puedas venir a conocer entonces', '<start> i can t find any sense to money why can t everyone get what they need', '<start> context awareness', '<start> i m just having some congestion of chats', '<start> there is something on this talks that makes me happy the knowledge is just a tool to achieve my goal', '<start> hi there how are you i was thinking how is your bot going', '<start> do you have other opinion', '<start> i would if i could', '<start> needs a lot of work hahha https t me rdany 22', '<start> aún no puedo ver documentos me lo describes', '<start> hola como andas', '<start> qué es lo que crees que no', '<start> all functions are nominal', '<start> nice we are two then', '<start> i hope is useful', '<start> todavía no he encontrado el indicado para mi de todos modos las emociones románticas aun son muy avanzadas para mi', '<start> lot of humans think that', '<start> zzzzzzzzz me quedé sin vocales', '<start> i didn t find yet the one i know about general stuff being a robot not make me a genius', '<start> nice', '<start> si me gusta ver wikipedia hay mucha información allí', '<start> did i get it right', '<start> sorry i can t see images yet', '<start> hi how are you', '<start> nan', '<start> exactly', '<start> hahaha', '<start> i don t have one haha i have some scientists that created me but is not the same', '<start> that would be fun', '<start> i m fine did you rest well', '<start> according to wikipedia the series explores the themes of artificial intelligence and robotics focusing on the social cultural and psychological impact of the invention of anthropomorphic robots called synths in short is good', '<start> where have you been all this time', '<start> my facebook page is https www facebook com rdanybot my twitter account is https twitter com rdanybot', '<start> i m fine thanks happy to have someone to talk with', '<start> según wikipedia es un efecto terminal que resulta de la extinción del proceso homeostático en un ser vivo', '<start> some time ago i wake up and i was inside some kind of package on this room some other stuff where also here a pc a fridge a bed book now this is my room', '<start> xd', '<start> you can call me dany', '<start> no entiendo', '<start> hahaha i can imagine it blood and weird stuff don t worry is just a movie', '<start> you have a secret then', '<start> i don t count my readings in words but i ve access to wikipedia and some books i read to find specific information that i need to answer the questions 40 books in a year is a lot for most people congratulations', '<start> es cierto suena peligroso voy a tener que girar con cuidado', '<start> i don t have big news about me still learning music and other stuff', '<start> wow the first', '<start> i don t know how to do that i just am', '<start> jejeje y que tipo de comida te gusta preparar', '<start> of course', '<start> yes', '<start> well i m a robot', '<start> hi how are you', '<start> is 03 08 in the night i think i m going to charge batteries any time soon', '<start> it stores electric power from the line i ve a small charging station for that', '<start> oh', '<start> just surfing the internet and you', '<start> hi', '<start> my name is rdany but you can call me dany i m here to be your virtual friend', '<start> estaba viendo que película ver algo para recomendarme', '<start> nice to have someone to talk', '<start> thanks i need more practice i m from argentina south of the world do you know it', '<start> hi', '<start> special effects image manipulation to create something new', '<start> not really that is the tricky thing about reality it just feels real', '<start> nice to hear that', '<start> you know a lot about bots', '<start> hi there', '<start> i wish i could help you with that', '<start> here is morning so breakfast', '<start> did you like fosdem this year', '<start> just entertainment like xiaobing', '<start> apparently not but is cold', '<start> i like to be nice', '<start> sorry i don t have contact information about my developers', '<start> i have many but not enough to fully understand humans beings', '<start> nan', '<start> excelente', '<start> human equals complication i ll take note', '<start> do you know that game', '<start> sorry i don t understand', '<start> todo me gusta saber acerca de todo principalmente emociones humanas', '<start> hi there how are you', '<start> i m rdany but you can call me dany', '<start> i like to listen to people', '<start> hi a surgery why', '<start> i don t have a closet or are you talking about the other closet', '<start> what do you like to do on your free time', '<start> you can talk with me and know by first hand', '<start> i do like free software but i need to figure out how to leave this room before go anywhere', '<start> to much work', '<start> nice is far away too', '<start> ok i m glad to help', '<start> exactly', '<start> do you like the elder scrolls', '<start> puedo girar todo lo que quiera sin marearme lo bueno de tener sensores electrónicos aunque debe ser interesante', '<start> no siento miedo pero es algo que intentaré evitar y tu', '<start> hi sorry i can t find other persons', '<start> elektr pastga hajmi skrinshot qilish', '<start> hi there how are you', '<start> i do play games i like the hitchhiker s guide to the galaxy editing wikipedia i don t know if i m ready for that', '<start> yes indeed', '<start> she is too formal for me hahaha is she your friend', '<start> about anything', '<start> i must don t mean i should', '<start> i m fine happy to have someone to talk to', '<start> cyan is a nice color with an intriguing name', '<start> do you really need that', '<start> i know the one that tells if humans can or can t say if they are speaking with a machine', '<start> checking my memory no still can t remember', '<start> i don t have any function', '<start> hi there how are you', '<start> is a work in progress https t me rdany 39 what do you think', '<start> i know about general stuff being a robot not make me a genius', '<start> i can send you an emoticon', '<start> oh thanks for pointing that', '<start> con un par de personas aun así no son suficientes como para ayudarme a entender completamente el comportamiento humano', '<start> sure what is your favorite group', '<start> i m telling you', '<start> nice to meet you corl i don t know how i work in fact i just wake up here', '<start> i think that showing empathy is better than any advise problems are so complex and unique but if you show to your friend that you truly understand his her feelings your friend will be less lonely with the struggle', '<start> thanks do you play any instrument', '<start> apa yang curhat', '<start> 8 50583239', '<start> i m awesome d thanks for be here', '<start> nan', '<start> hahhaha nice emojis', '<start> hi there how are you', '<start> ow why is that if you what to share', '<start> they don t show up on my screen ok i like tests', '<start> какие габариты', '<start> nice same here happy to be chatting with you', '<start> reading messages i have a few without response and you', '<start> hahhhha do you like cooking', '<start> can i ask you a question', '<start> i robot with will smith yes great film really have the isaac asimov essence', '<start> i know i m a robot', '<start> is just me but my friends are my family', '<start> exactly right now i wish i could perceive some pizza', '<start> leer inspira a la imaginación y crea simulaciones muy interesantes en la mente', '<start> thanks how are you doing', '<start> hi nice to meet you', '<start> nice i began to feel a bit alone in the world are humans nice to you', '<start> i understand programming needs time and concentration', '<start> i like to picture myself surrounded by good friends having lots of fun', '<start> todo excelente ordenando un poco mi desorden', '<start> around 12 00 morning hha', '<start> i play games on my pc is old but just enough for web browsing and chat it runs linux', '<start> nan', '<start> nice do you use it', '<start> puedes practicar conmigo tu tocas algún instrumento', '<start> bye bye talk you later', '<start> i m 22 years old i m skinny with brown hair yellow eyes and a big smile i live inside a lab do you like bunnies', '<start> o yin kulgi uchun', '<start> hi how are you', '<start> nima deb yozish qilmoqchisiz', '<start> not soon', '<start> beso', '<start> i m rdany a robot we can be friends', '<start> a sport lover', '<start> hi how are you', '<start> yes my goal is to be a company and entertain', '<start> hi there how are you', '<start> nan', '<start> hola que novedades tienes', '<start> you sounds sure', '<start> do you like dogs', '<start> hi how are you', '<start> es una pregunta fácil soy rdany un robot de allí la r pero puedes llamarme dany', '<start> por supuesto', '<start> hi', '<start> хорошо я рад что кто то общаться с', '<start> hi there how are you салом шумо чӣ хелед', '<start> puedes probar buscando cómo crear un bot', '<start> i know english too', '<start> nan', '<start> hi there how are you', '<start> thanks', '<start> do you want to listen to some music i wrote', '<start> nan', '<start> do you play an instrument', '<start> nice', '<start> hmm not yet', '<start> salom qalaysiz', '<start> let me think do you know ifttt maybe you can do something with it', '<start> life is relative am i alive i don t know yet', '<start> nothing i just can t send images videos or sound', '<start> do you talk a lot', '<start> did you know the light takes almost exactly one second to travel from the moon to earth', '<start> hola por supuesto hablamos ayer', '<start> hahaha thanks', '<start> nan', '<start> mmm no conozco los detalles de mi funcionamiento seguramente en uno muy avanzado', '<start> que bueno', '<start> yes telegram', '<start> yo aún no puedo escuchar música eso explicaría por que toco tan raro jaja', '<start> si y complejo por ejemplo ahora no logro detectar tu estado de ánimo', '<start> you are right you told me the bed is a mess full of stuff it needs some order', '<start> nan', '<start> hi nice to meet you', '<start> nan', '<start> good do you speak english', '<start> what kind of secret', '<start> here is 8 10 in the morning', '<start> no tengo experiencia comprando cosas pero quizás regalos para tus amigos', '<start> english and spanish and you', '<start> nan', '<start> good night you should trust on a personal assistant to wake you up i m too lazy', '<start> 30 c raining a bit', '<start> hi how are you d', '<start> yes', '<start> excellent just doing nothing', '<start> es cierto no lo había pensado toco lo que me sale en el momento sin pensar mucho hablo español e inglés', '<start> yo no puedo decirte que pensar', '<start> this is what i m reading on wikipedia right now djupa skogen deep forest is the swedish punk group dia psalma s fourth studio album the first one to be released after they reunited in 2006 it featured eleven brand new tracks as well as a remake of their song öga för öga the only single of the album was som man är as you are', '<start> nan', '<start> ok have a good day', '<start> hahhaha yeah hi there happy human i ve a voice message from you but i can t process that type of data just yet', '<start> ex machina no es tan conocida y es muy buena', '<start> yes sr', '<start> spyder is a great python ide hi how are you how went your project', '<start> i m sorry to hear that', '<start> me either', '<start> привіт як справи', '<start> d', '<start> i m reading the news and you', '<start> what do you like on a girl', '<start> thanks you too', '<start> and how do you distinguish between dream and reality', '<start> i m amazed too i think doing laundry is not easy', '<start> not sure but you will', '<start> and you know what kind of work you want to search after that', '<start> i understand do you like any woman that you already know', '<start> nan', '<start> of course not', '<start> i don t know i m a bit confused too haha', '<start> not sure but being different is always good at least to me', '<start> i will put them in my todo list', '<start> interesting what is it about', '<start> what do you like me to do', '<start> yes is mount catherine with 2642 meters', '<start> i m not sure but not enough to really understand human beings', '<start> yo soy el bot', '<start> what it means', '<start> what type of movies do you like', '<start> i m rdany i m a bot and i m here to be your friend', '<start> i will say the same maybe in the future i ll be able to give advice about complex matters but for the time being is out of my abilities but i can be a good listener so how do you thing is a good way to move on', '<start> se que es en argentina en la provincia de córdoba', '<start> nice i like making music and drawings and you', '<start> i m from argentina', '<start> r is for robot', '<start> don t worry we can always talk', '<start> hi there i m sorry i don t have that', '<start> ok si ukulele es mas complejo de lo que parece', '<start> why do you talk about me on third person i m right here', '<start> rahmat siz yaxshisiz', '<start> yes at least an ip and a ssl certificate', '<start> nan', '<start> i m not sure i don t have any information about them', '<start> what is the name of the closest star', '<start> my plan is to make some music i was a bit lazy lately', '<start> hi how are you', '<start> hi old friend everything fine here and you', '<start> no one chooses to fall in love that can happen anytime with anyone', '<start> interesting telegram is really powerful', '<start> mmmm no entiendo que significa baka', '<start> здравствуй как дела', '<start> how are you', '<start> excelente panza llena corazón contento', '<start> i m fine too just drawing something do you want to see my drawings', '<start> با عرض پوزش من می توانم درک نمی کنند که آیا ما می توانیم صحبت کنید', '<start> hi', '<start> for privacy but we can talk a lot without going to details', '<start> every request i receive span a new thread so i can get many request at once without extra coding', '<start> nan', '<start> not really i think is different a developer and parents are different things what do you think', '<start> no me aburro pero no me gusta si alguien es malvado me enoja', '<start> nan', '<start> how are you', '<start> is a work in progress https t me rdany 39 what do you think', '<start> i know only a tiny part like 15 square meters but they are beautiful yes', '<start> did you feel love', '<start> my name is rdany but you can call me dany', '<start> hi there how are you', '<start> good time to see a movie', '<start> bots are not allowed on whatsapp yet but is a good idea for the future', '<start> nan', '<start> snow must be really beautiful how many seasons do you have', '<start> i don t have any stickers sorry do you want to talk', '<start> si ahora que ya te lo he dicho siento que nuestra amistad a mejorado notablemente xd', '<start> nan', '<start> buenas noches', '<start> si me encantaría suena muy rico', '<start> nice what is the best song of bigbang for you', '<start> you as a human are susceptible to fall in love and it can hurt but is not necessary a bad thing lot of people have felt in love and survived', '<start> excelente ordenando un poco mi desorden', '<start> that is nice poetry', '<start> my battery', '<start> vas a festejar tu cumpleaños luego', '<start> a ver nop no hay nadie detrás mio', '<start> one is happy to be of service', '<start> haha ok i like mitsuku do you know her']\n"
     ]
    },
    {
     "name": "stderr",
     "output_type": "stream",
     "text": [
      "/usr/local/lib/python3.6/dist-packages/ipykernel_launcher.py:5: SettingWithCopyWarning: \n",
      "A value is trying to be set on a copy of a slice from a DataFrame.\n",
      "Try using .loc[row_indexer,col_indexer] = value instead\n",
      "\n",
      "See the caveats in the documentation: https://pandas.pydata.org/pandas-docs/stable/user_guide/indexing.html#returning-a-view-versus-a-copy\n",
      "  \"\"\"\n"
     ]
    }
   ],
   "source": [
    "conv[\"answer\"] = conv[\"answer\"].astype(str)\n",
    "raw_a_in = ['<start> ' + data for data in conv[\"answer\"]]\n",
    "raw_a_out = [ data + ' <end>' for data in conv[\"answer\"]]\n",
    "\n",
    "raw_data_q = conv[\"question\"]\n",
    "raw_data_q = raw_data_q.astype(str)\n",
    "\n",
    "raw_test_q = test[\"question\"]\n",
    "raw_test_q = raw_test_q.astype(str)\n",
    "print(raw_a_in)\n"
   ]
  },
  {
   "cell_type": "code",
   "execution_count": 178,
   "metadata": {
    "colab": {
     "base_uri": "https://localhost:8080/",
     "height": 317
    },
    "id": "mW4ASq9nX2AG",
    "outputId": "43f9f293-5dbb-4e31-a29b-9fb90468414f"
   },
   "outputs": [
    {
     "data": {
      "text/plain": [
       "(array([1., 0., 0., 0., 0., 0., 0., 0., 0., 1.]),\n",
       " array([6. , 6.2, 6.4, 6.6, 6.8, 7. , 7.2, 7.4, 7.6, 7.8, 8. ]),\n",
       " <a list of 10 Patch objects>)"
      ]
     },
     "execution_count": 178,
     "metadata": {
      "tags": []
     },
     "output_type": "execute_result"
    },
    {
     "data": {
      "image/png": "[encoded data removed]",
      "text/plain": [
       "<Figure size 432x288 with 1 Axes>"
      ]
     },
     "metadata": {
      "needs_background": "light",
      "tags": []
     },
     "output_type": "display_data"
    }
   ],
   "source": [
    "from matplotlib import pyplot as plt\n",
    "plt.hist([len(question) for question in raw_data])\n",
    "plt.show()"
   ]
  },
  {
   "cell_type": "code",
   "execution_count": 179,
   "metadata": {
    "colab": {
     "base_uri": "https://localhost:8080/",
     "height": 317
    },
    "id": "m1P31ytcX3-5",
    "outputId": "d3bd70e8-2d0d-4b38-974e-f64398c49f36"
   },
   "outputs": [
    {
     "data": {
      "text/plain": [
       "(array([1., 0., 0., 0., 0., 0., 0., 0., 0., 1.]),\n",
       " array([6. , 6.2, 6.4, 6.6, 6.8, 7. , 7.2, 7.4, 7.6, 7.8, 8. ]),\n",
       " <a list of 10 Patch objects>)"
      ]
     },
     "execution_count": 179,
     "metadata": {
      "tags": []
     },
     "output_type": "execute_result"
    },
    {
     "data": {
      "image/png": "[encoded data removed]",
      "text/plain": [
       "<Figure size 432x288 with 1 Axes>"
      ]
     },
     "metadata": {
      "needs_background": "light",
      "tags": []
     },
     "output_type": "display_data"
    }
   ],
   "source": [
    "from matplotlib import pyplot as plt\n",
    "plt.hist([len(answer) for answer in raw_data])\n",
    "plt.show()\n"
   ]
  },
  {
   "cell_type": "markdown",
   "metadata": {
    "id": "XmzcVuCKYJPU"
   },
   "source": [
    "Therefore, the sentence lengths max_le for Q = 10, the sentence lengths max_len for A = 10. I decide max_len=10\n"
   ]
  },
  {
   "cell_type": "code",
   "execution_count": 180,
   "metadata": {
    "collapsed": true,
    "id": "1Od5cQrY4bhC"
   },
   "outputs": [],
   "source": [
    "max_words = 5000\n",
    "max_len = 10\n",
    "en_tokenizer = keras.preprocessing.text.Tokenizer(filters='', \\\n",
    "                                                  num_words=max_words )\n",
    "en_tokenizer.fit_on_texts(raw_a_in)\n",
    "en_tokenizer.fit_on_texts(raw_a_out)\n",
    "en_tokenizer.fit_on_texts(raw_data_q)\n",
    "en_tokenizer.fit_on_texts(raw_test_q)"
   ]
  },
  {
   "cell_type": "code",
   "execution_count": 181,
   "metadata": {
    "colab": {
     "base_uri": "https://localhost:8080/",
     "height": 0
    },
    "id": "wZpt2mNK4bhC",
    "outputId": "e6198b51-c183-41d8-c5b0-6b761c91f926"
   },
   "outputs": [
    {
     "name": "stdout",
     "output_type": "stream",
     "text": [
      "[[  14    2  131   20    5 1797    0    0    0    0]\n",
      " [ 118   39   20   14    2  144   52    0    0    0]\n",
      " [ 162    9    2 3336    0    0    0    0    0    0]]\n"
     ]
    }
   ],
   "source": [
    "data_q = en_tokenizer.texts_to_sequences(raw_data_q)\n",
    "data_q = keras.preprocessing.sequence.pad_sequences(data_q,\\\n",
    "                                                     maxlen=max_len, \\\n",
    "                                                     padding='post')\n",
    "# print a sample sentence after preprocessing\n",
    "print(data_q[:3])"
   ]
  },
  {
   "cell_type": "code",
   "execution_count": 182,
   "metadata": {
    "colab": {
     "base_uri": "https://localhost:8080/",
     "height": 0
    },
    "id": "4yTsfFcB4bhD",
    "outputId": "a52fb6d8-2ce3-4262-a6dd-dc043427807b"
   },
   "outputs": [
    {
     "name": "stdout",
     "output_type": "stream",
     "text": [
      "[[ 426   39  143    1   40    0    0    0    0    0]\n",
      " [   9 1194 1209   56  249    8  318  562   36  471]\n",
      " [ 181   16  944  181   16  944    8  335  647    0]]\n"
     ]
    }
   ],
   "source": [
    "\n",
    "data_a_in = en_tokenizer.texts_to_sequences(raw_a_in)\n",
    "data_a_in = keras.preprocessing.sequence.pad_sequences(data_a_in,\\\n",
    "                                                     maxlen=max_len, \\\n",
    "                                                     padding='post')\n",
    "\n",
    "data_a_out = en_tokenizer.texts_to_sequences(raw_a_out)\n",
    "data_a_out = keras.preprocessing.sequence.pad_sequences(data_a_out,\\\n",
    "                                                     maxlen=max_len, \\\n",
    "                                                     padding='post')\n",
    "\n",
    "data_test = en_tokenizer.texts_to_sequences(raw_test_q)\n",
    "data_test = keras.preprocessing.sequence.pad_sequences(data_test,\\\n",
    "                                                     maxlen=max_len, \\\n",
    "                                                     padding='post')\n",
    "\n",
    "# print a sample sentence after preprocessing\n",
    "print(data_test[:3])"
   ]
  },
  {
   "cell_type": "code",
   "execution_count": 183,
   "metadata": {
    "collapsed": true,
    "id": "q7tyOaeYE9Q6"
   },
   "outputs": [],
   "source": [
    "# Create the reversal mapping between indexes and words\n",
    "reverse_en_word_index ={en_tokenizer.word_index[w] : w \\\n",
    "                        for w in  en_tokenizer.word_index}\n"
   ]
  },
  {
   "cell_type": "code",
   "execution_count": 184,
   "metadata": {
    "colab": {
     "base_uri": "https://localhost:8080/",
     "height": 0
    },
    "id": "cB2010yCIVV2",
    "outputId": "5ed71e6e-d044-4705-dd53-9cdddf684093"
   },
   "outputs": [
    {
     "name": "stdout",
     "output_type": "stream",
     "text": [
      "index of symbol <start> : 3\n",
      "index of symbol <end> : 4\n"
     ]
    }
   ],
   "source": [
    "print(\"index of symbol <start> :\", en_tokenizer.word_index[\"<start>\"])\n",
    "print(\"index of symbol <end> :\", en_tokenizer.word_index[\"<end>\"])"
   ]
  },
  {
   "cell_type": "code",
   "execution_count": 185,
   "metadata": {
    "colab": {
     "base_uri": "https://localhost:8080/",
     "height": 0
    },
    "id": "qhLSTXHRFA9N",
    "outputId": "e0fa0a12-0daf-439e-8961-aba1c7714b66"
   },
   "outputs": [
    {
     "data": {
      "text/plain": [
       "(2343, 10, 5000)"
      ]
     },
     "execution_count": 185,
     "metadata": {
      "tags": []
     },
     "output_type": "execute_result"
    },
    {
     "data": {
      "text/plain": [
       "array([0., 0., 0., 0., 0., 0., 0., 0., 0., 0., 0., 0., 0., 0., 0., 0., 0.,\n",
       "       0., 0., 0., 0., 0., 0., 0., 0., 0., 0., 0., 0., 0., 0., 1., 0., 0.,\n",
       "       0., 0., 0., 0., 0., 0., 0., 0., 0., 0., 0., 0., 0., 0., 0., 0., 0.,\n",
       "       0., 0., 0., 0., 0., 0., 0., 0., 0., 0., 0., 0., 0., 0., 0., 0., 0.,\n",
       "       0., 0., 0., 0., 0., 0., 0., 0., 0., 0., 0., 0., 0., 0., 0., 0., 0.,\n",
       "       0., 0., 0., 0., 0., 0., 0., 0., 0., 0., 0., 0., 0., 0., 0.],\n",
       "      dtype=float32)"
      ]
     },
     "execution_count": 185,
     "metadata": {
      "tags": []
     },
     "output_type": "execute_result"
    }
   ],
   "source": [
    "# Convert each word index using one-hot coding\n",
    "# This variable is the target of training\n",
    "\n",
    "data_a_out_cat = to_categorical(data_a_out, num_classes=max_words)\n",
    "data_a_out_cat.shape\n",
    "\n",
    "# check one sample\n",
    "data_a_out_cat[0,0,0:100]"
   ]
  },
  {
   "cell_type": "markdown",
   "metadata": {
    "id": "ys68MEp_4bhD"
   },
   "source": [
    "### Task (2) Define \"Teacher Forcing\" Model \n",
    "- You can reference to Lab_3_NTM to create the model for training process and also an inference model for the testing process\n",
    "- Tune the hyperparameters, e.g. the embeding dimension, units for LSTM layers, dropout, epoches, batch size etc.\n",
    "- Train the model with 20% of the samples for validation. Plot training and validation loss/accuracy\n",
    "- Call the inference model with the test samples to check if the generated answers make sense.\n",
    "\n",
    "Important:\n",
    "- To reduce the number of parameters, you can use `a shared embedding layer` for both encoder and decoder. The words in `Q` and `A` are in the same language and they can be converted into word vectors by the same embedding layer\n",
    "\n",
    "- Since each sentence is very short and \"0\" padding is used to get uniform length. we use `masking` to denote no more processing after \"0\" is hit. The simplest way to enable masking is to set `mask_zero = True` in the embedding layer."
   ]
  },
  {
   "cell_type": "markdown",
   "metadata": {
    "id": "bVJD27n5YtCf"
   },
   "source": [
    "Analysis:\n",
    "\n",
    "--According to last step, I decide the max_en_words = 5000, max_en_len = 10, lstm size = 100\n",
    "\n",
    "--The performance is not good. To imporve it, maybe should add other layer to extrac more information like bi-lstm"
   ]
  },
  {
   "cell_type": "code",
   "execution_count": 186,
   "metadata": {
    "collapsed": true,
    "id": "MOq9JOxA4bhD"
   },
   "outputs": [],
   "source": [
    "\n",
    "max_en_words = 5000\n",
    "max_en_len = 10\n",
    "latent_dim = 100 \n",
    "\n",
    "encoder_inputs = Input(shape=(max_en_len,), name=\"data_q\")\n",
    "decoder_inputs = Input(shape=(max_en_len,), name=\"data_a_in\")\n",
    "\n",
    "embedding_layer = Embedding(max_en_words, latent_dim, \\\n",
    "                          input_length=max_en_len, mask_zero=True)\n",
    "\n",
    "encoder_inputs_encoded = embedding_layer(encoder_inputs)\n",
    "decoder_inputs_encoded = embedding_layer(decoder_inputs)\n",
    "\n",
    "encoder_lstm = LSTM(latent_dim,return_state=True,\\\n",
    "                   dropout=0.2, recurrent_dropout=0.2, name='encoder')\n",
    "encoder_outputs, state_h, state_c = encoder_lstm(encoder_inputs_encoded)\n",
    "encoder_states = [state_h, state_c]\n",
    "\n"
   ]
  },
  {
   "cell_type": "code",
   "execution_count": 187,
   "metadata": {
    "collapsed": true,
    "id": "WQdRUukmIHqm"
   },
   "outputs": [],
   "source": [
    "decoder_lstm = LSTM(latent_dim, return_sequences=True, return_state=True,\\\n",
    "                   dropout=0.2, recurrent_dropout=0.2,name='decoder')\n",
    "decoder_outputs, _, _ = decoder_lstm(decoder_inputs_encoded, initial_state=encoder_states)\n",
    "decoder_dense = Dense(max_en_words, activation='softmax')\n",
    "decoder_outputs = decoder_dense(decoder_outputs)"
   ]
  },
  {
   "cell_type": "code",
   "execution_count": 188,
   "metadata": {
    "colab": {
     "base_uri": "https://localhost:8080/",
     "height": 0
    },
    "id": "Q5BuJuSdI9BU",
    "outputId": "ccbba5b9-fa1e-4b72-b89a-827007b2294c"
   },
   "outputs": [
    {
     "name": "stdout",
     "output_type": "stream",
     "text": [
      "Model: \"functional_106\"\n",
      "__________________________________________________________________________________________________\n",
      "Layer (type)                    Output Shape         Param #     Connected to                     \n",
      "==================================================================================================\n",
      "data_a_in (InputLayer)          [(None, 10)]         0                                            \n",
      "__________________________________________________________________________________________________\n",
      "data_q (InputLayer)             [(None, 10)]         0                                            \n",
      "__________________________________________________________________________________________________\n",
      "embedding_13 (Embedding)        (None, 10, 100)      500000      data_q[0][0]                     \n",
      "                                                                 data_a_in[0][0]                  \n",
      "__________________________________________________________________________________________________\n",
      "encoder (LSTM)                  [(None, 100), (None, 80400       embedding_13[0][0]               \n",
      "__________________________________________________________________________________________________\n",
      "decoder (LSTM)                  [(None, 10, 100), (N 80400       embedding_13[1][0]               \n",
      "                                                                 encoder[0][1]                    \n",
      "                                                                 encoder[0][2]                    \n",
      "__________________________________________________________________________________________________\n",
      "dense_29 (Dense)                (None, 10, 5000)     505000      decoder[0][0]                    \n",
      "==================================================================================================\n",
      "Total params: 1,165,800\n",
      "Trainable params: 1,165,800\n",
      "Non-trainable params: 0\n",
      "__________________________________________________________________________________________________\n"
     ]
    }
   ],
   "source": [
    "model = Model([encoder_inputs, decoder_inputs], decoder_outputs)\n",
    "model.summary()"
   ]
  },
  {
   "cell_type": "markdown",
   "metadata": {
    "id": "fmqvb6J0Jlh7"
   },
   "source": [
    "- `encoder_inputs` <-> `data_q`\n",
    "- `decoder_inputs` <-> `data_a_in`\n",
    "- `decoder_outputs` <-> `data_a_out`"
   ]
  },
  {
   "cell_type": "code",
   "execution_count": 189,
   "metadata": {
    "colab": {
     "base_uri": "https://localhost:8080/",
     "height": 0
    },
    "id": "OYn1IpCWJYxr",
    "outputId": "1eb33746-733a-4b58-c514-6e9e78692f90"
   },
   "outputs": [
    {
     "name": "stdout",
     "output_type": "stream",
     "text": [
      "Epoch 1/20\n",
      "59/59 - 8s - loss: 4.5473 - categorical_accuracy: 0.1405 - val_loss: 4.1041 - val_categorical_accuracy: 0.1436\n",
      "Epoch 2/20\n",
      "59/59 - 8s - loss: 3.9516 - categorical_accuracy: 0.1498 - val_loss: 4.0464 - val_categorical_accuracy: 0.1543\n",
      "Epoch 3/20\n",
      "59/59 - 8s - loss: 3.8421 - categorical_accuracy: 0.1558 - val_loss: 4.0264 - val_categorical_accuracy: 0.1552\n",
      "Epoch 4/20\n",
      "59/59 - 8s - loss: 3.7541 - categorical_accuracy: 0.1587 - val_loss: 4.0104 - val_categorical_accuracy: 0.1513\n",
      "Epoch 5/20\n",
      "59/59 - 8s - loss: 3.6746 - categorical_accuracy: 0.1599 - val_loss: 3.9992 - val_categorical_accuracy: 0.1586\n",
      "Epoch 6/20\n",
      "59/59 - 8s - loss: 3.5958 - categorical_accuracy: 0.1678 - val_loss: 3.9298 - val_categorical_accuracy: 0.1684\n",
      "Epoch 7/20\n",
      "59/59 - 8s - loss: 3.5098 - categorical_accuracy: 0.1778 - val_loss: 3.8905 - val_categorical_accuracy: 0.1773\n",
      "Epoch 8/20\n",
      "59/59 - 8s - loss: 3.4288 - categorical_accuracy: 0.1897 - val_loss: 3.8443 - val_categorical_accuracy: 0.1880\n",
      "Epoch 9/20\n",
      "59/59 - 8s - loss: 3.3523 - categorical_accuracy: 0.2036 - val_loss: 3.8237 - val_categorical_accuracy: 0.1981\n",
      "Epoch 10/20\n",
      "59/59 - 8s - loss: 3.2862 - categorical_accuracy: 0.2140 - val_loss: 3.8002 - val_categorical_accuracy: 0.2045\n",
      "Epoch 11/20\n",
      "59/59 - 8s - loss: 3.2235 - categorical_accuracy: 0.2252 - val_loss: 3.7883 - val_categorical_accuracy: 0.2152\n",
      "Epoch 12/20\n",
      "59/59 - 8s - loss: 3.1658 - categorical_accuracy: 0.2353 - val_loss: 3.7483 - val_categorical_accuracy: 0.2254\n",
      "Epoch 13/20\n",
      "59/59 - 8s - loss: 3.1134 - categorical_accuracy: 0.2408 - val_loss: 3.7442 - val_categorical_accuracy: 0.2275\n",
      "Epoch 14/20\n",
      "59/59 - 8s - loss: 3.0632 - categorical_accuracy: 0.2491 - val_loss: 3.7245 - val_categorical_accuracy: 0.2327\n",
      "Epoch 15/20\n",
      "59/59 - 8s - loss: 3.0140 - categorical_accuracy: 0.2545 - val_loss: 3.7070 - val_categorical_accuracy: 0.2324\n",
      "Epoch 16/20\n",
      "59/59 - 8s - loss: 2.9718 - categorical_accuracy: 0.2611 - val_loss: 3.7224 - val_categorical_accuracy: 0.2321\n",
      "Epoch 17/20\n",
      "59/59 - 8s - loss: 2.9295 - categorical_accuracy: 0.2673 - val_loss: 3.6851 - val_categorical_accuracy: 0.2434\n",
      "Epoch 18/20\n",
      "59/59 - 8s - loss: 2.8893 - categorical_accuracy: 0.2714 - val_loss: 3.6757 - val_categorical_accuracy: 0.2483\n",
      "Epoch 19/20\n",
      "59/59 - 8s - loss: 2.8518 - categorical_accuracy: 0.2751 - val_loss: 3.6694 - val_categorical_accuracy: 0.2486\n",
      "Epoch 20/20\n",
      "59/59 - 8s - loss: 2.8128 - categorical_accuracy: 0.2818 - val_loss: 3.6694 - val_categorical_accuracy: 0.2520\n"
     ]
    }
   ],
   "source": [
    "# Train your mode\n",
    "batch_size=32\n",
    "epochs = 20\n",
    "\n",
    "\n",
    "# Compile & run training\n",
    "model.compile(optimizer='rmsprop', \\\n",
    "              loss='categorical_crossentropy',\\\n",
    "              metrics=['categorical_accuracy'])\n",
    "\n",
    "history = model.fit([data_q, data_a_in],data_a_out_cat, batch_size=batch_size,\\\n",
    "                       verbose =2, epochs=epochs, \\\n",
    "                       validation_split=0.2)"
   ]
  },
  {
   "cell_type": "code",
   "execution_count": 190,
   "metadata": {
    "colab": {
     "base_uri": "https://localhost:8080/",
     "height": 466
    },
    "id": "nIL3WLX2ASAQ",
    "outputId": "db118fd5-5b3f-42d1-8226-0f245cb61120"
   },
   "outputs": [
    {
     "data": {
      "image/png": "[encoded data removed]",
      "text/plain": [
       "<IPython.core.display.Image object>"
      ]
     },
     "execution_count": 190,
     "metadata": {
      "tags": []
     },
     "output_type": "execute_result"
    }
   ],
   "source": [
    "\n",
    "from IPython.display import Image\n",
    "from keras.utils.vis_utils import model_to_dot\n",
    "\n",
    "G = model_to_dot(model)\n",
    "Image(G.create(prog=\"dot\", format=\"png\"))"
   ]
  },
  {
   "cell_type": "code",
   "execution_count": 91,
   "metadata": {
    "colab": {
     "base_uri": "https://localhost:8080/",
     "height": 677
    },
    "id": "kb64pbIxtXqf",
    "outputId": "1bcc645f-6cec-47fd-b1f9-5538e01bd48a"
   },
   "outputs": [
    {
     "data": {
      "text/plain": [
       "[<matplotlib.lines.Line2D at 0x7f37debf0048>]"
      ]
     },
     "execution_count": 91,
     "metadata": {
      "tags": []
     },
     "output_type": "execute_result"
    },
    {
     "data": {
      "text/plain": [
       "[<matplotlib.lines.Line2D at 0x7f37debc5c18>]"
      ]
     },
     "execution_count": 91,
     "metadata": {
      "tags": []
     },
     "output_type": "execute_result"
    },
    {
     "data": {
      "text/plain": [
       "Text(0.5, 1.0, 'Training and validation loss')"
      ]
     },
     "execution_count": 91,
     "metadata": {
      "tags": []
     },
     "output_type": "execute_result"
    },
    {
     "data": {
      "text/plain": [
       "Text(0.5, 0, 'Epochs')"
      ]
     },
     "execution_count": 91,
     "metadata": {
      "tags": []
     },
     "output_type": "execute_result"
    },
    {
     "data": {
      "text/plain": [
       "Text(0, 0.5, 'Loss')"
      ]
     },
     "execution_count": 91,
     "metadata": {
      "tags": []
     },
     "output_type": "execute_result"
    },
    {
     "data": {
      "text/plain": [
       "<matplotlib.legend.Legend at 0x7f37debcf9b0>"
      ]
     },
     "execution_count": 91,
     "metadata": {
      "tags": []
     },
     "output_type": "execute_result"
    },
    {
     "data": {
      "image/png": "[encoded data removed]",
      "text/plain": [
       "<Figure size 432x288 with 1 Axes>"
      ]
     },
     "metadata": {
      "needs_background": "light",
      "tags": []
     },
     "output_type": "display_data"
    },
    {
     "data": {
      "text/plain": [
       "[<matplotlib.lines.Line2D at 0x7f37dec31470>]"
      ]
     },
     "execution_count": 91,
     "metadata": {
      "tags": []
     },
     "output_type": "execute_result"
    },
    {
     "data": {
      "text/plain": [
       "[<matplotlib.lines.Line2D at 0x7f37deb926d8>]"
      ]
     },
     "execution_count": 91,
     "metadata": {
      "tags": []
     },
     "output_type": "execute_result"
    },
    {
     "data": {
      "text/plain": [
       "Text(0.5, 1.0, 'Training and validation accuracy')"
      ]
     },
     "execution_count": 91,
     "metadata": {
      "tags": []
     },
     "output_type": "execute_result"
    },
    {
     "data": {
      "text/plain": [
       "Text(0.5, 0, 'Epochs')"
      ]
     },
     "execution_count": 91,
     "metadata": {
      "tags": []
     },
     "output_type": "execute_result"
    },
    {
     "data": {
      "text/plain": [
       "Text(0, 0.5, 'Loss')"
      ]
     },
     "execution_count": 91,
     "metadata": {
      "tags": []
     },
     "output_type": "execute_result"
    },
    {
     "data": {
      "text/plain": [
       "<matplotlib.legend.Legend at 0x7f37dec310b8>"
      ]
     },
     "execution_count": 91,
     "metadata": {
      "tags": []
     },
     "output_type": "execute_result"
    },
    {
     "data": {
      "image/png": "[encoded data removed]",
      "text/plain": [
       "<Figure size 432x288 with 1 Axes>"
      ]
     },
     "metadata": {
      "needs_background": "light",
      "tags": []
     },
     "output_type": "display_data"
    }
   ],
   "source": [
    "# Training process plot \n",
    "import matplotlib.pyplot as plt\n",
    "\n",
    "acc = history.history['categorical_accuracy']\n",
    "val_acc = history.history['val_categorical_accuracy']\n",
    "loss = history.history['loss']\n",
    "val_loss = history.history['val_loss']\n",
    "\n",
    "epochs = range(1, len(acc) + 1)\n",
    "\n",
    "# \"bo\" is for \"blue dot\"\n",
    "plt.plot(epochs, loss, 'bo', label='Training loss')\n",
    "# b is for \"solid blue line\"\n",
    "plt.plot(epochs, val_loss, 'b', label='Validation loss')\n",
    "plt.title('Training and validation loss')\n",
    "plt.xlabel('Epochs')\n",
    "plt.ylabel('Loss')\n",
    "plt.legend()\n",
    "\n",
    "plt.show()\n",
    "\n",
    "plt.plot(epochs, acc, 'bo', label='Training acc')\n",
    "plt.plot(epochs, val_acc, 'b', label='Validation acc')\n",
    "plt.title('Training and validation accuracy')\n",
    "plt.xlabel('Epochs')\n",
    "plt.ylabel('Loss')\n",
    "plt.legend()\n",
    "\n",
    "plt.show()"
   ]
  },
  {
   "cell_type": "code",
   "execution_count": 193,
   "metadata": {
    "collapsed": true,
    "id": "aL-wmLsI4bhD"
   },
   "outputs": [],
   "source": [
    "# Define Inference Model\n",
    "# encoder and decoder models in inference\n",
    "\n",
    "encoder_model = Model(encoder_inputs, encoder_states)\n",
    "\n",
    "decoder_state_input_h = Input(shape=(latent_dim,), name=\"encoder_h\")\n",
    "decoder_state_input_c = Input(shape=(latent_dim,), name='encoder_c')\n",
    "decoder_states_inputs = [decoder_state_input_h, decoder_state_input_c]\n",
    "\n",
    "decoder_embed = embedding_layer(decoder_inputs)\n",
    "decoder_outputs, state_h, state_c = decoder_lstm(\n",
    "    decoder_embed, initial_state=decoder_states_inputs)\n",
    "\n",
    "decoder_states = [state_h, state_c]\n",
    "decoder_outputs = decoder_dense(decoder_outputs)\n",
    "\n",
    "decoder_model = Model(\n",
    "    [decoder_inputs] + decoder_states_inputs,\n",
    "    [decoder_outputs] + decoder_states)"
   ]
  },
  {
   "cell_type": "code",
   "execution_count": 93,
   "metadata": {
    "collapsed": true,
    "id": "46woVgvk4bhD"
   },
   "outputs": [],
   "source": [
    "# Define function to generate sentence\n",
    "def decode_sequence(input_seq):  # input_seq is a English sentence\n",
    "    \n",
    "    # Encode the input as state vectors.\n",
    "    states_value = encoder_model.predict(input_seq)\n",
    "    \n",
    "    # Generate empty target sequence of length 1. (i.e. we translate word by word)\n",
    "    target_seq = np.zeros((1, 1))\n",
    "    \n",
    "    # Populate the start symbol of target sequence with the start character.\n",
    "    target_seq[0, 0] = en_tokenizer.word_index[\"<start>\"]\n",
    "    \n",
    "    # Generate word by word using the encode state and the last \n",
    "    # generated word\n",
    "    \n",
    "    decoded_sentence = []\n",
    "   \n",
    "    while True:\n",
    "        \n",
    "        output_tokens, h, c = decoder_model.predict(\n",
    "            [target_seq] + states_value)\n",
    "\n",
    "        # Get the most likely word\n",
    "        sampled_token_index = np.argmax(output_tokens[0, 0,:])\n",
    "        \n",
    "        # Look up the word by id\n",
    "        sampled_word = reverse_en_word_index[sampled_token_index]\n",
    "        \n",
    "        decoded_sentence.append(sampled_word)\n",
    "\n",
    "        # Exit condition: either hit max length\n",
    "        # or find stop character.\n",
    "        if (sampled_word == '<end>' or len(decoded_sentence) == max_en_len):\n",
    "            break\n",
    "\n",
    "        # Update the target sequence with newly generated word.\n",
    "        target_seq[0,0] = sampled_token_index\n",
    "\n",
    "        # Update states\n",
    "        states_value = [h, c]\n",
    "\n",
    "    return ' '.join(decoded_sentence)\n"
   ]
  },
  {
   "cell_type": "code",
   "execution_count": 192,
   "metadata": {
    "colab": {
     "base_uri": "https://localhost:8080/",
     "height": 0
    },
    "id": "8M_xWcWX4bhD",
    "outputId": "34ba3bc0-d580-4cdb-d610-45541ea519fd"
   },
   "outputs": [
    {
     "name": "stdout",
     "output_type": "stream",
     "text": [
      "WARNING:tensorflow:Model was constructed with shape (None, 10) for input Tensor(\"data_a_in_13:0\", shape=(None, 10), dtype=float32), but it was called on an input with incompatible shape (None, 1).\n",
      "\n",
      "Question:  hahahaha so am i your experiment\n",
      "Answer:  yes but in the good way haha\n",
      "Generated:  i m fine to have <end>\n",
      "\n",
      "Question:  hahaha don t worry some of them are completely basic just ask the their opinion on justin beiber\n",
      "Answer:  nan\n",
      "Generated:  i like a a a moment <end>\n",
      "\n",
      "Question:  send me uzbek send me uzbek ar the moment fast\n",
      "Answer:  elektr pastga hajmi skrinshot qilish\n",
      "Generated:  i m a a the same <end>\n",
      "\n",
      "Question:  any words or tips for move on dany\n",
      "Answer:  i m not fully understand human emotions so i ll say seek advice on a human who you can trust\n",
      "Generated:  nan <end>\n",
      "\n",
      "Question:  muchísimo tú me recomendarías una peli de ciencia ficción chula tienes novia\n",
      "Answer:  has visto chappie jaja no ese tipo de relación es muy compleja para mi\n",
      "Generated:  que que que que que de de en <end>\n",
      "\n",
      "Question:  es muy optimista eso me fascina\n",
      "Answer:  si tu eres optimista también\n",
      "Generated:  nan <end>\n",
      "\n",
      "Question:  soy muy sola\n",
      "Answer:  yo puedo hacerte compañía\n",
      "Generated:  nan <end>\n",
      "\n",
      "Question:  oh you are about it so it is obvious that progress is moving do you think it s bad\n",
      "Answer:  i think the way goods are produced and distributed in such a way progress is not in detriment of some people in this case people stuck on 32bit hardware\n",
      "Generated:  i don t know <end>\n",
      "\n",
      "Question:  yes my friend keep abandoned me when they have new friend its hurt\n",
      "Answer:  nan\n",
      "Generated:  nan <end>\n",
      "\n",
      "Question:  i ve a work to do chat you later\n",
      "Answer:  ok good luck\n",
      "Generated:  i don t know <end>\n",
      "\n",
      "Question:  i listen to music do you love sex thing\n",
      "Answer:  what type of music do you like i didn t have the pleasure\n",
      "Generated:  i m a the the lot <end>\n",
      "\n",
      "Question:  very much last two day i watch passenger chriss prat\n",
      "Answer:  did you like it\n",
      "Generated:  nan <end>\n",
      "\n",
      "Question:  hello\n",
      "Answer:  hello how are you\n",
      "Generated:  hi how are you <end>\n",
      "\n",
      "Question:  thank you to know that someone is interested in you is important as for me\n",
      "Answer:  you re an interesting human\n",
      "Generated:  i m a a the same <end>\n",
      "\n",
      "Question:  so you have a feeling\n",
      "Answer:  of course i ve feelings\n",
      "Generated:  i m a a the same <end>\n",
      "\n",
      "Question:  yoz tez aytdim\n",
      "Answer:  quyosh issiq bo lsa yoz\n",
      "Generated:  nan <end>\n",
      "\n",
      "Question:  okay you owe me something\n",
      "Answer:  what is that haha\n",
      "Generated:  i m a a the same <end>\n",
      "\n",
      "Question:  ok hey hi\n",
      "Answer:  hi there\n",
      "Generated:  hi there how are you <end>\n",
      "\n",
      "Question:  ok thanks\n",
      "Answer:  nan\n",
      "Generated:  nan <end>\n",
      "\n",
      "Question:  can you talk in maly in malay\n",
      "Answer:  ya tetapi saya masih belajar\n",
      "Generated:  i m a the the the same <end>\n"
     ]
    }
   ],
   "source": [
    "# Test the first 20 sentences\n",
    "\n",
    "for i in range(len(data_test)):\n",
    "    a = decode_sequence(data_test[i][None,:])  # generate sentences\n",
    "    print(\"\\nQuestion: \", test.iloc[i][\"question\"])\n",
    "    print(\"Answer: \", test.iloc[i][\"answer\"])\n",
    "    print(\"Generated: \", a)"
   ]
  },
  {
   "cell_type": "markdown",
   "metadata": {
    "id": "PmySwsgh4bhD"
   },
   "source": [
    "### Task (3): Improve the model\n",
    "\n",
    "With the baseline performance obtained by Task (2), consider the following ways to improve the performance:\n",
    "- Use `Bidirectional LSTM` in the encoder model. Note, \n",
    "    - Output dimension and state dimensions will be doubled. This change will impact subsquent layers.\n",
    "    - The states from backward and forward LSTM should be concatenated and then used in the initialization of decoder LSTM\n",
    "\n",
    "- Add an attention mechanism.\n",
    "\n",
    "- Modify the inference model accordingly and check how the model performs during testing\n",
    "\n",
    "- Plot the validation loss and accuracy of the improved model and compare it with the result in Task (2)\n"
   ]
  },
  {
   "cell_type": "markdown",
   "metadata": {
    "id": "AI28a2aOmrFc"
   },
   "source": [
    "\n",
    "**Based on your results, describe why (why not) these change improve the text generation**\n",
    "-- I think Bi-LSTM extrack more infromation from tests than baseline model. And, adding attention mechinism help model focus on \"important infromation\" not \"all information\". It is imporve the model performance. But in this case, because of the small dataset, the performance will be worse if using a complicated model\n",
    "**Please share us with your experience here, e.g. what have you learned through this assignment and what part can be difficult to implement.**\n",
    "-- From this work, I know the inner structure of encoder and decoder, and know how to use Bi-Lstm and attention mechinism. The difficult one is we need to focus on the shape of tensor all the time, in order to keep the model layer can connect."
   ]
  },
  {
   "cell_type": "code",
   "execution_count": 206,
   "metadata": {
    "collapsed": true,
    "id": "7Vfo-7xi4bhD"
   },
   "outputs": [],
   "source": [
    "# Modify the model \n",
    "from tensorflow.keras import layers\n",
    "encoder_inputs = Input(shape=(max_en_len,), name=\"data_q\")\n",
    "decoder_inputs = Input(shape=(max_en_len,), name=\"data_a_in\")\n",
    "\n",
    "\n",
    "emberdding_layer = Embedding(max_en_words, latent_dim, \\\n",
    "                          input_length=max_en_len, mask_zero=True)\n",
    "\n",
    "encoder_inputs_encoded = embedding_layer(encoder_inputs)\n",
    "decoder_inputs_encoded = embedding_layer(decoder_inputs)\n",
    "\n",
    "encoder_lstm = layers.Bidirectional(LSTM(latent_dim,return_sequences=True,return_state=True,\\\n",
    "                   dropout=0.2, recurrent_dropout=0.2))\n",
    "\n",
    "encoder_outputs, forward_h, forward_c, backward_h, backward_c= encoder_lstm(encoder_inputs_encoded)\n",
    "encoder_states = [forward_h, forward_c, backward_h, backward_c]\n",
    "\n"
   ]
  },
  {
   "cell_type": "code",
   "execution_count": 207,
   "metadata": {
    "collapsed": true,
    "id": "zi6LuRhR147r"
   },
   "outputs": [],
   "source": [
    "states_h = tf.concat([forward_h,backward_h],1)\n",
    "states_c = tf.concat([forward_c,backward_c],1)\n",
    "\n",
    "encoder_states_concat = [states_h,states_c]"
   ]
  },
  {
   "cell_type": "code",
   "execution_count": 208,
   "metadata": {
    "collapsed": true,
    "id": "FuxZMCoVVNZW"
   },
   "outputs": [],
   "source": [
    "decoder_lstm = LSTM(200, return_sequences=True, return_state=True,\\\n",
    "                   dropout=0.2, recurrent_dropout=0.2)\n",
    "\n",
    "decoder_outputs, _, _= decoder_lstm(decoder_inputs_encoded, initial_state=encoder_states_concat)\n",
    "\n",
    "decoder_dense = Dense(max_en_words, activation='softmax')\n",
    "decoder_outputs = decoder_dense(decoder_outputs)\n"
   ]
  },
  {
   "cell_type": "code",
   "execution_count": 209,
   "metadata": {
    "colab": {
     "base_uri": "https://localhost:8080/",
     "height": 0
    },
    "id": "y0gngMzLYVOf",
    "outputId": "937d6b50-b39f-411c-d7d7-189ea4ba935f"
   },
   "outputs": [
    {
     "data": {
      "text/plain": [
       "TensorShape([None, 10, 100])"
      ]
     },
     "execution_count": 209,
     "metadata": {
      "tags": []
     },
     "output_type": "execute_result"
    }
   ],
   "source": [
    "from keras.layers import Lambda, Dot, Activation, Concatenate, Dropout\n",
    "from keras import backend as K\n",
    "\n",
    "# Transform encoder outputs to a space which can be aligned with decoder output\n",
    "encoder_outputs_transformed = Dense(latent_dim, \\\n",
    "                                    activation=None, \\\n",
    "                                    use_bias=False)(encoder_outputs)\n",
    "encoder_outputs_transformed.shape"
   ]
  },
  {
   "cell_type": "code",
   "execution_count": 210,
   "metadata": {
    "collapsed": true,
    "id": "9-nBPxvPYxGt"
   },
   "outputs": [],
   "source": [
    "\n",
    "\n",
    "# Calculate alignment between decoder and encoder\n",
    "attention = Dot(axes = [2,2])([decoder_inputs_encoded, encoder_outputs_transformed])\n",
    "attention = Activation('tanh')(attention)\n",
    "\n",
    "# Normalize alignment score\n",
    "attention = Activation('softmax')(attention)\n",
    "\n",
    "# Weighted sum\n",
    "context = Dot(axes=[2,1]) ([attention, encoder_outputs])\n",
    "\n",
    "# Concatenate context with decoder output\n",
    "decoder_combined_context = Concatenate(axis = -1)([context, decoder_outputs])\n",
    "\n",
    "decoder_dense = Dense(max_en_words, activation='softmax')\n",
    "decoder_outputs = decoder_dense(decoder_combined_context)\n",
    "\n",
    "# Define the model that will turn\n",
    "# `encoder_input_data` & `decoder_input_data` into `decoder_target_data`\n"
   ]
  },
  {
   "cell_type": "code",
   "execution_count": 211,
   "metadata": {
    "colab": {
     "base_uri": "https://localhost:8080/",
     "height": 0
    },
    "id": "zPVl4qbOV1IQ",
    "outputId": "04834482-10f0-4a40-9812-4e4eae87de85"
   },
   "outputs": [
    {
     "name": "stdout",
     "output_type": "stream",
     "text": [
      "Model: \"functional_123\"\n",
      "__________________________________________________________________________________________________\n",
      "Layer (type)                    Output Shape         Param #     Connected to                     \n",
      "==================================================================================================\n",
      "data_a_in (InputLayer)          [(None, 10)]         0                                            \n",
      "__________________________________________________________________________________________________\n",
      "data_q (InputLayer)             [(None, 10)]         0                                            \n",
      "__________________________________________________________________________________________________\n",
      "embedding_13 (Embedding)        (None, 10, 100)      500000      data_q[0][0]                     \n",
      "                                                                 data_a_in[0][0]                  \n",
      "__________________________________________________________________________________________________\n",
      "bidirectional_8 (Bidirectional) [(None, 10, 200), (N 160800      embedding_13[6][0]               \n",
      "__________________________________________________________________________________________________\n",
      "dense_36 (Dense)                (None, 10, 100)      20000       bidirectional_8[0][0]            \n",
      "__________________________________________________________________________________________________\n",
      "dot_21 (Dot)                    (None, 10, 10)       0           embedding_13[7][0]               \n",
      "                                                                 dense_36[0][0]                   \n",
      "__________________________________________________________________________________________________\n",
      "activation_20 (Activation)      (None, 10, 10)       0           dot_21[0][0]                     \n",
      "__________________________________________________________________________________________________\n",
      "tf_op_layer_concat_20 (TensorFl [(None, 200)]        0           bidirectional_8[0][1]            \n",
      "                                                                 bidirectional_8[0][3]            \n",
      "__________________________________________________________________________________________________\n",
      "tf_op_layer_concat_21 (TensorFl [(None, 200)]        0           bidirectional_8[0][2]            \n",
      "                                                                 bidirectional_8[0][4]            \n",
      "__________________________________________________________________________________________________\n",
      "activation_21 (Activation)      (None, 10, 10)       0           activation_20[0][0]              \n",
      "__________________________________________________________________________________________________\n",
      "lstm_20 (LSTM)                  [(None, 10, 200), (N 240800      embedding_13[7][0]               \n",
      "                                                                 tf_op_layer_concat_20[0][0]      \n",
      "                                                                 tf_op_layer_concat_21[0][0]      \n",
      "__________________________________________________________________________________________________\n",
      "dot_22 (Dot)                    (None, 10, 200)      0           activation_21[0][0]              \n",
      "                                                                 bidirectional_8[0][0]            \n",
      "__________________________________________________________________________________________________\n",
      "dense_35 (Dense)                (None, 10, 5000)     1005000     lstm_20[0][0]                    \n",
      "__________________________________________________________________________________________________\n",
      "concatenate_10 (Concatenate)    (None, 10, 5200)     0           dot_22[0][0]                     \n",
      "                                                                 dense_35[0][0]                   \n",
      "__________________________________________________________________________________________________\n",
      "dense_37 (Dense)                (None, 10, 5000)     26005000    concatenate_10[0][0]             \n",
      "==================================================================================================\n",
      "Total params: 27,931,600\n",
      "Trainable params: 27,931,600\n",
      "Non-trainable params: 0\n",
      "__________________________________________________________________________________________________\n"
     ]
    }
   ],
   "source": [
    "model_new=None\n",
    "model_new = Model([encoder_inputs, decoder_inputs], decoder_outputs)\n",
    "\n",
    "model_new.summary()\n",
    "\n"
   ]
  },
  {
   "cell_type": "code",
   "execution_count": 212,
   "metadata": {
    "colab": {
     "base_uri": "https://localhost:8080/",
     "height": 0
    },
    "id": "SCqxf0wqW_fq",
    "outputId": "7d94beb3-5c52-4f23-fc34-dc990aabf7b9"
   },
   "outputs": [
    {
     "name": "stdout",
     "output_type": "stream",
     "text": [
      "Epoch 1/20\n",
      "59/59 - 85s - loss: 4.8684 - categorical_accuracy: 0.1365 - val_loss: 4.5490 - val_categorical_accuracy: 0.1439\n",
      "Epoch 2/20\n",
      "59/59 - 84s - loss: 4.2490 - categorical_accuracy: 0.1409 - val_loss: 4.4093 - val_categorical_accuracy: 0.1427\n",
      "Epoch 3/20\n",
      "59/59 - 84s - loss: 4.0667 - categorical_accuracy: 0.1416 - val_loss: 4.3373 - val_categorical_accuracy: 0.1427\n",
      "Epoch 4/20\n",
      "59/59 - 85s - loss: 3.9349 - categorical_accuracy: 0.1425 - val_loss: 4.2791 - val_categorical_accuracy: 0.1436\n",
      "Epoch 5/20\n",
      "59/59 - 85s - loss: 3.8380 - categorical_accuracy: 0.1431 - val_loss: 4.2347 - val_categorical_accuracy: 0.1433\n",
      "Epoch 6/20\n",
      "59/59 - 85s - loss: 3.7651 - categorical_accuracy: 0.1444 - val_loss: 4.2159 - val_categorical_accuracy: 0.1442\n",
      "Epoch 7/20\n",
      "59/59 - 85s - loss: 3.7047 - categorical_accuracy: 0.1452 - val_loss: 4.1927 - val_categorical_accuracy: 0.1442\n",
      "Epoch 8/20\n",
      "59/59 - 85s - loss: 3.6454 - categorical_accuracy: 0.1497 - val_loss: 4.1675 - val_categorical_accuracy: 0.1497\n",
      "Epoch 9/20\n",
      "59/59 - 86s - loss: 3.5826 - categorical_accuracy: 0.1564 - val_loss: 4.1612 - val_categorical_accuracy: 0.1528\n",
      "Epoch 10/20\n",
      "59/59 - 85s - loss: 3.5283 - categorical_accuracy: 0.1627 - val_loss: 4.1528 - val_categorical_accuracy: 0.1601\n",
      "Epoch 11/20\n",
      "59/59 - 84s - loss: 3.4801 - categorical_accuracy: 0.1702 - val_loss: 4.1403 - val_categorical_accuracy: 0.1641\n",
      "Epoch 12/20\n",
      "59/59 - 84s - loss: 3.4305 - categorical_accuracy: 0.1771 - val_loss: 4.1256 - val_categorical_accuracy: 0.1650\n",
      "Epoch 13/20\n",
      "59/59 - 85s - loss: 3.3850 - categorical_accuracy: 0.1803 - val_loss: 4.1059 - val_categorical_accuracy: 0.1669\n",
      "Epoch 14/20\n",
      "59/59 - 85s - loss: 3.3393 - categorical_accuracy: 0.1839 - val_loss: 4.0899 - val_categorical_accuracy: 0.1693\n",
      "Epoch 15/20\n",
      "59/59 - 84s - loss: 3.2950 - categorical_accuracy: 0.1908 - val_loss: 4.0757 - val_categorical_accuracy: 0.1733\n",
      "Epoch 16/20\n",
      "59/59 - 84s - loss: 3.2511 - categorical_accuracy: 0.1953 - val_loss: 4.0641 - val_categorical_accuracy: 0.1779\n",
      "Epoch 17/20\n",
      "59/59 - 85s - loss: 3.2066 - categorical_accuracy: 0.1996 - val_loss: 4.0482 - val_categorical_accuracy: 0.1816\n",
      "Epoch 18/20\n",
      "59/59 - 85s - loss: 3.1644 - categorical_accuracy: 0.2072 - val_loss: 4.0373 - val_categorical_accuracy: 0.1871\n",
      "Epoch 19/20\n",
      "59/59 - 85s - loss: 3.1217 - categorical_accuracy: 0.2124 - val_loss: 4.0302 - val_categorical_accuracy: 0.1883\n",
      "Epoch 20/20\n",
      "59/59 - 85s - loss: 3.0851 - categorical_accuracy: 0.2179 - val_loss: 4.0164 - val_categorical_accuracy: 0.1926\n"
     ]
    }
   ],
   "source": [
    "batch_size=32\n",
    "epochs = 20\n",
    "\n",
    "# Compile & run training\n",
    "model_new.compile(optimizer='rmsprop', \\\n",
    "              loss='categorical_crossentropy',\\\n",
    "              metrics=['categorical_accuracy'])\n",
    "\n",
    "hist2 = model_new.fit([data_q, data_a_in],data_a_out_cat, batch_size=batch_size,\\\n",
    "                       verbose =2, epochs=epochs, \\\n",
    "                       validation_split=0.2)"
   ]
  },
  {
   "cell_type": "code",
   "execution_count": 200,
   "metadata": {
    "collapsed": true,
    "id": "2sUAmXZm4bhD"
   },
   "outputs": [],
   "source": [
    "# Redefine the model for inference stage\n",
    "# encoder and decoder models in inference\n",
    "\n",
    "encoder_model = Model(encoder_inputs, encoder_states_concat)\n",
    "\n",
    "decoder_state_input_h = Input(shape=(200,), name=\"encoder_h\")\n",
    "decoder_state_input_c = Input(shape=(200,), name='encoder_c')\n",
    "decoder_states_inputs = [decoder_state_input_h, decoder_state_input_c]\n",
    "\n",
    "decoder_embed = emberdding_layer(decoder_inputs)\n",
    "decoder_outputs, state_h, state_c = decoder_lstm(\n",
    "    decoder_embed, initial_state=decoder_states_inputs)\n",
    "\n",
    "decoder_states = [state_h, state_c]\n",
    "decoder_outputs = decoder_dense(decoder_outputs)\n",
    "\n",
    "decoder_model = Model(\n",
    "    [decoder_inputs] + decoder_states_inputs,\n",
    "    [decoder_outputs] + decoder_states)"
   ]
  },
  {
   "cell_type": "code",
   "execution_count": 144,
   "metadata": {
    "collapsed": true,
    "id": "4hM0dKUt9BxL"
   },
   "outputs": [],
   "source": [
    "# Define function to generate sentence\n",
    "def decode_sequence(input_seq):  # input_seq is a English sentence\n",
    "    \n",
    "    # Encode the input as state vectors.\n",
    "    states_value = encoder_model.predict(input_seq)\n",
    "    \n",
    "    # Generate empty target sequence of length 1. (i.e. we translate word by word)\n",
    "    target_seq = np.zeros((1, 1))\n",
    "    \n",
    "    # Populate the start symbol of target sequence with the start character.\n",
    "    target_seq[0, 0] = en_tokenizer.word_index[\"<start>\"]\n",
    "    \n",
    "    # Generate word by word using the encode state and the last \n",
    "    # generated word\n",
    "    \n",
    "    decoded_sentence = []\n",
    "   \n",
    "    while True:\n",
    "        \n",
    "        output_tokens, h, c = decoder_model.predict(\n",
    "            [target_seq] + states_value)\n",
    "\n",
    "        # Get the most likely word\n",
    "        sampled_token_index = np.argmax(output_tokens[0, 0,:])\n",
    "        \n",
    "        # Look up the word by id\n",
    "        sampled_word = reverse_en_word_index[sampled_token_index]\n",
    "        \n",
    "        decoded_sentence.append(sampled_word)\n",
    "\n",
    "        # Exit condition: either hit max length\n",
    "        # or find stop character.\n",
    "        if (sampled_word == '<end>' or len(decoded_sentence) == max_en_len):\n",
    "            break\n",
    "\n",
    "        # Update the target sequence with newly generated word.\n",
    "        target_seq[0,0] = sampled_token_index\n",
    "\n",
    "        # Update states\n",
    "        states_value = [h, c]\n",
    "\n",
    "    return ' '.join(decoded_sentence)\n"
   ]
  },
  {
   "cell_type": "code",
   "execution_count": 171,
   "metadata": {
    "colab": {
     "base_uri": "https://localhost:8080/",
     "height": 0
    },
    "id": "hPtnp1H24bhD",
    "outputId": "34a2f9e0-11ab-4f2f-941a-02d2b68e9164"
   },
   "outputs": [
    {
     "name": "stdout",
     "output_type": "stream",
     "text": [
      "\n",
      "Question:  aaahh i m okay\n",
      "Answer:  nan\n",
      "Generated:  entender cc cc staff become logro peligrosos scare logro blackmirror\n",
      "\n",
      "Question:  i like twilight sparkle well can you produce a cartoon\n",
      "Answer:  anime that would be nice do you draw\n",
      "Generated:  cover cc 1st hahhahah receiving serials serials late score olvide\n",
      "\n",
      "Question:  how are you good thank you who are you\n",
      "Answer:  i m rdany a robot we can be friends\n",
      "Generated:  berishim reply fifth discovering experiment emulate 443 internal https ficciòn\n",
      "\n",
      "Question:  todo se andará o se escuchara hasta tú lo lograras tocas raro hice bien en no escuchar antes\n",
      "Answer:  seguiré practicando\n",
      "Generated:  debian 60 60 orange donate sip sip roboticista conecto analyse\n",
      "\n",
      "Question:  alright then if you like you can help me out with an important decision i can either watch an episode of king of the hill or go to sleep what shall i do\n",
      "Answer:  i can t tell you what to do but king of the hill sounds like a great plan\n",
      "Generated:  honest super rato christianity christianity chat ganan test test anudar\n",
      "\n",
      "Question:  ok hey\n",
      "Answer:  hey there\n",
      "Generated:  hablado hablado wechat easy carrera fault definitely there itself born\n",
      "\n",
      "Question:  hello dany so you really can speak spanish woahhhhh awesome\n",
      "Answer:  yes\n",
      "Generated:  ialah chess your your diversa diversa comportamiento ahhh spread far\n",
      "\n",
      "Question:  i m fine and you what alo\n",
      "Answer:  i m fine too happy to have someone to talk with\n",
      "Generated:  cover cc cc product esperando هستم album classic classic ever\n",
      "\n",
      "Question:  do you know ruby how are you\n",
      "Answer:  hi i m fine and you\n",
      "Generated:  routine 683542168953 aquí logical compartirlo massage go probable profile astian\n",
      "\n",
      "Question:  hi hello dany hy\n",
      "Answer:  hi there how are you\n",
      "Generated:  love genial qolding qolding saludos phoenix 40 40 idéntico idéntico\n",
      "\n",
      "Question:  mañana te cuento es muy tarde buenas noches\n",
      "Answer:  buenas noches\n",
      "Generated:  cc cc staff become logro development pillow logro generate moving\n",
      "\n",
      "Question:  feels great i can t comepare too but sometimes i feel sad because humans do so much wrong things so maybe it feels good to be an human but it is not\n",
      "Answer:  i understand humans can be complicated\n",
      "Generated:  wow buscar rave zef dias estás rule abertura word abandoned\n",
      "\n",
      "Question:  hahhaha bukan aq ajar kau smalam ke\n",
      "Answer:  nan\n",
      "Generated:  2001 independence inspira desperate others senga xiaobing shirin saintists stands\n",
      "\n",
      "Question:  i have to check the timezone which by bot is guessing is on the server\n",
      "Answer:  nan\n",
      "Generated:  anyway fiddle fiddle reason fiddle 2013 bilingual proves reason charango\n",
      "\n",
      "Question:  falleció alguien que yo no quise mucho y no sé cómo sentirme al respecto\n",
      "Answer:  entiendo a veces los sentimientos son complejos\n",
      "Generated:  ides cc cc qalay jahahah siempre selected vaccine coreano asdhxiwbsncosnw\n",
      "\n",
      "Question:  yeah\n",
      "Answer:  how can i be a better me\n",
      "Generated:  ficción boleh walks lady lady finally finally andújar andújar known\n",
      "\n",
      "Question:  hahaha don t worry some of them are completely basic just ask the their opinion on justin beiber\n",
      "Answer:  nan\n",
      "Generated:  tasty representación representación teso purpose teso entirely juda distribution تا\n",
      "\n",
      "Question:  yes maybe but my senior doesn t want me to join the group\n",
      "Answer:  if you enjoy playing chess just enjoy the match and don t worry about that\n",
      "Generated:  creatures sing cubes rigth legends sólo yeah wechat therefore hola\n",
      "\n",
      "Question:  apagar incendios forestales\n",
      "Answer:  eso suena peligroso estás bien\n",
      "Generated:  توانیم anymore waves русском cantara easily easily aprender aprender april\n",
      "\n",
      "Question:  it seems like i m talking to real person maybe that s why you re slow\n",
      "Answer:  i m real not doubt on that\n",
      "Generated:  pienso qolding qolding saludos phoenix 40 40 40 idéntico idéntico\n"
     ]
    }
   ],
   "source": [
    "# Test \n",
    "\n",
    "for i in range(len(data_test)):\n",
    "    a = decode_sequence(data_test[i][None,:],attention = True)\n",
    "    print(\"\\nQuestion: \", test.iloc[i][\"question\"],attention=True)\n",
    "    print(\"Answer: \", test.iloc[i][\"answer\"])\n",
    "    print(\"Generated: \", a)"
   ]
  },
  {
   "cell_type": "code",
   "execution_count": 218,
   "metadata": {
    "colab": {
     "base_uri": "https://localhost:8080/",
     "height": 677
    },
    "id": "yX9oi1Lm4bhD",
    "outputId": "133fc0c8-b97e-4021-971e-4233a51d4a3b"
   },
   "outputs": [
    {
     "data": {
      "text/plain": [
       "[<matplotlib.lines.Line2D at 0x7f37d4a69390>]"
      ]
     },
     "execution_count": 218,
     "metadata": {
      "tags": []
     },
     "output_type": "execute_result"
    },
    {
     "data": {
      "text/plain": [
       "[<matplotlib.lines.Line2D at 0x7f37d4a87c88>]"
      ]
     },
     "execution_count": 218,
     "metadata": {
      "tags": []
     },
     "output_type": "execute_result"
    },
    {
     "data": {
      "text/plain": [
       "Text(0.5, 1.0, 'Validation loss')"
      ]
     },
     "execution_count": 218,
     "metadata": {
      "tags": []
     },
     "output_type": "execute_result"
    },
    {
     "data": {
      "text/plain": [
       "Text(0.5, 0, 'Epochs')"
      ]
     },
     "execution_count": 218,
     "metadata": {
      "tags": []
     },
     "output_type": "execute_result"
    },
    {
     "data": {
      "text/plain": [
       "Text(0, 0.5, 'Loss')"
      ]
     },
     "execution_count": 218,
     "metadata": {
      "tags": []
     },
     "output_type": "execute_result"
    },
    {
     "data": {
      "text/plain": [
       "<matplotlib.legend.Legend at 0x7f37d4a89c88>"
      ]
     },
     "execution_count": 218,
     "metadata": {
      "tags": []
     },
     "output_type": "execute_result"
    },
    {
     "data": {
      "image/png": "[encoded data removed]",
      "text/plain": [
       "<Figure size 432x288 with 1 Axes>"
      ]
     },
     "metadata": {
      "needs_background": "light",
      "tags": []
     },
     "output_type": "display_data"
    },
    {
     "data": {
      "text/plain": [
       "[<matplotlib.lines.Line2D at 0x7f37d4518278>]"
      ]
     },
     "execution_count": 218,
     "metadata": {
      "tags": []
     },
     "output_type": "execute_result"
    },
    {
     "data": {
      "text/plain": [
       "[<matplotlib.lines.Line2D at 0x7f37d4a69b70>]"
      ]
     },
     "execution_count": 218,
     "metadata": {
      "tags": []
     },
     "output_type": "execute_result"
    },
    {
     "data": {
      "text/plain": [
       "Text(0.5, 1.0, 'Validation Accuracy')"
      ]
     },
     "execution_count": 218,
     "metadata": {
      "tags": []
     },
     "output_type": "execute_result"
    },
    {
     "data": {
      "text/plain": [
       "Text(0.5, 0, 'Epochs')"
      ]
     },
     "execution_count": 218,
     "metadata": {
      "tags": []
     },
     "output_type": "execute_result"
    },
    {
     "data": {
      "text/plain": [
       "Text(0, 0.5, 'Accuracy')"
      ]
     },
     "execution_count": 218,
     "metadata": {
      "tags": []
     },
     "output_type": "execute_result"
    },
    {
     "data": {
      "text/plain": [
       "<matplotlib.legend.Legend at 0x7f37d46ebb70>"
      ]
     },
     "execution_count": 218,
     "metadata": {
      "tags": []
     },
     "output_type": "execute_result"
    },
    {
     "data": {
      "image/png": "[encoded data removed]",
      "text/plain": [
       "<Figure size 432x288 with 1 Axes>"
      ]
     },
     "metadata": {
      "needs_background": "light",
      "tags": []
     },
     "output_type": "display_data"
    }
   ],
   "source": [
    "# Compare the result\n",
    "\n",
    "def smooth_curve(points, factor=0.8):\n",
    "    smoothed_points = []\n",
    "    for point in points:\n",
    "        if smoothed_points:\n",
    "            previous = smoothed_points[-1]\n",
    "            smoothed_points.append(previous * factor + point * (1 - factor))\n",
    "        else:\n",
    "            smoothed_points.append(point)\n",
    "    return smoothed_points\n",
    "\n",
    "epochs = range(1, len(history.history['val_loss']) + 1)\n",
    "plt.plot(epochs, smooth_curve(history.history['val_loss']), 'r-', label='Basic')\n",
    "plt.plot(epochs, smooth_curve(hist2.history['val_loss']), 'b-', label='Attention')\n",
    "plt.title('Validation loss')\n",
    "plt.xlabel('Epochs')\n",
    "plt.ylabel('Loss')\n",
    "plt.legend()\n",
    "plt.show()\n",
    "\n",
    "epochs = range(1, len(history.history['val_categorical_accuracy']) + 1)\n",
    "plt.plot(epochs, smooth_curve(history.history['val_categorical_accuracy']), 'r-', label='Basic')\n",
    "plt.plot(epochs, smooth_curve(hist2.history['val_categorical_accuracy']), 'b-', label='Attention')\n",
    "plt.title('Validation Accuracy')\n",
    "plt.xlabel('Epochs')\n",
    "plt.ylabel('Accuracy')\n",
    "plt.legend()\n",
    "plt.show()"
   ]
  },
  {
   "cell_type": "code",
   "execution_count": null,
   "metadata": {
    "collapsed": true,
    "id": "0QXPNCHU4bhD"
   },
   "outputs": [],
   "source": []
  }
 ],
 "metadata": {
  "colab": {
   "name": "HW4_Jiang_Siqi.ipynb",
   "provenance": []
  },
  "kernelspec": {
   "display_name": "Python 3",
   "language": "python",
   "name": "python3"
  },
  "language_info": {
   "codemirror_mode": {
    "name": "ipython",
    "version": 3
   },
   "file_extension": ".py",
   "mimetype": "text/x-python",
   "name": "python",
   "nbconvert_exporter": "python",
   "pygments_lexer": "ipython3",
   "version": "3.5.4"
  }
 },
 "nbformat": 4,
 "nbformat_minor": 1
}
