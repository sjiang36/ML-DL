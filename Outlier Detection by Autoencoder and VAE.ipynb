{
 "cells": [
  {
   "cell_type": "markdown",
   "metadata": {
    "id": "t4gxtl0GSDB9",
    "toc": true
   },
   "source": [
    "# <center> Outlier Detection by Autoencoder and VAE </center>\n",
    "<h1>Table of Contents<span class=\"tocSkip\"></span></h1>\n",
    "<div class=\"toc\"><ul class=\"toc-item\"><li><ul class=\"toc-item\"><li><span><a href=\"#Task-1:-Data-preprocess\" data-toc-modified-id=\"Task-1:-Data-preprocess-1.0.1\"><span class=\"toc-item-num\">1.0.1&nbsp;&nbsp;</span>Task 1: Data preprocess</a></span></li><li><span><a href=\"#Task-2:-Anomaly-detection-by-deep-autoencoder\" data-toc-modified-id=\"Task-2:-Anomaly-detection-by-deep-autoencoder-1.0.2\"><span class=\"toc-item-num\">1.0.2&nbsp;&nbsp;</span>Task 2: Anomaly detection by deep autoencoder</a></span></li><li><span><a href=\"#Task-3:--Anomaly-detection-by-VAE\" data-toc-modified-id=\"Task-3:--Anomaly-detection-by-VAE-1.0.3\"><span class=\"toc-item-num\">1.0.3&nbsp;&nbsp;</span>Task 3:  Anomaly detection by VAE</a></span></li></ul></li></ul></li></ul></div>"
   ]
  },
  {
   "cell_type": "markdown",
   "metadata": {
    "id": "xC6-1_k2SDCC"
   },
   "source": [
    "In this assignment, we'll apply autencoders to detect outliers with the cardiotocogrpahy dataset (http://odds.cs.stonybrook.edu/cardiotocogrpahy-dataset/). You'll use two dataset files:\n",
    "- `hw5_train.csv`: this file only contain normal cases. This is the file for you to train the models\n",
    "- `hw5_test.csv`: this file has a mixture of normal and outlier cases, as indicated by the `label` field. This file is for you to test model performance\n",
    "\n",
    "A snapshot of the data is also shown below."
   ]
  },
  {
   "cell_type": "code",
   "execution_count": 2,
   "metadata": {
    "ExecuteTime": {
     "end_time": "2020-12-01T05:09:55.492816Z",
     "start_time": "2020-12-01T05:09:55.455807Z"
    },
    "colab": {
     "base_uri": "https://localhost:8080/",
     "height": 257
    },
    "id": "bYaFlEwjSDCD",
    "outputId": "b5872c4f-bba4-43bc-9899-23fe38b1795b"
   },
   "outputs": [
    {
     "name": "stderr",
     "output_type": "stream",
     "text": [
      "C:\\Users\\Jiang\\AppData\\Local\\Continuum\\anaconda3\\envs\\tf\\lib\\site-packages\\h5py\\__init__.py:34: FutureWarning: Conversion of the second argument of issubdtype from `float` to `np.floating` is deprecated. In future, it will be treated as `np.float64 == np.dtype(float).type`.\n",
      "  from ._conv import register_converters as _register_converters\n",
      "Using TensorFlow backend.\n"
     ]
    },
    {
     "name": "stdout",
     "output_type": "stream",
     "text": [
      "train.shape (1473, 21)\n",
      "test.shape (358, 22)\n"
     ]
    },
    {
     "data": {
      "text/html": [
       "<div>\n",
       "<style>\n",
       "    .dataframe thead tr:only-child th {\n",
       "        text-align: right;\n",
       "    }\n",
       "\n",
       "    .dataframe thead th {\n",
       "        text-align: left;\n",
       "    }\n",
       "\n",
       "    .dataframe tbody tr th {\n",
       "        vertical-align: top;\n",
       "    }\n",
       "</style>\n",
       "<table border=\"1\" class=\"dataframe\">\n",
       "  <thead>\n",
       "    <tr style=\"text-align: right;\">\n",
       "      <th></th>\n",
       "      <th>f1</th>\n",
       "      <th>f2</th>\n",
       "      <th>f3</th>\n",
       "      <th>f4</th>\n",
       "      <th>f5</th>\n",
       "      <th>f6</th>\n",
       "      <th>f7</th>\n",
       "      <th>f8</th>\n",
       "      <th>f9</th>\n",
       "      <th>f10</th>\n",
       "      <th>...</th>\n",
       "      <th>f13</th>\n",
       "      <th>f14</th>\n",
       "      <th>f15</th>\n",
       "      <th>f16</th>\n",
       "      <th>f17</th>\n",
       "      <th>f18</th>\n",
       "      <th>f19</th>\n",
       "      <th>f20</th>\n",
       "      <th>f21</th>\n",
       "      <th>label</th>\n",
       "    </tr>\n",
       "  </thead>\n",
       "  <tbody>\n",
       "    <tr>\n",
       "      <th>0</th>\n",
       "      <td>0.639815</td>\n",
       "      <td>1.718612</td>\n",
       "      <td>-0.203640</td>\n",
       "      <td>1.405342</td>\n",
       "      <td>-0.683598</td>\n",
       "      <td>-0.061401</td>\n",
       "      <td>-0.278295</td>\n",
       "      <td>-0.154808</td>\n",
       "      <td>-0.051613</td>\n",
       "      <td>-0.420487</td>\n",
       "      <td>...</td>\n",
       "      <td>1.054744</td>\n",
       "      <td>0.369690</td>\n",
       "      <td>-1.441408</td>\n",
       "      <td>0.963083</td>\n",
       "      <td>1.263314</td>\n",
       "      <td>1.278531</td>\n",
       "      <td>1.266007</td>\n",
       "      <td>-0.423387</td>\n",
       "      <td>1.140018</td>\n",
       "      <td>0.0</td>\n",
       "    </tr>\n",
       "    <tr>\n",
       "      <th>1</th>\n",
       "      <td>-0.524173</td>\n",
       "      <td>1.241258</td>\n",
       "      <td>-0.203640</td>\n",
       "      <td>0.926323</td>\n",
       "      <td>0.110133</td>\n",
       "      <td>-0.061401</td>\n",
       "      <td>1.745967</td>\n",
       "      <td>-1.351317</td>\n",
       "      <td>0.295824</td>\n",
       "      <td>-0.420487</td>\n",
       "      <td>...</td>\n",
       "      <td>-1.368567</td>\n",
       "      <td>0.919704</td>\n",
       "      <td>1.310644</td>\n",
       "      <td>-0.488279</td>\n",
       "      <td>0.241349</td>\n",
       "      <td>0.193113</td>\n",
       "      <td>0.369432</td>\n",
       "      <td>1.413631</td>\n",
       "      <td>1.140018</td>\n",
       "      <td>0.0</td>\n",
       "    </tr>\n",
       "    <tr>\n",
       "      <th>2</th>\n",
       "      <td>1.274717</td>\n",
       "      <td>-0.168902</td>\n",
       "      <td>-0.203640</td>\n",
       "      <td>0.441790</td>\n",
       "      <td>-0.683598</td>\n",
       "      <td>-0.061401</td>\n",
       "      <td>-0.278295</td>\n",
       "      <td>-0.274459</td>\n",
       "      <td>-0.746486</td>\n",
       "      <td>-0.109286</td>\n",
       "      <td>...</td>\n",
       "      <td>0.769649</td>\n",
       "      <td>0.204686</td>\n",
       "      <td>-0.753395</td>\n",
       "      <td>-0.488279</td>\n",
       "      <td>1.263314</td>\n",
       "      <td>1.278531</td>\n",
       "      <td>1.266007</td>\n",
       "      <td>-0.523588</td>\n",
       "      <td>1.140018</td>\n",
       "      <td>0.0</td>\n",
       "    </tr>\n",
       "    <tr>\n",
       "      <th>3</th>\n",
       "      <td>1.697985</td>\n",
       "      <td>-0.498194</td>\n",
       "      <td>-0.115723</td>\n",
       "      <td>-0.469100</td>\n",
       "      <td>-0.683598</td>\n",
       "      <td>-0.061401</td>\n",
       "      <td>-0.278295</td>\n",
       "      <td>1.939084</td>\n",
       "      <td>-1.093922</td>\n",
       "      <td>-0.233766</td>\n",
       "      <td>...</td>\n",
       "      <td>1.767483</td>\n",
       "      <td>0.424691</td>\n",
       "      <td>-0.753395</td>\n",
       "      <td>-0.488279</td>\n",
       "      <td>0.842505</td>\n",
       "      <td>1.214683</td>\n",
       "      <td>1.128072</td>\n",
       "      <td>-0.623789</td>\n",
       "      <td>-0.493294</td>\n",
       "      <td>0.0</td>\n",
       "    </tr>\n",
       "    <tr>\n",
       "      <th>4</th>\n",
       "      <td>1.486351</td>\n",
       "      <td>-0.447342</td>\n",
       "      <td>-0.203640</td>\n",
       "      <td>-0.328434</td>\n",
       "      <td>0.531478</td>\n",
       "      <td>-0.061401</td>\n",
       "      <td>-0.278295</td>\n",
       "      <td>-0.992364</td>\n",
       "      <td>-0.051613</td>\n",
       "      <td>0.575357</td>\n",
       "      <td>...</td>\n",
       "      <td>-0.370733</td>\n",
       "      <td>0.039682</td>\n",
       "      <td>0.278625</td>\n",
       "      <td>-0.488279</td>\n",
       "      <td>0.722273</td>\n",
       "      <td>0.831594</td>\n",
       "      <td>0.990138</td>\n",
       "      <td>0.144419</td>\n",
       "      <td>1.140018</td>\n",
       "      <td>0.0</td>\n",
       "    </tr>\n",
       "  </tbody>\n",
       "</table>\n",
       "<p>5 rows × 22 columns</p>\n",
       "</div>"
      ],
      "text/plain": [
       "         f1        f2        f3        f4        f5        f6        f7  \\\n",
       "0  0.639815  1.718612 -0.203640  1.405342 -0.683598 -0.061401 -0.278295   \n",
       "1 -0.524173  1.241258 -0.203640  0.926323  0.110133 -0.061401  1.745967   \n",
       "2  1.274717 -0.168902 -0.203640  0.441790 -0.683598 -0.061401 -0.278295   \n",
       "3  1.697985 -0.498194 -0.115723 -0.469100 -0.683598 -0.061401 -0.278295   \n",
       "4  1.486351 -0.447342 -0.203640 -0.328434  0.531478 -0.061401 -0.278295   \n",
       "\n",
       "         f8        f9       f10  ...         f13       f14       f15  \\\n",
       "0 -0.154808 -0.051613 -0.420487  ...    1.054744  0.369690 -1.441408   \n",
       "1 -1.351317  0.295824 -0.420487  ...   -1.368567  0.919704  1.310644   \n",
       "2 -0.274459 -0.746486 -0.109286  ...    0.769649  0.204686 -0.753395   \n",
       "3  1.939084 -1.093922 -0.233766  ...    1.767483  0.424691 -0.753395   \n",
       "4 -0.992364 -0.051613  0.575357  ...   -0.370733  0.039682  0.278625   \n",
       "\n",
       "        f16       f17       f18       f19       f20       f21  label  \n",
       "0  0.963083  1.263314  1.278531  1.266007 -0.423387  1.140018    0.0  \n",
       "1 -0.488279  0.241349  0.193113  0.369432  1.413631  1.140018    0.0  \n",
       "2 -0.488279  1.263314  1.278531  1.266007 -0.523588  1.140018    0.0  \n",
       "3 -0.488279  0.842505  1.214683  1.128072 -0.623789 -0.493294    0.0  \n",
       "4 -0.488279  0.722273  0.831594  0.990138  0.144419  1.140018    0.0  \n",
       "\n",
       "[5 rows x 22 columns]"
      ]
     },
     "execution_count": 2,
     "metadata": {},
     "output_type": "execute_result"
    }
   ],
   "source": [
    "import pandas as pd\n",
    "import numpy as np\n",
    "import matplotlib.pyplot as plt\n",
    "from IPython.display import Image\n",
    "from keras.layers import Input, Dense, Lambda, Add, Layer,\\\n",
    "Conv2D, MaxPooling2D, UpSampling2D, Conv2DTranspose, Multiply\n",
    "from keras import backend as K\n",
    "from keras.models import Model,Sequential\n",
    "from keras.utils.vis_utils import model_to_dot, plot_model\n",
    "from IPython.display import SVG\n",
    "from sklearn.model_selection import train_test_split\n",
    "\n",
    "train = pd.read_csv(\"hw5_train.csv\")\n",
    "test = pd.read_csv(\"hw5_test.csv\")\n",
    "print('train.shape', train.shape)\n",
    "print('test.shape', test.shape)\n",
    "test.head()\n"
   ]
  },
  {
   "cell_type": "markdown",
   "metadata": {
    "id": "s6vei7bvSDCF"
   },
   "source": [
    "### Task 1: Data preprocess"
   ]
  },
  {
   "cell_type": "markdown",
   "metadata": {
    "id": "PtX_2GLNSDCF"
   },
   "source": [
    "1. `Sample normalization`: For autoencoders, since the loss is the reconstruction errors, it's always necessary to normalize the data to avoid computation overflow of the errors (i.e. approaching infinite). For example, variables can be normalized to a range between [0,1] through `min_max normalization` or `percentiles` so that sigmoid activation can be used at the end and loss can be controled within a range. <br><br>\n",
    "2. Split the traininng dataset into train(80%) and validation(20%) subsets so that we can use the validation dataset to control the train progress.\n",
    " "
   ]
  },
  {
   "cell_type": "code",
   "execution_count": 3,
   "metadata": {
    "ExecuteTime": {
     "end_time": "2020-12-01T05:09:57.405971Z",
     "start_time": "2020-12-01T05:09:57.396968Z"
    },
    "collapsed": true,
    "id": "osRESedpSDCG"
   },
   "outputs": [],
   "source": [
    "# Data Preprocessing\n",
    "x_test = test.drop(['label'],axis=1)\n",
    "y_test = test['label']\n",
    "\n",
    "from sklearn.preprocessing import MinMaxScaler\n",
    "scaler = MinMaxScaler(feature_range=(0, 1))\n",
    "scaler.fit(train)\n",
    "data_train = scaler.transform(train)\n",
    "x_test = scaler.transform(x_test)\n",
    "\n",
    "from numpy.random import seed\n",
    "seed(123)\n",
    "#from tensorflow import set_random_seed\n",
    "#set_random_seed(231)\n",
    "\n",
    "from tensorflow.random import set_random_seed\n",
    "set_random_seed(231)\n"
   ]
  },
  {
   "cell_type": "markdown",
   "metadata": {
    "id": "XkFKGnZ1SDCG"
   },
   "source": [
    "### Task 2: Anomaly detection by deep autoencoder"
   ]
  },
  {
   "cell_type": "markdown",
   "metadata": {
    "id": "5VzqYjU4SDCG"
   },
   "source": [
    "1. First, create a `deep autoencoder` as follows:\n",
    "    - Set the dimension of the bottleneck layer to 2 \n",
    "    - Train the autoencoder using the train/validation subsets\n",
    "    - Try different setting (activation, regularization) on the hidden layers, and figure out which combination is better on the test set<br><br>\n",
    "2. After training, reconstruct samples in the `train` data file and calculate the `reconstruction errors`. Assuming the `reconstruction errors` follows a normal distribution, fit a normal distribution with the errors to get `mean` and `std` (hint, you can use `scipy.stats.norm.fit()`).<br><br>\n",
    "3. Next, reconstruct samples in the `test` dataset and calculate the reconstruction errors. Let's call the errors `test_reconstruction errors` <br><br>\n",
    "4. Since we only build the autoencoder using normal cases, if a test case is an outlier, we would expect it has a large reconstruction error. We can calculate the cdf of the error with regard to the fitted normal distribution. If its `cdf > 95%`, then we predict it as an outlier <br><br>\n",
    "5. After we produce predictions for test samples, calculate confusion matrix, precision and recall on the test dataset. <br><br>\n",
    "6. Visualize reconstruction errors and latent variables<br><br>\n"
   ]
  },
  {
   "cell_type": "code",
   "execution_count": 6,
   "metadata": {
    "collapsed": true,
    "id": "exAXqEGASDCH"
   },
   "outputs": [],
   "source": [
    "# Define autoencoder Model\n",
    "\n",
    "# Add your code here\n",
    "from keras.layers import Input, Dense\n",
    "from keras import regularizers\n",
    "from keras.models import Model\n",
    "# this is our input placeholder\n",
    "input_dim = data_train.shape[1]\n",
    "input_layer1 = Input(shape=(input_dim,))\n",
    "#encode_layer2 = Dense(dim_list[0], activation='sigmoid', activity_regularizer=regularizers.l2(0.01))(input_layer1)\n",
    "# \"encoded\" is the encoded representation of the input\n",
    "encode_layer2 = Dense(14, activation='sigmoid')(input_layer1)\n",
    "encode_layer3 = Dense(5, activation='sigmoid')(encode_layer2)\n",
    "bottleneck_layer4 = Dense(2, activation='sigmoid')(encode_layer3)\n",
    "# \"decoded\" is the lossy reconstruction of the input\n",
    "decode_layer5 = Dense(5, activation='sigmoid')(bottleneck_layer4)\n",
    "decode_layer6 = Dense(14, activation='sigmoid')(decode_layer5)\n",
    "decode_layer7 = Dense(input_dim, activation='sigmoid')(decode_layer6)\n",
    "autoencoder = Model(inputs = input_layer1, outputs = decode_layer7)"
   ]
  },
  {
   "cell_type": "code",
   "execution_count": 7,
   "metadata": {
    "colab": {
     "base_uri": "https://localhost:8080/"
    },
    "id": "11OorUiPb-og",
    "outputId": "dee7d2cd-c05d-4dcf-8a87-8939ba9bd497"
   },
   "outputs": [
    {
     "name": "stdout",
     "output_type": "stream",
     "text": [
      "Model: \"functional_3\"\n",
      "_________________________________________________________________\n",
      "Layer (type)                 Output Shape              Param #   \n",
      "=================================================================\n",
      "input_2 (InputLayer)         [(None, 21)]              0         \n",
      "_________________________________________________________________\n",
      "dense_6 (Dense)              (None, 14)                308       \n",
      "_________________________________________________________________\n",
      "dense_7 (Dense)              (None, 5)                 75        \n",
      "_________________________________________________________________\n",
      "dense_8 (Dense)              (None, 2)                 12        \n",
      "_________________________________________________________________\n",
      "dense_9 (Dense)              (None, 5)                 15        \n",
      "_________________________________________________________________\n",
      "dense_10 (Dense)             (None, 14)                84        \n",
      "_________________________________________________________________\n",
      "dense_11 (Dense)             (None, 21)                315       \n",
      "=================================================================\n",
      "Total params: 809\n",
      "Trainable params: 809\n",
      "Non-trainable params: 0\n",
      "_________________________________________________________________\n"
     ]
    }
   ],
   "source": [
    "autoencoder.summary()"
   ]
  },
  {
   "cell_type": "code",
   "execution_count": 8,
   "metadata": {
    "colab": {
     "base_uri": "https://localhost:8080/",
     "height": 1000
    },
    "id": "QhVOH6elct-4",
    "outputId": "9aa1b102-c2ec-45bf-d064-c7ca935c4afc"
   },
   "outputs": [
    {
     "data": {
      "image/svg+xml": [
       "<svg height=\"737pt\" viewBox=\"0.00 0.00 262.00 553.00\" width=\"349pt\" xmlns=\"http://www.w3.org/2000/svg\" xmlns:xlink=\"http://www.w3.org/1999/xlink\">\n",
       "<g class=\"graph\" id=\"graph0\" transform=\"scale(1.3333 1.3333) rotate(0) translate(4 549)\">\n",
       "<title>G</title>\n",
       "<polygon fill=\"#ffffff\" points=\"-4,4 -4,-549 258,-549 258,4 -4,4\" stroke=\"transparent\"/>\n",
       "<!-- 139773577610408 -->\n",
       "<g class=\"node\" id=\"node1\">\n",
       "<title>139773577610408</title>\n",
       "<polygon fill=\"none\" points=\"0,-498.5 0,-544.5 254,-544.5 254,-498.5 0,-498.5\" stroke=\"#000000\"/>\n",
       "<text fill=\"#000000\" font-family=\"Times,serif\" font-size=\"14.00\" text-anchor=\"middle\" x=\"66.5\" y=\"-517.8\">input_2: InputLayer</text>\n",
       "<polyline fill=\"none\" points=\"133,-498.5 133,-544.5 \" stroke=\"#000000\"/>\n",
       "<text fill=\"#000000\" font-family=\"Times,serif\" font-size=\"14.00\" text-anchor=\"middle\" x=\"162\" y=\"-529.3\">input:</text>\n",
       "<polyline fill=\"none\" points=\"133,-521.5 191,-521.5 \" stroke=\"#000000\"/>\n",
       "<text fill=\"#000000\" font-family=\"Times,serif\" font-size=\"14.00\" text-anchor=\"middle\" x=\"162\" y=\"-506.3\">output:</text>\n",
       "<polyline fill=\"none\" points=\"191,-498.5 191,-544.5 \" stroke=\"#000000\"/>\n",
       "<text fill=\"#000000\" font-family=\"Times,serif\" font-size=\"14.00\" text-anchor=\"middle\" x=\"222.5\" y=\"-529.3\">[(?, 21)]</text>\n",
       "<polyline fill=\"none\" points=\"191,-521.5 254,-521.5 \" stroke=\"#000000\"/>\n",
       "<text fill=\"#000000\" font-family=\"Times,serif\" font-size=\"14.00\" text-anchor=\"middle\" x=\"222.5\" y=\"-506.3\">[(?, 21)]</text>\n",
       "</g>\n",
       "<!-- 139773610574792 -->\n",
       "<g class=\"node\" id=\"node2\">\n",
       "<title>139773610574792</title>\n",
       "<polygon fill=\"none\" points=\"17.5,-415.5 17.5,-461.5 236.5,-461.5 236.5,-415.5 17.5,-415.5\" stroke=\"#000000\"/>\n",
       "<text fill=\"#000000\" font-family=\"Times,serif\" font-size=\"14.00\" text-anchor=\"middle\" x=\"71\" y=\"-434.8\">dense_6: Dense</text>\n",
       "<polyline fill=\"none\" points=\"124.5,-415.5 124.5,-461.5 \" stroke=\"#000000\"/>\n",
       "<text fill=\"#000000\" font-family=\"Times,serif\" font-size=\"14.00\" text-anchor=\"middle\" x=\"153.5\" y=\"-446.3\">input:</text>\n",
       "<polyline fill=\"none\" points=\"124.5,-438.5 182.5,-438.5 \" stroke=\"#000000\"/>\n",
       "<text fill=\"#000000\" font-family=\"Times,serif\" font-size=\"14.00\" text-anchor=\"middle\" x=\"153.5\" y=\"-423.3\">output:</text>\n",
       "<polyline fill=\"none\" points=\"182.5,-415.5 182.5,-461.5 \" stroke=\"#000000\"/>\n",
       "<text fill=\"#000000\" font-family=\"Times,serif\" font-size=\"14.00\" text-anchor=\"middle\" x=\"209.5\" y=\"-446.3\">(?, 21)</text>\n",
       "<polyline fill=\"none\" points=\"182.5,-438.5 236.5,-438.5 \" stroke=\"#000000\"/>\n",
       "<text fill=\"#000000\" font-family=\"Times,serif\" font-size=\"14.00\" text-anchor=\"middle\" x=\"209.5\" y=\"-423.3\">(?, 14)</text>\n",
       "</g>\n",
       "<!-- 139773577610408&#45;&gt;139773610574792 -->\n",
       "<g class=\"edge\" id=\"edge1\">\n",
       "<title>139773577610408-&gt;139773610574792</title>\n",
       "<path d=\"M127,-498.3799C127,-490.1745 127,-480.7679 127,-471.8786\" fill=\"none\" stroke=\"#000000\"/>\n",
       "<polygon fill=\"#000000\" points=\"130.5001,-471.784 127,-461.784 123.5001,-471.784 130.5001,-471.784\" stroke=\"#000000\"/>\n",
       "</g>\n",
       "<!-- 139773577670896 -->\n",
       "<g class=\"node\" id=\"node3\">\n",
       "<title>139773577670896</title>\n",
       "<polygon fill=\"none\" points=\"17.5,-332.5 17.5,-378.5 236.5,-378.5 236.5,-332.5 17.5,-332.5\" stroke=\"#000000\"/>\n",
       "<text fill=\"#000000\" font-family=\"Times,serif\" font-size=\"14.00\" text-anchor=\"middle\" x=\"71\" y=\"-351.8\">dense_7: Dense</text>\n",
       "<polyline fill=\"none\" points=\"124.5,-332.5 124.5,-378.5 \" stroke=\"#000000\"/>\n",
       "<text fill=\"#000000\" font-family=\"Times,serif\" font-size=\"14.00\" text-anchor=\"middle\" x=\"153.5\" y=\"-363.3\">input:</text>\n",
       "<polyline fill=\"none\" points=\"124.5,-355.5 182.5,-355.5 \" stroke=\"#000000\"/>\n",
       "<text fill=\"#000000\" font-family=\"Times,serif\" font-size=\"14.00\" text-anchor=\"middle\" x=\"153.5\" y=\"-340.3\">output:</text>\n",
       "<polyline fill=\"none\" points=\"182.5,-332.5 182.5,-378.5 \" stroke=\"#000000\"/>\n",
       "<text fill=\"#000000\" font-family=\"Times,serif\" font-size=\"14.00\" text-anchor=\"middle\" x=\"209.5\" y=\"-363.3\">(?, 14)</text>\n",
       "<polyline fill=\"none\" points=\"182.5,-355.5 236.5,-355.5 \" stroke=\"#000000\"/>\n",
       "<text fill=\"#000000\" font-family=\"Times,serif\" font-size=\"14.00\" text-anchor=\"middle\" x=\"209.5\" y=\"-340.3\">(?, 5)</text>\n",
       "</g>\n",
       "<!-- 139773610574792&#45;&gt;139773577670896 -->\n",
       "<g class=\"edge\" id=\"edge2\">\n",
       "<title>139773610574792-&gt;139773577670896</title>\n",
       "<path d=\"M127,-415.3799C127,-407.1745 127,-397.7679 127,-388.8786\" fill=\"none\" stroke=\"#000000\"/>\n",
       "<polygon fill=\"#000000\" points=\"130.5001,-388.784 127,-378.784 123.5001,-388.784 130.5001,-388.784\" stroke=\"#000000\"/>\n",
       "</g>\n",
       "<!-- 139773577671456 -->\n",
       "<g class=\"node\" id=\"node4\">\n",
       "<title>139773577671456</title>\n",
       "<polygon fill=\"none\" points=\"21,-249.5 21,-295.5 233,-295.5 233,-249.5 21,-249.5\" stroke=\"#000000\"/>\n",
       "<text fill=\"#000000\" font-family=\"Times,serif\" font-size=\"14.00\" text-anchor=\"middle\" x=\"74.5\" y=\"-268.8\">dense_8: Dense</text>\n",
       "<polyline fill=\"none\" points=\"128,-249.5 128,-295.5 \" stroke=\"#000000\"/>\n",
       "<text fill=\"#000000\" font-family=\"Times,serif\" font-size=\"14.00\" text-anchor=\"middle\" x=\"157\" y=\"-280.3\">input:</text>\n",
       "<polyline fill=\"none\" points=\"128,-272.5 186,-272.5 \" stroke=\"#000000\"/>\n",
       "<text fill=\"#000000\" font-family=\"Times,serif\" font-size=\"14.00\" text-anchor=\"middle\" x=\"157\" y=\"-257.3\">output:</text>\n",
       "<polyline fill=\"none\" points=\"186,-249.5 186,-295.5 \" stroke=\"#000000\"/>\n",
       "<text fill=\"#000000\" font-family=\"Times,serif\" font-size=\"14.00\" text-anchor=\"middle\" x=\"209.5\" y=\"-280.3\">(?, 5)</text>\n",
       "<polyline fill=\"none\" points=\"186,-272.5 233,-272.5 \" stroke=\"#000000\"/>\n",
       "<text fill=\"#000000\" font-family=\"Times,serif\" font-size=\"14.00\" text-anchor=\"middle\" x=\"209.5\" y=\"-257.3\">(?, 2)</text>\n",
       "</g>\n",
       "<!-- 139773577670896&#45;&gt;139773577671456 -->\n",
       "<g class=\"edge\" id=\"edge3\">\n",
       "<title>139773577670896-&gt;139773577671456</title>\n",
       "<path d=\"M127,-332.3799C127,-324.1745 127,-314.7679 127,-305.8786\" fill=\"none\" stroke=\"#000000\"/>\n",
       "<polygon fill=\"#000000\" points=\"130.5001,-305.784 127,-295.784 123.5001,-305.784 130.5001,-305.784\" stroke=\"#000000\"/>\n",
       "</g>\n",
       "<!-- 139773577673360 -->\n",
       "<g class=\"node\" id=\"node5\">\n",
       "<title>139773577673360</title>\n",
       "<polygon fill=\"none\" points=\"21,-166.5 21,-212.5 233,-212.5 233,-166.5 21,-166.5\" stroke=\"#000000\"/>\n",
       "<text fill=\"#000000\" font-family=\"Times,serif\" font-size=\"14.00\" text-anchor=\"middle\" x=\"74.5\" y=\"-185.8\">dense_9: Dense</text>\n",
       "<polyline fill=\"none\" points=\"128,-166.5 128,-212.5 \" stroke=\"#000000\"/>\n",
       "<text fill=\"#000000\" font-family=\"Times,serif\" font-size=\"14.00\" text-anchor=\"middle\" x=\"157\" y=\"-197.3\">input:</text>\n",
       "<polyline fill=\"none\" points=\"128,-189.5 186,-189.5 \" stroke=\"#000000\"/>\n",
       "<text fill=\"#000000\" font-family=\"Times,serif\" font-size=\"14.00\" text-anchor=\"middle\" x=\"157\" y=\"-174.3\">output:</text>\n",
       "<polyline fill=\"none\" points=\"186,-166.5 186,-212.5 \" stroke=\"#000000\"/>\n",
       "<text fill=\"#000000\" font-family=\"Times,serif\" font-size=\"14.00\" text-anchor=\"middle\" x=\"209.5\" y=\"-197.3\">(?, 2)</text>\n",
       "<polyline fill=\"none\" points=\"186,-189.5 233,-189.5 \" stroke=\"#000000\"/>\n",
       "<text fill=\"#000000\" font-family=\"Times,serif\" font-size=\"14.00\" text-anchor=\"middle\" x=\"209.5\" y=\"-174.3\">(?, 5)</text>\n",
       "</g>\n",
       "<!-- 139773577671456&#45;&gt;139773577673360 -->\n",
       "<g class=\"edge\" id=\"edge4\">\n",
       "<title>139773577671456-&gt;139773577673360</title>\n",
       "<path d=\"M127,-249.3799C127,-241.1745 127,-231.7679 127,-222.8786\" fill=\"none\" stroke=\"#000000\"/>\n",
       "<polygon fill=\"#000000\" points=\"130.5001,-222.784 127,-212.784 123.5001,-222.784 130.5001,-222.784\" stroke=\"#000000\"/>\n",
       "</g>\n",
       "<!-- 139773501658504 -->\n",
       "<g class=\"node\" id=\"node6\">\n",
       "<title>139773501658504</title>\n",
       "<polygon fill=\"none\" points=\"14,-83.5 14,-129.5 240,-129.5 240,-83.5 14,-83.5\" stroke=\"#000000\"/>\n",
       "<text fill=\"#000000\" font-family=\"Times,serif\" font-size=\"14.00\" text-anchor=\"middle\" x=\"71\" y=\"-102.8\">dense_10: Dense</text>\n",
       "<polyline fill=\"none\" points=\"128,-83.5 128,-129.5 \" stroke=\"#000000\"/>\n",
       "<text fill=\"#000000\" font-family=\"Times,serif\" font-size=\"14.00\" text-anchor=\"middle\" x=\"157\" y=\"-114.3\">input:</text>\n",
       "<polyline fill=\"none\" points=\"128,-106.5 186,-106.5 \" stroke=\"#000000\"/>\n",
       "<text fill=\"#000000\" font-family=\"Times,serif\" font-size=\"14.00\" text-anchor=\"middle\" x=\"157\" y=\"-91.3\">output:</text>\n",
       "<polyline fill=\"none\" points=\"186,-83.5 186,-129.5 \" stroke=\"#000000\"/>\n",
       "<text fill=\"#000000\" font-family=\"Times,serif\" font-size=\"14.00\" text-anchor=\"middle\" x=\"213\" y=\"-114.3\">(?, 5)</text>\n",
       "<polyline fill=\"none\" points=\"186,-106.5 240,-106.5 \" stroke=\"#000000\"/>\n",
       "<text fill=\"#000000\" font-family=\"Times,serif\" font-size=\"14.00\" text-anchor=\"middle\" x=\"213\" y=\"-91.3\">(?, 14)</text>\n",
       "</g>\n",
       "<!-- 139773577673360&#45;&gt;139773501658504 -->\n",
       "<g class=\"edge\" id=\"edge5\">\n",
       "<title>139773577673360-&gt;139773501658504</title>\n",
       "<path d=\"M127,-166.3799C127,-158.1745 127,-148.7679 127,-139.8786\" fill=\"none\" stroke=\"#000000\"/>\n",
       "<polygon fill=\"#000000\" points=\"130.5001,-139.784 127,-129.784 123.5001,-139.784 130.5001,-139.784\" stroke=\"#000000\"/>\n",
       "</g>\n",
       "<!-- 139773501660744 -->\n",
       "<g class=\"node\" id=\"node7\">\n",
       "<title>139773501660744</title>\n",
       "<polygon fill=\"none\" points=\"14.5,-.5 14.5,-46.5 239.5,-46.5 239.5,-.5 14.5,-.5\" stroke=\"#000000\"/>\n",
       "<text fill=\"#000000\" font-family=\"Times,serif\" font-size=\"14.00\" text-anchor=\"middle\" x=\"71\" y=\"-19.8\">dense_11: Dense</text>\n",
       "<polyline fill=\"none\" points=\"127.5,-.5 127.5,-46.5 \" stroke=\"#000000\"/>\n",
       "<text fill=\"#000000\" font-family=\"Times,serif\" font-size=\"14.00\" text-anchor=\"middle\" x=\"156.5\" y=\"-31.3\">input:</text>\n",
       "<polyline fill=\"none\" points=\"127.5,-23.5 185.5,-23.5 \" stroke=\"#000000\"/>\n",
       "<text fill=\"#000000\" font-family=\"Times,serif\" font-size=\"14.00\" text-anchor=\"middle\" x=\"156.5\" y=\"-8.3\">output:</text>\n",
       "<polyline fill=\"none\" points=\"185.5,-.5 185.5,-46.5 \" stroke=\"#000000\"/>\n",
       "<text fill=\"#000000\" font-family=\"Times,serif\" font-size=\"14.00\" text-anchor=\"middle\" x=\"212.5\" y=\"-31.3\">(?, 14)</text>\n",
       "<polyline fill=\"none\" points=\"185.5,-23.5 239.5,-23.5 \" stroke=\"#000000\"/>\n",
       "<text fill=\"#000000\" font-family=\"Times,serif\" font-size=\"14.00\" text-anchor=\"middle\" x=\"212.5\" y=\"-8.3\">(?, 21)</text>\n",
       "</g>\n",
       "<!-- 139773501658504&#45;&gt;139773501660744 -->\n",
       "<g class=\"edge\" id=\"edge6\">\n",
       "<title>139773501658504-&gt;139773501660744</title>\n",
       "<path d=\"M127,-83.3799C127,-75.1745 127,-65.7679 127,-56.8786\" fill=\"none\" stroke=\"#000000\"/>\n",
       "<polygon fill=\"#000000\" points=\"130.5001,-56.784 127,-46.784 123.5001,-56.784 130.5001,-56.784\" stroke=\"#000000\"/>\n",
       "</g>\n",
       "</g>\n",
       "</svg>"
      ],
      "text/plain": [
       "<IPython.core.display.SVG object>"
      ]
     },
     "execution_count": 8,
     "metadata": {
      "tags": []
     },
     "output_type": "execute_result"
    }
   ],
   "source": [
    "from keras.utils.vis_utils import model_to_dot, plot_model\n",
    "from IPython.display import SVG\n",
    "SVG(model_to_dot(autoencoder, \\\n",
    "                 show_shapes=True)\n",
    "    .create(prog='dot', format='svg'))"
   ]
  },
  {
   "cell_type": "code",
   "execution_count": 9,
   "metadata": {
    "colab": {
     "base_uri": "https://localhost:8080/"
    },
    "id": "2R7Bb05tdirj",
    "outputId": "e3ae663b-743c-452c-8e33-bf80d91377aa"
   },
   "outputs": [
    {
     "name": "stdout",
     "output_type": "stream",
     "text": [
      "Epoch 1/30\n",
      "37/37 [==============================] - 0s 5ms/step - loss: 0.0794 - accuracy: 0.2216 - val_loss: 0.0666 - val_accuracy: 0.4780\n",
      "Epoch 2/30\n",
      "37/37 [==============================] - 0s 2ms/step - loss: 0.0581 - accuracy: 0.4508 - val_loss: 0.0503 - val_accuracy: 0.4780\n",
      "Epoch 3/30\n",
      "37/37 [==============================] - 0s 2ms/step - loss: 0.0454 - accuracy: 0.4508 - val_loss: 0.0409 - val_accuracy: 0.4780\n",
      "Epoch 4/30\n",
      "37/37 [==============================] - 0s 2ms/step - loss: 0.0382 - accuracy: 0.4508 - val_loss: 0.0356 - val_accuracy: 0.4780\n",
      "Epoch 5/30\n",
      "37/37 [==============================] - 0s 2ms/step - loss: 0.0342 - accuracy: 0.4508 - val_loss: 0.0327 - val_accuracy: 0.4780\n",
      "Epoch 6/30\n",
      "37/37 [==============================] - 0s 2ms/step - loss: 0.0320 - accuracy: 0.4508 - val_loss: 0.0310 - val_accuracy: 0.4780\n",
      "Epoch 7/30\n",
      "37/37 [==============================] - 0s 2ms/step - loss: 0.0307 - accuracy: 0.4508 - val_loss: 0.0299 - val_accuracy: 0.4780\n",
      "Epoch 8/30\n",
      "37/37 [==============================] - 0s 2ms/step - loss: 0.0299 - accuracy: 0.4508 - val_loss: 0.0293 - val_accuracy: 0.4780\n",
      "Epoch 9/30\n",
      "37/37 [==============================] - 0s 2ms/step - loss: 0.0294 - accuracy: 0.4508 - val_loss: 0.0289 - val_accuracy: 0.4780\n",
      "Epoch 10/30\n",
      "37/37 [==============================] - 0s 2ms/step - loss: 0.0290 - accuracy: 0.4508 - val_loss: 0.0286 - val_accuracy: 0.4780\n",
      "Epoch 11/30\n",
      "37/37 [==============================] - 0s 2ms/step - loss: 0.0288 - accuracy: 0.4508 - val_loss: 0.0284 - val_accuracy: 0.4780\n",
      "Epoch 12/30\n",
      "37/37 [==============================] - 0s 2ms/step - loss: 0.0286 - accuracy: 0.4508 - val_loss: 0.0282 - val_accuracy: 0.4780\n",
      "Epoch 13/30\n",
      "37/37 [==============================] - 0s 2ms/step - loss: 0.0285 - accuracy: 0.4508 - val_loss: 0.0281 - val_accuracy: 0.4780\n",
      "Epoch 14/30\n",
      "37/37 [==============================] - 0s 2ms/step - loss: 0.0284 - accuracy: 0.4508 - val_loss: 0.0280 - val_accuracy: 0.4780\n",
      "Epoch 15/30\n",
      "37/37 [==============================] - 0s 2ms/step - loss: 0.0283 - accuracy: 0.4508 - val_loss: 0.0280 - val_accuracy: 0.4780\n",
      "Epoch 16/30\n",
      "37/37 [==============================] - 0s 2ms/step - loss: 0.0283 - accuracy: 0.4508 - val_loss: 0.0279 - val_accuracy: 0.4780\n",
      "Epoch 17/30\n",
      "37/37 [==============================] - 0s 2ms/step - loss: 0.0282 - accuracy: 0.4508 - val_loss: 0.0279 - val_accuracy: 0.4780\n",
      "Epoch 18/30\n",
      "37/37 [==============================] - 0s 2ms/step - loss: 0.0282 - accuracy: 0.4508 - val_loss: 0.0278 - val_accuracy: 0.4780\n",
      "Epoch 19/30\n",
      "37/37 [==============================] - 0s 2ms/step - loss: 0.0281 - accuracy: 0.4508 - val_loss: 0.0278 - val_accuracy: 0.4780\n",
      "Epoch 20/30\n",
      "37/37 [==============================] - 0s 2ms/step - loss: 0.0281 - accuracy: 0.4508 - val_loss: 0.0278 - val_accuracy: 0.4780\n",
      "Epoch 21/30\n",
      "37/37 [==============================] - 0s 2ms/step - loss: 0.0281 - accuracy: 0.4508 - val_loss: 0.0278 - val_accuracy: 0.4780\n",
      "Epoch 22/30\n",
      "37/37 [==============================] - 0s 2ms/step - loss: 0.0281 - accuracy: 0.4508 - val_loss: 0.0277 - val_accuracy: 0.4780\n",
      "Epoch 23/30\n",
      "37/37 [==============================] - 0s 2ms/step - loss: 0.0281 - accuracy: 0.4508 - val_loss: 0.0277 - val_accuracy: 0.4780\n",
      "Epoch 24/30\n",
      "37/37 [==============================] - 0s 2ms/step - loss: 0.0281 - accuracy: 0.4508 - val_loss: 0.0277 - val_accuracy: 0.4780\n",
      "Epoch 25/30\n",
      "37/37 [==============================] - 0s 2ms/step - loss: 0.0280 - accuracy: 0.4508 - val_loss: 0.0277 - val_accuracy: 0.4780\n",
      "Epoch 26/30\n",
      "37/37 [==============================] - 0s 2ms/step - loss: 0.0280 - accuracy: 0.4508 - val_loss: 0.0277 - val_accuracy: 0.4780\n",
      "Epoch 27/30\n",
      "37/37 [==============================] - 0s 2ms/step - loss: 0.0280 - accuracy: 0.4508 - val_loss: 0.0277 - val_accuracy: 0.4780\n",
      "Epoch 28/30\n",
      "37/37 [==============================] - 0s 2ms/step - loss: 0.0280 - accuracy: 0.4508 - val_loss: 0.0277 - val_accuracy: 0.4780\n",
      "Epoch 29/30\n",
      "37/37 [==============================] - 0s 2ms/step - loss: 0.0280 - accuracy: 0.4508 - val_loss: 0.0277 - val_accuracy: 0.4780\n",
      "Epoch 30/30\n",
      "37/37 [==============================] - 0s 2ms/step - loss: 0.0280 - accuracy: 0.4508 - val_loss: 0.0277 - val_accuracy: 0.4780\n"
     ]
    },
    {
     "data": {
      "text/plain": [
       "<tensorflow.python.keras.callbacks.History at 0x7f1f8de32d68>"
      ]
     },
     "execution_count": 9,
     "metadata": {
      "tags": []
     },
     "output_type": "execute_result"
    }
   ],
   "source": [
    "from sklearn.model_selection import train_test_split\n",
    "x_train, x_validation = train_test_split(data_train, test_size=0.2, random_state =123 )\n",
    "autoencoder.compile(optimizer='adam', loss='mse', metrics=['accuracy'])\n",
    "autoencoder.fit(x_train, x_train,\n",
    "                epochs=30,\n",
    "                batch_size=32,\n",
    "                shuffle=True,\n",
    "                validation_data=(x_validation, x_validation))"
   ]
  },
  {
   "cell_type": "code",
   "execution_count": 10,
   "metadata": {
    "colab": {
     "base_uri": "https://localhost:8080/",
     "height": 294
    },
    "id": "wlslN9suHH2Z",
    "outputId": "793972ac-d1be-4167-c80c-cb59a016d02f"
   },
   "outputs": [
    {
     "data": {
      "text/html": [
       "<div>\n",
       "<style scoped>\n",
       "    .dataframe tbody tr th:only-of-type {\n",
       "        vertical-align: middle;\n",
       "    }\n",
       "\n",
       "    .dataframe tbody tr th {\n",
       "        vertical-align: top;\n",
       "    }\n",
       "\n",
       "    .dataframe thead th {\n",
       "        text-align: right;\n",
       "    }\n",
       "</style>\n",
       "<table border=\"1\" class=\"dataframe\">\n",
       "  <thead>\n",
       "    <tr style=\"text-align: right;\">\n",
       "      <th></th>\n",
       "      <th>reconstruction_error</th>\n",
       "      <th>true_class</th>\n",
       "    </tr>\n",
       "  </thead>\n",
       "  <tbody>\n",
       "    <tr>\n",
       "      <th>count</th>\n",
       "      <td>358.000000</td>\n",
       "      <td>358.000000</td>\n",
       "    </tr>\n",
       "    <tr>\n",
       "      <th>mean</th>\n",
       "      <td>0.063879</td>\n",
       "      <td>0.491620</td>\n",
       "    </tr>\n",
       "    <tr>\n",
       "      <th>std</th>\n",
       "      <td>0.049654</td>\n",
       "      <td>0.500629</td>\n",
       "    </tr>\n",
       "    <tr>\n",
       "      <th>min</th>\n",
       "      <td>0.005245</td>\n",
       "      <td>0.000000</td>\n",
       "    </tr>\n",
       "    <tr>\n",
       "      <th>25%</th>\n",
       "      <td>0.024942</td>\n",
       "      <td>0.000000</td>\n",
       "    </tr>\n",
       "    <tr>\n",
       "      <th>50%</th>\n",
       "      <td>0.050819</td>\n",
       "      <td>0.000000</td>\n",
       "    </tr>\n",
       "    <tr>\n",
       "      <th>75%</th>\n",
       "      <td>0.086190</td>\n",
       "      <td>1.000000</td>\n",
       "    </tr>\n",
       "    <tr>\n",
       "      <th>max</th>\n",
       "      <td>0.254057</td>\n",
       "      <td>1.000000</td>\n",
       "    </tr>\n",
       "  </tbody>\n",
       "</table>\n",
       "</div>"
      ],
      "text/plain": [
       "       reconstruction_error  true_class\n",
       "count            358.000000  358.000000\n",
       "mean               0.063879    0.491620\n",
       "std                0.049654    0.500629\n",
       "min                0.005245    0.000000\n",
       "25%                0.024942    0.000000\n",
       "50%                0.050819    0.000000\n",
       "75%                0.086190    1.000000\n",
       "max                0.254057    1.000000"
      ]
     },
     "execution_count": 10,
     "metadata": {
      "tags": []
     },
     "output_type": "execute_result"
    }
   ],
   "source": [
    "predictions = autoencoder.predict(x_test)\n",
    "mse = np.mean(np.power(x_test - predictions, 2), axis=1)\n",
    "error_df = pd.DataFrame({'reconstruction_error': mse,\n",
    "                        'true_class': y_test})\n",
    "error_df.describe()"
   ]
  },
  {
   "cell_type": "code",
   "execution_count": 11,
   "metadata": {
    "colab": {
     "base_uri": "https://localhost:8080/",
     "height": 294
    },
    "id": "aS4g28KOgFAJ",
    "outputId": "239c1355-28af-419b-fe2e-feaed2f0bb5d"
   },
   "outputs": [
    {
     "data": {
      "text/html": [
       "<div>\n",
       "<style scoped>\n",
       "    .dataframe tbody tr th:only-of-type {\n",
       "        vertical-align: middle;\n",
       "    }\n",
       "\n",
       "    .dataframe tbody tr th {\n",
       "        vertical-align: top;\n",
       "    }\n",
       "\n",
       "    .dataframe thead th {\n",
       "        text-align: right;\n",
       "    }\n",
       "</style>\n",
       "<table border=\"1\" class=\"dataframe\">\n",
       "  <thead>\n",
       "    <tr style=\"text-align: right;\">\n",
       "      <th></th>\n",
       "      <th>reconstruction_error</th>\n",
       "      <th>true_class</th>\n",
       "    </tr>\n",
       "  </thead>\n",
       "  <tbody>\n",
       "    <tr>\n",
       "      <th>count</th>\n",
       "      <td>182.000000</td>\n",
       "      <td>182.0</td>\n",
       "    </tr>\n",
       "    <tr>\n",
       "      <th>mean</th>\n",
       "      <td>0.029145</td>\n",
       "      <td>0.0</td>\n",
       "    </tr>\n",
       "    <tr>\n",
       "      <th>std</th>\n",
       "      <td>0.016729</td>\n",
       "      <td>0.0</td>\n",
       "    </tr>\n",
       "    <tr>\n",
       "      <th>min</th>\n",
       "      <td>0.005245</td>\n",
       "      <td>0.0</td>\n",
       "    </tr>\n",
       "    <tr>\n",
       "      <th>25%</th>\n",
       "      <td>0.018600</td>\n",
       "      <td>0.0</td>\n",
       "    </tr>\n",
       "    <tr>\n",
       "      <th>50%</th>\n",
       "      <td>0.025010</td>\n",
       "      <td>0.0</td>\n",
       "    </tr>\n",
       "    <tr>\n",
       "      <th>75%</th>\n",
       "      <td>0.033461</td>\n",
       "      <td>0.0</td>\n",
       "    </tr>\n",
       "    <tr>\n",
       "      <th>max</th>\n",
       "      <td>0.112917</td>\n",
       "      <td>0.0</td>\n",
       "    </tr>\n",
       "  </tbody>\n",
       "</table>\n",
       "</div>"
      ],
      "text/plain": [
       "       reconstruction_error  true_class\n",
       "count            182.000000       182.0\n",
       "mean               0.029145         0.0\n",
       "std                0.016729         0.0\n",
       "min                0.005245         0.0\n",
       "25%                0.018600         0.0\n",
       "50%                0.025010         0.0\n",
       "75%                0.033461         0.0\n",
       "max                0.112917         0.0"
      ]
     },
     "execution_count": 11,
     "metadata": {
      "tags": []
     },
     "output_type": "execute_result"
    }
   ],
   "source": [
    "error_df[error_df['true_class']==0].describe()"
   ]
  },
  {
   "cell_type": "code",
   "execution_count": 12,
   "metadata": {
    "colab": {
     "base_uri": "https://localhost:8080/",
     "height": 294
    },
    "id": "pHeTq0zAgHso",
    "outputId": "dbda9142-b051-465b-8baa-e2aede8669ef"
   },
   "outputs": [
    {
     "data": {
      "text/html": [
       "<div>\n",
       "<style scoped>\n",
       "    .dataframe tbody tr th:only-of-type {\n",
       "        vertical-align: middle;\n",
       "    }\n",
       "\n",
       "    .dataframe tbody tr th {\n",
       "        vertical-align: top;\n",
       "    }\n",
       "\n",
       "    .dataframe thead th {\n",
       "        text-align: right;\n",
       "    }\n",
       "</style>\n",
       "<table border=\"1\" class=\"dataframe\">\n",
       "  <thead>\n",
       "    <tr style=\"text-align: right;\">\n",
       "      <th></th>\n",
       "      <th>reconstruction_error</th>\n",
       "      <th>true_class</th>\n",
       "    </tr>\n",
       "  </thead>\n",
       "  <tbody>\n",
       "    <tr>\n",
       "      <th>count</th>\n",
       "      <td>176.000000</td>\n",
       "      <td>176.0</td>\n",
       "    </tr>\n",
       "    <tr>\n",
       "      <th>mean</th>\n",
       "      <td>0.099798</td>\n",
       "      <td>1.0</td>\n",
       "    </tr>\n",
       "    <tr>\n",
       "      <th>std</th>\n",
       "      <td>0.046776</td>\n",
       "      <td>0.0</td>\n",
       "    </tr>\n",
       "    <tr>\n",
       "      <th>min</th>\n",
       "      <td>0.038972</td>\n",
       "      <td>1.0</td>\n",
       "    </tr>\n",
       "    <tr>\n",
       "      <th>25%</th>\n",
       "      <td>0.067916</td>\n",
       "      <td>1.0</td>\n",
       "    </tr>\n",
       "    <tr>\n",
       "      <th>50%</th>\n",
       "      <td>0.086066</td>\n",
       "      <td>1.0</td>\n",
       "    </tr>\n",
       "    <tr>\n",
       "      <th>75%</th>\n",
       "      <td>0.113759</td>\n",
       "      <td>1.0</td>\n",
       "    </tr>\n",
       "    <tr>\n",
       "      <th>max</th>\n",
       "      <td>0.254057</td>\n",
       "      <td>1.0</td>\n",
       "    </tr>\n",
       "  </tbody>\n",
       "</table>\n",
       "</div>"
      ],
      "text/plain": [
       "       reconstruction_error  true_class\n",
       "count            176.000000       176.0\n",
       "mean               0.099798         1.0\n",
       "std                0.046776         0.0\n",
       "min                0.038972         1.0\n",
       "25%                0.067916         1.0\n",
       "50%                0.086066         1.0\n",
       "75%                0.113759         1.0\n",
       "max                0.254057         1.0"
      ]
     },
     "execution_count": 12,
     "metadata": {
      "tags": []
     },
     "output_type": "execute_result"
    }
   ],
   "source": [
    "error_df[error_df['true_class']==1].describe()"
   ]
  },
  {
   "cell_type": "code",
   "execution_count": 13,
   "metadata": {
    "colab": {
     "base_uri": "https://localhost:8080/",
     "height": 265
    },
    "id": "VeH3TvBPhzg4",
    "outputId": "b779cbce-6278-47df-9d79-b2222471b04c"
   },
   "outputs": [
    {
     "data": {
      "image/png": "[encoded data removed]",
      "text/plain": [
       "<Figure size 432x288 with 1 Axes>"
      ]
     },
     "metadata": {
      "needs_background": "light",
      "tags": []
     },
     "output_type": "display_data"
    }
   ],
   "source": [
    "hist_1 = plt.hist(error_df[error_df['true_class']==0].reconstruction_error, bins=30, alpha=0.3,color='green')\n",
    "hist_2 = plt.hist(error_df[error_df['true_class']==1].reconstruction_error, bins=30, alpha =0.3 ,color='red')\n",
    "plt.legend(['0-Normal', '1-frauds'], loc ='upper right')\n",
    "plt.show()"
   ]
  },
  {
   "cell_type": "code",
   "execution_count": 14,
   "metadata": {
    "colab": {
     "base_uri": "https://localhost:8080/"
    },
    "id": "LMQG8Bl7jg09",
    "outputId": "03c17ed8-21cf-401c-dc88-e3347c7e256d"
   },
   "outputs": [
    {
     "data": {
      "text/plain": [
       "array([0., 0., 0., 0., 0., 1., 1., 0., 0., 0., 0., 0., 0., 0., 0., 0., 0.,\n",
       "       1., 0., 0., 1., 0., 0., 0., 0., 0., 0., 0., 1., 0., 0., 0., 0., 0.,\n",
       "       0., 0., 0., 0., 0., 0., 0., 0., 0., 0., 0., 0., 0., 0., 0., 0., 0.,\n",
       "       0., 0., 0., 1., 0., 0., 0., 0., 0., 1., 0., 1., 0., 0., 0., 0., 0.,\n",
       "       0., 0., 0., 0., 0., 0., 0., 0., 0., 0., 0., 0., 0., 0., 0., 0., 0.,\n",
       "       0., 1., 0., 0., 0., 0., 0., 0., 0., 0., 0., 0., 0., 0., 0., 0., 0.,\n",
       "       0., 0., 0., 0., 0., 0., 0., 0., 0., 0., 1., 0., 0., 0., 0., 0., 0.,\n",
       "       0., 0., 0., 0., 0., 0., 0., 0., 0., 0., 0., 0., 0., 0., 0., 0., 0.,\n",
       "       0., 0., 1., 0., 0., 0., 0., 0., 1., 0., 0., 0., 0., 0., 0., 0., 1.,\n",
       "       0., 0., 0., 0., 0., 0., 0., 1., 0., 0., 0., 0., 0., 0., 1., 0., 0.,\n",
       "       0., 0., 0., 0., 0., 0., 0., 0., 0., 0., 0., 0., 0., 0., 0., 0., 0.,\n",
       "       0., 0., 0., 1., 1., 0., 0., 0., 0., 1., 0., 0., 0., 1., 1., 1., 1.,\n",
       "       1., 1., 1., 1., 1., 1., 1., 1., 1., 1., 1., 1., 1., 1., 1., 1., 1.,\n",
       "       1., 1., 1., 1., 1., 1., 1., 1., 1., 1., 1., 1., 1., 1., 1., 1., 1.,\n",
       "       1., 1., 1., 1., 1., 1., 1., 1., 1., 1., 1., 1., 1., 1., 1., 1., 1.,\n",
       "       1., 1., 1., 1., 1., 1., 1., 1., 1., 1., 1., 1., 1., 1., 1., 1., 1.,\n",
       "       1., 1., 1., 1., 1., 1., 1., 1., 1., 1., 1., 1., 1., 1., 1., 1., 1.,\n",
       "       1., 1., 1., 1., 1., 1., 1., 1., 1., 1., 1., 1., 1., 1., 1., 1., 1.,\n",
       "       1., 1., 1., 1., 1., 1., 1., 1., 1., 1., 1., 1., 1., 1., 1., 1., 1.,\n",
       "       1., 1., 1., 1., 1., 1., 1., 1., 1., 1., 1., 1., 1., 1., 1., 1., 1.,\n",
       "       1., 1., 1., 1., 1., 1., 1., 1., 1., 1., 1., 1., 1., 1., 1., 1., 1.,\n",
       "       1.])"
      ]
     },
     "execution_count": 14,
     "metadata": {
      "tags": []
     },
     "output_type": "execute_result"
    }
   ],
   "source": [
    "y_true=y_test.values\n",
    "y_true"
   ]
  },
  {
   "cell_type": "code",
   "execution_count": 15,
   "metadata": {
    "colab": {
     "base_uri": "https://localhost:8080/"
    },
    "id": "i3fwdnpHpsGt",
    "outputId": "e5eefd4b-030f-4baf-8b2a-543d200326e2"
   },
   "outputs": [
    {
     "data": {
      "text/plain": [
       "array([0., 1., 0., 1., 0., 1., 1., 0., 0., 0., 0., 0., 0., 1., 0., 1., 0.,\n",
       "       1., 0., 1., 1., 0., 0., 0., 0., 1., 1., 1., 1., 1., 0., 0., 0., 0.,\n",
       "       0., 0., 0., 1., 0., 0., 0., 0., 1., 0., 1., 0., 0., 0., 0., 0., 0.,\n",
       "       0., 0., 0., 1., 0., 0., 0., 0., 0., 1., 0., 1., 0., 1., 1., 1., 0.,\n",
       "       0., 0., 0., 1., 0., 0., 0., 0., 0., 0., 0., 0., 0., 0., 0., 0., 1.,\n",
       "       0., 1., 0., 0., 0., 0., 0., 0., 0., 0., 1., 0., 1., 0., 1., 0., 0.,\n",
       "       0., 0., 0., 1., 0., 0., 0., 0., 0., 0., 1., 0., 0., 1., 0., 0., 1.,\n",
       "       0., 0., 0., 1., 0., 0., 0., 1., 0., 0., 1., 0., 0., 0., 0., 0., 0.,\n",
       "       1., 0., 1., 1., 0., 0., 1., 0., 1., 0., 0., 0., 0., 0., 1., 0., 1.,\n",
       "       1., 0., 0., 0., 0., 0., 0., 1., 0., 0., 0., 0., 0., 1., 1., 0., 1.,\n",
       "       0., 0., 0., 0., 0., 0., 1., 0., 0., 0., 0., 0., 0., 1., 0., 1., 0.,\n",
       "       0., 0., 0., 1., 1., 0., 0., 0., 0., 1., 0., 0., 1., 1., 1., 1., 1.,\n",
       "       1., 1., 1., 1., 1., 1., 1., 1., 1., 1., 1., 1., 1., 1., 1., 1., 1.,\n",
       "       1., 1., 1., 1., 1., 1., 1., 1., 1., 1., 1., 1., 1., 1., 1., 1., 1.,\n",
       "       1., 1., 1., 1., 1., 1., 1., 1., 1., 1., 1., 1., 1., 1., 1., 1., 1.,\n",
       "       1., 1., 1., 1., 1., 1., 1., 1., 1., 1., 1., 1., 1., 1., 1., 1., 1.,\n",
       "       1., 1., 1., 1., 1., 1., 1., 1., 1., 1., 1., 1., 1., 1., 1., 1., 1.,\n",
       "       1., 1., 1., 1., 1., 1., 1., 1., 1., 1., 1., 1., 1., 1., 1., 1., 1.,\n",
       "       1., 1., 1., 1., 1., 1., 1., 1., 1., 1., 1., 1., 1., 1., 1., 1., 1.,\n",
       "       1., 1., 1., 1., 1., 1., 1., 1., 1., 1., 1., 1., 1., 1., 1., 1., 1.,\n",
       "       1., 1., 1., 1., 1., 1., 1., 1., 1., 1., 1., 1., 1., 1., 1., 1., 1.,\n",
       "       1.])"
      ]
     },
     "execution_count": 15,
     "metadata": {
      "tags": []
     },
     "output_type": "execute_result"
    }
   ],
   "source": [
    "mse[mse > 0.037] = 1\n",
    "mse[mse < 0.037] = 0\n",
    "mse"
   ]
  },
  {
   "cell_type": "code",
   "execution_count": 16,
   "metadata": {
    "colab": {
     "base_uri": "https://localhost:8080/"
    },
    "id": "xofCtamii4jR",
    "outputId": "305ba5ca-aed2-4e84-80f0-2266371ded60"
   },
   "outputs": [
    {
     "name": "stdout",
     "output_type": "stream",
     "text": [
      "              precision    recall  f1-score   support\n",
      "\n",
      "         0.0       1.00      0.80      0.89       182\n",
      "         1.0       0.83      1.00      0.90       176\n",
      "\n",
      "    accuracy                           0.90       358\n",
      "   macro avg       0.91      0.90      0.90       358\n",
      "weighted avg       0.91      0.90      0.90       358\n",
      "\n"
     ]
    }
   ],
   "source": [
    "#from plot\n",
    "#threshold 0.037\n",
    "from sklearn.metrics import classification_report\n",
    "print(classification_report(y_true, y_pred=mse))"
   ]
  },
  {
   "cell_type": "code",
   "execution_count": 18,
   "metadata": {
    "colab": {
     "base_uri": "https://localhost:8080/"
    },
    "id": "sy5yCbuhfhN8",
    "outputId": "446e6149-affd-45de-c6b8-c3443546a6eb"
   },
   "outputs": [
    {
     "name": "stdout",
     "output_type": "stream",
     "text": [
      "Model: \"functional_5\"\n",
      "_________________________________________________________________\n",
      "Layer (type)                 Output Shape              Param #   \n",
      "=================================================================\n",
      "input_2 (InputLayer)         [(None, 21)]              0         \n",
      "_________________________________________________________________\n",
      "dense_6 (Dense)              (None, 14)                308       \n",
      "_________________________________________________________________\n",
      "dense_7 (Dense)              (None, 5)                 75        \n",
      "_________________________________________________________________\n",
      "dense_8 (Dense)              (None, 2)                 12        \n",
      "_________________________________________________________________\n",
      "dense_9 (Dense)              (None, 5)                 15        \n",
      "_________________________________________________________________\n",
      "dense_10 (Dense)             (None, 14)                84        \n",
      "_________________________________________________________________\n",
      "dense_11 (Dense)             (None, 21)                315       \n",
      "=================================================================\n",
      "Total params: 809\n",
      "Trainable params: 809\n",
      "Non-trainable params: 0\n",
      "_________________________________________________________________\n",
      "None\n"
     ]
    }
   ],
   "source": [
    "bottleneck_model = Model(inputs=autoencoder.input, outputs=autoencoder.get_layer('dense_11').output)\n",
    "print(bottleneck_model.summary())"
   ]
  },
  {
   "cell_type": "code",
   "execution_count": 19,
   "metadata": {
    "colab": {
     "base_uri": "https://localhost:8080/",
     "height": 265
    },
    "id": "VuAktgZEg78m",
    "outputId": "f5508cb3-2f85-4ab2-c1cb-10a66ca1c8b8"
   },
   "outputs": [
    {
     "data": {
      "image/png": "[encoded data removed]",
      "text/plain": [
       "<Figure size 432x288 with 1 Axes>"
      ]
     },
     "metadata": {
      "needs_background": "light",
      "tags": []
     },
     "output_type": "display_data"
    }
   ],
   "source": [
    "bottleneck_feature_0 = bottleneck_model.predict(test[test['label']==0].drop(['label'], axis=1))\n",
    "bottleneck_feature_1 = bottleneck_model.predict(test[test['label']==1].drop(['label'], axis=1))\n",
    "sca_0 = plt.scatter(bottleneck_feature_0[:,0], bottleneck_feature_0[:,1], color= 'blue',alpha=0.5)\n",
    "sca_1 = plt.scatter(bottleneck_feature_1[:,0], bottleneck_feature_1[:,1], color= 'orange',alpha=0.5)\n",
    "plt.show()"
   ]
  },
  {
   "cell_type": "markdown",
   "metadata": {
    "id": "TavrUu2w7sBD"
   },
   "source": [
    "Analysis:\n",
    "Describe how you choose the hyperparameters, e.g. dimension of each layer, activation function, loss function etc.\n",
    "---I try many times with different hyperparameters. In this case, I use (14,5,2) in these three layers. only keeping the encoder and decoder are symmetry, it is ok.\n",
    "About activation fucntion and loss function,they are normal adjustment parameters.\n",
    "\n",
    "\n",
    "Discuss whether you are able to detect outliers by reconstruction errors.\n",
    "---I think this model can work well."
   ]
  },
  {
   "cell_type": "markdown",
   "metadata": {
    "id": "TxzK-MHQSDCJ"
   },
   "source": [
    "### Task 3:  Anomaly detection by VAE"
   ]
  },
  {
   "cell_type": "markdown",
   "metadata": {
    "id": "TfI1weluSDCJ"
   },
   "source": [
    "1. Create a VAE model and complete Requirements (1)-(5) as stated in Task 2.\n",
    "    - since sampling is used to reconstruct samples, when we reconstruct samples, to reduce the variation in the reconstructed samples, for each sample, we predict many times, i.e. 100 times, and use the mean of predictions as the final output<br><br>\n",
    "2. Compare the results obtained in both models and comment on pros and cons of each model in following three aspects.\n",
    "    - Performance:\n",
    "    - Stability:\n",
    "    - Robustness:    "
   ]
  },
  {
   "cell_type": "code",
   "execution_count": 4,
   "metadata": {
    "collapsed": true,
    "id": "VUX_4sWGnNLj"
   },
   "outputs": [],
   "source": [
    "class KLDivergenceLayer(Layer):\n",
    "\n",
    "    \"\"\" Identity transform layer that adds KL divergence\n",
    "    to the final model loss.\n",
    "    \"\"\"\n",
    "\n",
    "    def __init__(self, *args, **kwargs):\n",
    "        self.is_placeholder = True\n",
    "        super(KLDivergenceLayer, self).__init__(*args, **kwargs)\n",
    "\n",
    "    def call(self, inputs):\n",
    "\n",
    "        mu, log_var = inputs\n",
    "\n",
    "        kl_batch = - .5 * K.sum(1 + log_var -\n",
    "                                K.square(mu) -\n",
    "                                K.exp(log_var), axis=-1)\n",
    "\n",
    "        self.add_loss(K.mean(kl_batch), inputs=inputs)\n",
    "\n",
    "        return inputs"
   ]
  },
  {
   "cell_type": "code",
   "execution_count": 12,
   "metadata": {
    "collapsed": true,
    "id": "32xy8OHySDCJ",
    "outputId": "b5e9842c-12ee-4faf-82a6-66ac193821e6"
   },
   "outputs": [],
   "source": [
    "\n",
    "original_dim = 21\n",
    "intermediate_dim = 14\n",
    "latent_dim = 2\n",
    "batch_size = 32\n",
    "epochs = 30\n",
    "epsilon_std = 1.0\n",
    "\n",
    "x = Input(shape=(original_dim,), name='x')\n",
    "h = Dense(intermediate_dim, activation='relu', \n",
    "          name='hidden_enc')(x)\n",
    "z_mu = Dense(latent_dim, name='mu')(h)\n",
    "z_log_var = Dense(latent_dim, name='log_var')(h)\n",
    "z_mu, z_log_var = KLDivergenceLayer(name='kl')([z_mu, z_log_var])\n",
    "z_sigma = Lambda(lambda t: K.exp(.5*t), name='sigma')(z_log_var)\n",
    "\n",
    "eps = Input(tensor=K.random_normal(shape=(K.shape(x)[0], \n",
    "                                          latent_dim)), name='eps')\n",
    "z_eps = Multiply(name='z_eps')([z_sigma, eps])\n",
    "z = Add(name='z')([z_mu, z_eps])"
   ]
  },
  {
   "cell_type": "code",
   "execution_count": 6,
   "metadata": {
    "colab": {
     "base_uri": "https://localhost:8080/",
     "height": 880
    },
    "id": "MP32fv5NldVE",
    "outputId": "68704259-d03e-48d5-f7b3-9ab4a74dedb7"
   },
   "outputs": [
    {
     "name": "stdout",
     "output_type": "stream",
     "text": [
      "WARNING:tensorflow:From C:\\Users\\Jiang\\AppData\\Local\\Continuum\\anaconda3\\envs\\tf\\lib\\site-packages\\keras\\backend\\tensorflow_backend.py:64: The name tf.get_default_graph is deprecated. Please use tf.compat.v1.get_default_graph instead.\n",
      "\n"
     ]
    },
    {
     "data": {
      "image/svg+xml": [
       "<svg height=\"483pt\" viewBox=\"0.00 0.00 261.50 483.00\" width=\"262pt\" xmlns=\"http://www.w3.org/2000/svg\" xmlns:xlink=\"http://www.w3.org/1999/xlink\">\n",
       "<g class=\"graph\" id=\"graph0\" transform=\"scale(1 1) rotate(0) translate(4 479)\">\n",
       "<title>G</title>\n",
       "<polygon fill=\"white\" points=\"-4,4 -4,-479 257.5,-479 257.5,4 -4,4\" stroke=\"none\"/>\n",
       "<!-- 2535119954608 -->\n",
       "<g class=\"node\" id=\"node1\"><title>2535119954608</title>\n",
       "<polygon fill=\"none\" points=\"105,-438.5 105,-474.5 196,-474.5 196,-438.5 105,-438.5\" stroke=\"black\"/>\n",
       "<text font-family=\"Times New Roman,serif\" font-size=\"14.00\" text-anchor=\"middle\" x=\"150.5\" y=\"-452.8\">x: InputLayer</text>\n",
       "</g>\n",
       "<!-- 2535119954664 -->\n",
       "<g class=\"node\" id=\"node2\"><title>2535119954664</title>\n",
       "<polygon fill=\"none\" points=\"89.5,-365.5 89.5,-401.5 211.5,-401.5 211.5,-365.5 89.5,-365.5\" stroke=\"black\"/>\n",
       "<text font-family=\"Times New Roman,serif\" font-size=\"14.00\" text-anchor=\"middle\" x=\"150.5\" y=\"-379.8\">hidden_enc: Dense</text>\n",
       "</g>\n",
       "<!-- 2535119954608&#45;&gt;2535119954664 -->\n",
       "<g class=\"edge\" id=\"edge1\"><title>2535119954608-&gt;2535119954664</title>\n",
       "<path d=\"M150.5,-438.313C150.5,-430.289 150.5,-420.547 150.5,-411.569\" fill=\"none\" stroke=\"black\"/>\n",
       "<polygon fill=\"black\" points=\"154,-411.529 150.5,-401.529 147,-411.529 154,-411.529\" stroke=\"black\"/>\n",
       "</g>\n",
       "<!-- 2535119955224 -->\n",
       "<g class=\"node\" id=\"node3\"><title>2535119955224</title>\n",
       "<polygon fill=\"none\" points=\"60,-292.5 60,-328.5 135,-328.5 135,-292.5 60,-292.5\" stroke=\"black\"/>\n",
       "<text font-family=\"Times New Roman,serif\" font-size=\"14.00\" text-anchor=\"middle\" x=\"97.5\" y=\"-306.8\">mu: Dense</text>\n",
       "</g>\n",
       "<!-- 2535119954664&#45;&gt;2535119955224 -->\n",
       "<g class=\"edge\" id=\"edge2\"><title>2535119954664-&gt;2535119955224</title>\n",
       "<path d=\"M137.67,-365.313C131.29,-356.766 123.455,-346.269 116.403,-336.823\" fill=\"none\" stroke=\"black\"/>\n",
       "<polygon fill=\"black\" points=\"118.998,-334.449 110.212,-328.529 113.389,-338.636 118.998,-334.449\" stroke=\"black\"/>\n",
       "</g>\n",
       "<!-- 2535119955280 -->\n",
       "<g class=\"node\" id=\"node4\"><title>2535119955280</title>\n",
       "<polygon fill=\"none\" points=\"153.5,-292.5 153.5,-328.5 253.5,-328.5 253.5,-292.5 153.5,-292.5\" stroke=\"black\"/>\n",
       "<text font-family=\"Times New Roman,serif\" font-size=\"14.00\" text-anchor=\"middle\" x=\"203.5\" y=\"-306.8\">log_var: Dense</text>\n",
       "</g>\n",
       "<!-- 2535119954664&#45;&gt;2535119955280 -->\n",
       "<g class=\"edge\" id=\"edge3\"><title>2535119954664-&gt;2535119955280</title>\n",
       "<path d=\"M163.33,-365.313C169.71,-356.766 177.545,-346.269 184.597,-336.823\" fill=\"none\" stroke=\"black\"/>\n",
       "<polygon fill=\"black\" points=\"187.611,-338.636 190.788,-328.529 182.002,-334.449 187.611,-338.636\" stroke=\"black\"/>\n",
       "</g>\n",
       "<!-- 2535120030184 -->\n",
       "<g class=\"node\" id=\"node5\"><title>2535120030184</title>\n",
       "<polygon fill=\"none\" points=\"78,-219.5 78,-255.5 223,-255.5 223,-219.5 78,-219.5\" stroke=\"black\"/>\n",
       "<text font-family=\"Times New Roman,serif\" font-size=\"14.00\" text-anchor=\"middle\" x=\"150.5\" y=\"-233.8\">kl: KLDivergenceLayer</text>\n",
       "</g>\n",
       "<!-- 2535119955224&#45;&gt;2535120030184 -->\n",
       "<g class=\"edge\" id=\"edge4\"><title>2535119955224-&gt;2535120030184</title>\n",
       "<path d=\"M110.33,-292.313C116.71,-283.766 124.545,-273.269 131.597,-263.823\" fill=\"none\" stroke=\"black\"/>\n",
       "<polygon fill=\"black\" points=\"134.611,-265.636 137.788,-255.529 129.002,-261.449 134.611,-265.636\" stroke=\"black\"/>\n",
       "</g>\n",
       "<!-- 2535119955280&#45;&gt;2535120030184 -->\n",
       "<g class=\"edge\" id=\"edge5\"><title>2535119955280-&gt;2535120030184</title>\n",
       "<path d=\"M190.67,-292.313C184.29,-283.766 176.455,-273.269 169.403,-263.823\" fill=\"none\" stroke=\"black\"/>\n",
       "<polygon fill=\"black\" points=\"171.998,-261.449 163.212,-255.529 166.389,-265.636 171.998,-261.449\" stroke=\"black\"/>\n",
       "</g>\n",
       "<!-- 2535120118784 -->\n",
       "<g class=\"node\" id=\"node6\"><title>2535120118784</title>\n",
       "<polygon fill=\"none\" points=\"0,-146.5 0,-182.5 101,-182.5 101,-146.5 0,-146.5\" stroke=\"black\"/>\n",
       "<text font-family=\"Times New Roman,serif\" font-size=\"14.00\" text-anchor=\"middle\" x=\"50.5\" y=\"-160.8\">sigma: Lambda</text>\n",
       "</g>\n",
       "<!-- 2535120030184&#45;&gt;2535120118784 -->\n",
       "<g class=\"edge\" id=\"edge6\"><title>2535120030184-&gt;2535120118784</title>\n",
       "<path d=\"M126.548,-219.494C113.532,-210.253 97.25,-198.692 83.0944,-188.642\" fill=\"none\" stroke=\"black\"/>\n",
       "<polygon fill=\"black\" points=\"84.7837,-185.549 74.6036,-182.614 80.7312,-191.257 84.7837,-185.549\" stroke=\"black\"/>\n",
       "</g>\n",
       "<!-- 2535120245368 -->\n",
       "<g class=\"node\" id=\"node9\"><title>2535120245368</title>\n",
       "<polygon fill=\"none\" points=\"184.5,-0.5 184.5,-36.5 238.5,-36.5 238.5,-0.5 184.5,-0.5\" stroke=\"black\"/>\n",
       "<text font-family=\"Times New Roman,serif\" font-size=\"14.00\" text-anchor=\"middle\" x=\"211.5\" y=\"-14.8\">z: Add</text>\n",
       "</g>\n",
       "<!-- 2535120030184&#45;&gt;2535120245368 -->\n",
       "<g class=\"edge\" id=\"edge9\"><title>2535120030184-&gt;2535120245368</title>\n",
       "<path d=\"M192.697,-219.48C208.092,-210.963 223.838,-198.993 232.5,-183 256.068,-139.482 238.213,-80.151 224.144,-46.228\" fill=\"none\" stroke=\"black\"/>\n",
       "<polygon fill=\"black\" points=\"227.317,-44.7497 220.131,-36.9646 220.894,-47.5319 227.317,-44.7497\" stroke=\"black\"/>\n",
       "</g>\n",
       "<!-- 2535120118504 -->\n",
       "<g class=\"node\" id=\"node8\"><title>2535120118504</title>\n",
       "<polygon fill=\"none\" points=\"120.5,-73.5 120.5,-109.5 222.5,-109.5 222.5,-73.5 120.5,-73.5\" stroke=\"black\"/>\n",
       "<text font-family=\"Times New Roman,serif\" font-size=\"14.00\" text-anchor=\"middle\" x=\"171.5\" y=\"-87.8\">z_eps: Multiply</text>\n",
       "</g>\n",
       "<!-- 2535120118784&#45;&gt;2535120118504 -->\n",
       "<g class=\"edge\" id=\"edge7\"><title>2535120118784-&gt;2535120118504</title>\n",
       "<path d=\"M79.4825,-146.494C95.6767,-136.991 116.051,-125.036 133.509,-114.792\" fill=\"none\" stroke=\"black\"/>\n",
       "<polygon fill=\"black\" points=\"135.481,-117.693 142.335,-109.614 131.938,-111.656 135.481,-117.693\" stroke=\"black\"/>\n",
       "</g>\n",
       "<!-- 2535120029232 -->\n",
       "<g class=\"node\" id=\"node7\"><title>2535120029232</title>\n",
       "<polygon fill=\"none\" points=\"119.5,-146.5 119.5,-182.5 223.5,-182.5 223.5,-146.5 119.5,-146.5\" stroke=\"black\"/>\n",
       "<text font-family=\"Times New Roman,serif\" font-size=\"14.00\" text-anchor=\"middle\" x=\"171.5\" y=\"-160.8\">eps: InputLayer</text>\n",
       "</g>\n",
       "<!-- 2535120029232&#45;&gt;2535120118504 -->\n",
       "<g class=\"edge\" id=\"edge8\"><title>2535120029232-&gt;2535120118504</title>\n",
       "<path d=\"M171.5,-146.313C171.5,-138.289 171.5,-128.547 171.5,-119.569\" fill=\"none\" stroke=\"black\"/>\n",
       "<polygon fill=\"black\" points=\"175,-119.529 171.5,-109.529 168,-119.529 175,-119.529\" stroke=\"black\"/>\n",
       "</g>\n",
       "<!-- 2535120118504&#45;&gt;2535120245368 -->\n",
       "<g class=\"edge\" id=\"edge10\"><title>2535120118504-&gt;2535120245368</title>\n",
       "<path d=\"M181.183,-73.3129C185.9,-64.9407 191.671,-54.6971 196.907,-45.4026\" fill=\"none\" stroke=\"black\"/>\n",
       "<polygon fill=\"black\" points=\"200.047,-46.9593 201.906,-36.5288 193.948,-43.5234 200.047,-46.9593\" stroke=\"black\"/>\n",
       "</g>\n",
       "</g>\n",
       "</svg>"
      ],
      "text/plain": [
       "<IPython.core.display.SVG object>"
      ]
     },
     "execution_count": 6,
     "metadata": {},
     "output_type": "execute_result"
    }
   ],
   "source": [
    "vae_encoder = Model(inputs=[x, eps], outputs=z)\n",
    "SVG(model_to_dot(vae_encoder, \\\n",
    "                 show_shapes=False, show_layer_names=True)\n",
    "    .create(prog='dot', format='svg'))"
   ]
  },
  {
   "cell_type": "code",
   "execution_count": 7,
   "metadata": {
    "colab": {
     "base_uri": "https://localhost:8080/",
     "height": 361
    },
    "id": "t6D_rGjLncmZ",
    "outputId": "265867db-ed55-4d91-bc1b-2629c3cf0d45"
   },
   "outputs": [
    {
     "data": {
      "image/svg+xml": [
       "<svg height=\"191pt\" viewBox=\"0.00 0.00 174.00 191.00\" width=\"174pt\" xmlns=\"http://www.w3.org/2000/svg\" xmlns:xlink=\"http://www.w3.org/1999/xlink\">\n",
       "<g class=\"graph\" id=\"graph0\" transform=\"scale(1 1) rotate(0) translate(4 187)\">\n",
       "<title>G</title>\n",
       "<polygon fill=\"white\" points=\"-4,4 -4,-187 170,-187 170,4 -4,4\" stroke=\"none\"/>\n",
       "<!-- 2535121167080 -->\n",
       "<g class=\"node\" id=\"node1\"><title>2535121167080</title>\n",
       "<polygon fill=\"none\" points=\"0,-146.5 0,-182.5 166,-182.5 166,-146.5 0,-146.5\" stroke=\"black\"/>\n",
       "<text font-family=\"Times New Roman,serif\" font-size=\"14.00\" text-anchor=\"middle\" x=\"83\" y=\"-160.8\">dense_1_input: InputLayer</text>\n",
       "</g>\n",
       "<!-- 2535121084032 -->\n",
       "<g class=\"node\" id=\"node2\"><title>2535121084032</title>\n",
       "<polygon fill=\"none\" points=\"31,-73.5 31,-109.5 135,-109.5 135,-73.5 31,-73.5\" stroke=\"black\"/>\n",
       "<text font-family=\"Times New Roman,serif\" font-size=\"14.00\" text-anchor=\"middle\" x=\"83\" y=\"-87.8\">dense_1: Dense</text>\n",
       "</g>\n",
       "<!-- 2535121167080&#45;&gt;2535121084032 -->\n",
       "<g class=\"edge\" id=\"edge1\"><title>2535121167080-&gt;2535121084032</title>\n",
       "<path d=\"M83,-146.313C83,-138.289 83,-128.547 83,-119.569\" fill=\"none\" stroke=\"black\"/>\n",
       "<polygon fill=\"black\" points=\"86.5001,-119.529 83,-109.529 79.5001,-119.529 86.5001,-119.529\" stroke=\"black\"/>\n",
       "</g>\n",
       "<!-- 2535121166576 -->\n",
       "<g class=\"node\" id=\"node3\"><title>2535121166576</title>\n",
       "<polygon fill=\"none\" points=\"31,-0.5 31,-36.5 135,-36.5 135,-0.5 31,-0.5\" stroke=\"black\"/>\n",
       "<text font-family=\"Times New Roman,serif\" font-size=\"14.00\" text-anchor=\"middle\" x=\"83\" y=\"-14.8\">dense_2: Dense</text>\n",
       "</g>\n",
       "<!-- 2535121084032&#45;&gt;2535121166576 -->\n",
       "<g class=\"edge\" id=\"edge2\"><title>2535121084032-&gt;2535121166576</title>\n",
       "<path d=\"M83,-73.3129C83,-65.2895 83,-55.5475 83,-46.5691\" fill=\"none\" stroke=\"black\"/>\n",
       "<polygon fill=\"black\" points=\"86.5001,-46.5288 83,-36.5288 79.5001,-46.5289 86.5001,-46.5288\" stroke=\"black\"/>\n",
       "</g>\n",
       "</g>\n",
       "</svg>"
      ],
      "text/plain": [
       "<IPython.core.display.SVG object>"
      ]
     },
     "execution_count": 7,
     "metadata": {},
     "output_type": "execute_result"
    }
   ],
   "source": [
    "vae_decoder = Sequential([\n",
    "    Dense(intermediate_dim, input_dim=latent_dim, activation='relu'),\n",
    "    Dense(original_dim, activation='sigmoid')\n",
    "])\n",
    "\n",
    "x_pred = vae_decoder(z)\n",
    "\n",
    "SVG(model_to_dot(vae_decoder, \\\n",
    "                 show_shapes=False, show_layer_names=True)\n",
    "    .create(prog='dot', format='svg'))"
   ]
  },
  {
   "cell_type": "code",
   "execution_count": 8,
   "metadata": {
    "colab": {
     "base_uri": "https://localhost:8080/",
     "height": 1000
    },
    "id": "2XUZbx8ln-3s",
    "outputId": "7f98cd38-73df-4c7c-dad4-f4dd963a0b5a"
   },
   "outputs": [
    {
     "data": {
      "image/svg+xml": [
       "<svg height=\"556pt\" viewBox=\"0.00 0.00 294.00 556.00\" width=\"294pt\" xmlns=\"http://www.w3.org/2000/svg\" xmlns:xlink=\"http://www.w3.org/1999/xlink\">\n",
       "<g class=\"graph\" id=\"graph0\" transform=\"scale(1 1) rotate(0) translate(4 552)\">\n",
       "<title>G</title>\n",
       "<polygon fill=\"white\" points=\"-4,4 -4,-552 290,-552 290,4 -4,4\" stroke=\"none\"/>\n",
       "<!-- 2535119954608 -->\n",
       "<g class=\"node\" id=\"node1\"><title>2535119954608</title>\n",
       "<polygon fill=\"none\" points=\"105,-511.5 105,-547.5 196,-547.5 196,-511.5 105,-511.5\" stroke=\"black\"/>\n",
       "<text font-family=\"Times New Roman,serif\" font-size=\"14.00\" text-anchor=\"middle\" x=\"150.5\" y=\"-525.8\">x: InputLayer</text>\n",
       "</g>\n",
       "<!-- 2535119954664 -->\n",
       "<g class=\"node\" id=\"node2\"><title>2535119954664</title>\n",
       "<polygon fill=\"none\" points=\"89.5,-438.5 89.5,-474.5 211.5,-474.5 211.5,-438.5 89.5,-438.5\" stroke=\"black\"/>\n",
       "<text font-family=\"Times New Roman,serif\" font-size=\"14.00\" text-anchor=\"middle\" x=\"150.5\" y=\"-452.8\">hidden_enc: Dense</text>\n",
       "</g>\n",
       "<!-- 2535119954608&#45;&gt;2535119954664 -->\n",
       "<g class=\"edge\" id=\"edge1\"><title>2535119954608-&gt;2535119954664</title>\n",
       "<path d=\"M150.5,-511.313C150.5,-503.289 150.5,-493.547 150.5,-484.569\" fill=\"none\" stroke=\"black\"/>\n",
       "<polygon fill=\"black\" points=\"154,-484.529 150.5,-474.529 147,-484.529 154,-484.529\" stroke=\"black\"/>\n",
       "</g>\n",
       "<!-- 2535119955224 -->\n",
       "<g class=\"node\" id=\"node3\"><title>2535119955224</title>\n",
       "<polygon fill=\"none\" points=\"60,-365.5 60,-401.5 135,-401.5 135,-365.5 60,-365.5\" stroke=\"black\"/>\n",
       "<text font-family=\"Times New Roman,serif\" font-size=\"14.00\" text-anchor=\"middle\" x=\"97.5\" y=\"-379.8\">mu: Dense</text>\n",
       "</g>\n",
       "<!-- 2535119954664&#45;&gt;2535119955224 -->\n",
       "<g class=\"edge\" id=\"edge2\"><title>2535119954664-&gt;2535119955224</title>\n",
       "<path d=\"M137.67,-438.313C131.29,-429.766 123.455,-419.269 116.403,-409.823\" fill=\"none\" stroke=\"black\"/>\n",
       "<polygon fill=\"black\" points=\"118.998,-407.449 110.212,-401.529 113.389,-411.636 118.998,-407.449\" stroke=\"black\"/>\n",
       "</g>\n",
       "<!-- 2535119955280 -->\n",
       "<g class=\"node\" id=\"node4\"><title>2535119955280</title>\n",
       "<polygon fill=\"none\" points=\"153.5,-365.5 153.5,-401.5 253.5,-401.5 253.5,-365.5 153.5,-365.5\" stroke=\"black\"/>\n",
       "<text font-family=\"Times New Roman,serif\" font-size=\"14.00\" text-anchor=\"middle\" x=\"203.5\" y=\"-379.8\">log_var: Dense</text>\n",
       "</g>\n",
       "<!-- 2535119954664&#45;&gt;2535119955280 -->\n",
       "<g class=\"edge\" id=\"edge3\"><title>2535119954664-&gt;2535119955280</title>\n",
       "<path d=\"M163.33,-438.313C169.71,-429.766 177.545,-419.269 184.597,-409.823\" fill=\"none\" stroke=\"black\"/>\n",
       "<polygon fill=\"black\" points=\"187.611,-411.636 190.788,-401.529 182.002,-407.449 187.611,-411.636\" stroke=\"black\"/>\n",
       "</g>\n",
       "<!-- 2535120030184 -->\n",
       "<g class=\"node\" id=\"node5\"><title>2535120030184</title>\n",
       "<polygon fill=\"none\" points=\"78,-292.5 78,-328.5 223,-328.5 223,-292.5 78,-292.5\" stroke=\"black\"/>\n",
       "<text font-family=\"Times New Roman,serif\" font-size=\"14.00\" text-anchor=\"middle\" x=\"150.5\" y=\"-306.8\">kl: KLDivergenceLayer</text>\n",
       "</g>\n",
       "<!-- 2535119955224&#45;&gt;2535120030184 -->\n",
       "<g class=\"edge\" id=\"edge4\"><title>2535119955224-&gt;2535120030184</title>\n",
       "<path d=\"M110.33,-365.313C116.71,-356.766 124.545,-346.269 131.597,-336.823\" fill=\"none\" stroke=\"black\"/>\n",
       "<polygon fill=\"black\" points=\"134.611,-338.636 137.788,-328.529 129.002,-334.449 134.611,-338.636\" stroke=\"black\"/>\n",
       "</g>\n",
       "<!-- 2535119955280&#45;&gt;2535120030184 -->\n",
       "<g class=\"edge\" id=\"edge5\"><title>2535119955280-&gt;2535120030184</title>\n",
       "<path d=\"M190.67,-365.313C184.29,-356.766 176.455,-346.269 169.403,-336.823\" fill=\"none\" stroke=\"black\"/>\n",
       "<polygon fill=\"black\" points=\"171.998,-334.449 163.212,-328.529 166.389,-338.636 171.998,-334.449\" stroke=\"black\"/>\n",
       "</g>\n",
       "<!-- 2535120118784 -->\n",
       "<g class=\"node\" id=\"node6\"><title>2535120118784</title>\n",
       "<polygon fill=\"none\" points=\"0,-219.5 0,-255.5 101,-255.5 101,-219.5 0,-219.5\" stroke=\"black\"/>\n",
       "<text font-family=\"Times New Roman,serif\" font-size=\"14.00\" text-anchor=\"middle\" x=\"50.5\" y=\"-233.8\">sigma: Lambda</text>\n",
       "</g>\n",
       "<!-- 2535120030184&#45;&gt;2535120118784 -->\n",
       "<g class=\"edge\" id=\"edge6\"><title>2535120030184-&gt;2535120118784</title>\n",
       "<path d=\"M126.548,-292.494C113.532,-283.253 97.25,-271.692 83.0944,-261.642\" fill=\"none\" stroke=\"black\"/>\n",
       "<polygon fill=\"black\" points=\"84.7837,-258.549 74.6036,-255.614 80.7312,-264.257 84.7837,-258.549\" stroke=\"black\"/>\n",
       "</g>\n",
       "<!-- 2535120245368 -->\n",
       "<g class=\"node\" id=\"node9\"><title>2535120245368</title>\n",
       "<polygon fill=\"none\" points=\"184.5,-73.5 184.5,-109.5 238.5,-109.5 238.5,-73.5 184.5,-73.5\" stroke=\"black\"/>\n",
       "<text font-family=\"Times New Roman,serif\" font-size=\"14.00\" text-anchor=\"middle\" x=\"211.5\" y=\"-87.8\">z: Add</text>\n",
       "</g>\n",
       "<!-- 2535120030184&#45;&gt;2535120245368 -->\n",
       "<g class=\"edge\" id=\"edge9\"><title>2535120030184-&gt;2535120245368</title>\n",
       "<path d=\"M192.697,-292.48C208.092,-283.963 223.838,-271.993 232.5,-256 256.068,-212.482 238.213,-153.151 224.144,-119.228\" fill=\"none\" stroke=\"black\"/>\n",
       "<polygon fill=\"black\" points=\"227.317,-117.75 220.131,-109.965 220.894,-120.532 227.317,-117.75\" stroke=\"black\"/>\n",
       "</g>\n",
       "<!-- 2535120118504 -->\n",
       "<g class=\"node\" id=\"node8\"><title>2535120118504</title>\n",
       "<polygon fill=\"none\" points=\"120.5,-146.5 120.5,-182.5 222.5,-182.5 222.5,-146.5 120.5,-146.5\" stroke=\"black\"/>\n",
       "<text font-family=\"Times New Roman,serif\" font-size=\"14.00\" text-anchor=\"middle\" x=\"171.5\" y=\"-160.8\">z_eps: Multiply</text>\n",
       "</g>\n",
       "<!-- 2535120118784&#45;&gt;2535120118504 -->\n",
       "<g class=\"edge\" id=\"edge7\"><title>2535120118784-&gt;2535120118504</title>\n",
       "<path d=\"M79.4825,-219.494C95.6767,-209.991 116.051,-198.036 133.509,-187.792\" fill=\"none\" stroke=\"black\"/>\n",
       "<polygon fill=\"black\" points=\"135.481,-190.693 142.335,-182.614 131.938,-184.656 135.481,-190.693\" stroke=\"black\"/>\n",
       "</g>\n",
       "<!-- 2535120029232 -->\n",
       "<g class=\"node\" id=\"node7\"><title>2535120029232</title>\n",
       "<polygon fill=\"none\" points=\"119.5,-219.5 119.5,-255.5 223.5,-255.5 223.5,-219.5 119.5,-219.5\" stroke=\"black\"/>\n",
       "<text font-family=\"Times New Roman,serif\" font-size=\"14.00\" text-anchor=\"middle\" x=\"171.5\" y=\"-233.8\">eps: InputLayer</text>\n",
       "</g>\n",
       "<!-- 2535120029232&#45;&gt;2535120118504 -->\n",
       "<g class=\"edge\" id=\"edge8\"><title>2535120029232-&gt;2535120118504</title>\n",
       "<path d=\"M171.5,-219.313C171.5,-211.289 171.5,-201.547 171.5,-192.569\" fill=\"none\" stroke=\"black\"/>\n",
       "<polygon fill=\"black\" points=\"175,-192.529 171.5,-182.529 168,-192.529 175,-192.529\" stroke=\"black\"/>\n",
       "</g>\n",
       "<!-- 2535120118504&#45;&gt;2535120245368 -->\n",
       "<g class=\"edge\" id=\"edge10\"><title>2535120118504-&gt;2535120245368</title>\n",
       "<path d=\"M181.183,-146.313C185.9,-137.941 191.671,-127.697 196.907,-118.403\" fill=\"none\" stroke=\"black\"/>\n",
       "<polygon fill=\"black\" points=\"200.047,-119.959 201.906,-109.529 193.948,-116.523 200.047,-119.959\" stroke=\"black\"/>\n",
       "</g>\n",
       "<!-- 2535121166968 -->\n",
       "<g class=\"node\" id=\"node10\"><title>2535121166968</title>\n",
       "<polygon fill=\"none\" points=\"137,-0.5 137,-36.5 286,-36.5 286,-0.5 137,-0.5\" stroke=\"black\"/>\n",
       "<text font-family=\"Times New Roman,serif\" font-size=\"14.00\" text-anchor=\"middle\" x=\"211.5\" y=\"-14.8\">sequential_1: Sequential</text>\n",
       "</g>\n",
       "<!-- 2535120245368&#45;&gt;2535121166968 -->\n",
       "<g class=\"edge\" id=\"edge11\"><title>2535120245368-&gt;2535121166968</title>\n",
       "<path d=\"M211.5,-73.3129C211.5,-65.2895 211.5,-55.5475 211.5,-46.5691\" fill=\"none\" stroke=\"black\"/>\n",
       "<polygon fill=\"black\" points=\"215,-46.5288 211.5,-36.5288 208,-46.5289 215,-46.5288\" stroke=\"black\"/>\n",
       "</g>\n",
       "</g>\n",
       "</svg>"
      ],
      "text/plain": [
       "<IPython.core.display.SVG object>"
      ]
     },
     "execution_count": 8,
     "metadata": {},
     "output_type": "execute_result"
    }
   ],
   "source": [
    "vae = Model(inputs=[x, eps], outputs=x_pred)\n",
    "\n",
    "SVG(model_to_dot(vae, \\\n",
    "                 show_shapes=False, show_layer_names=True)\n",
    "    .create(prog='dot', format='svg'))"
   ]
  },
  {
   "cell_type": "code",
   "execution_count": 9,
   "metadata": {
    "colab": {
     "base_uri": "https://localhost:8080/"
    },
    "id": "IV_xn8hFpCmq",
    "outputId": "edb654bb-838a-4a45-f55d-4d813b51abe6"
   },
   "outputs": [
    {
     "name": "stdout",
     "output_type": "stream",
     "text": [
      "WARNING:tensorflow:From C:\\Users\\Jiang\\AppData\\Local\\Continuum\\anaconda3\\envs\\tf\\lib\\site-packages\\keras\\optimizers.py:711: The name tf.train.Optimizer is deprecated. Please use tf.compat.v1.train.Optimizer instead.\n",
      "\n",
      "__________________________________________________________________________________________________\n",
      "Layer (type)                    Output Shape         Param #     Connected to                     \n",
      "==================================================================================================\n",
      "x (InputLayer)                  (None, 21)           0                                            \n",
      "__________________________________________________________________________________________________\n",
      "hidden_enc (Dense)              (None, 14)           308         x[0][0]                          \n",
      "__________________________________________________________________________________________________\n",
      "mu (Dense)                      (None, 2)            30          hidden_enc[0][0]                 \n",
      "__________________________________________________________________________________________________\n",
      "log_var (Dense)                 (None, 2)            30          hidden_enc[0][0]                 \n",
      "__________________________________________________________________________________________________\n",
      "kl (KLDivergenceLayer)          [(None, 2), (None, 2 0           mu[0][0]                         \n",
      "                                                                 log_var[0][0]                    \n",
      "__________________________________________________________________________________________________\n",
      "sigma (Lambda)                  (None, 2)            0           kl[0][1]                         \n",
      "__________________________________________________________________________________________________\n",
      "eps (InputLayer)                (None, 2)            0                                            \n",
      "__________________________________________________________________________________________________\n",
      "z_eps (Multiply)                (None, 2)            0           sigma[0][0]                      \n",
      "                                                                 eps[0][0]                        \n",
      "__________________________________________________________________________________________________\n",
      "z (Add)                         (None, 2)            0           kl[0][0]                         \n",
      "                                                                 z_eps[0][0]                      \n",
      "__________________________________________________________________________________________________\n",
      "sequential_1 (Sequential)       (None, 21)           357         z[0][0]                          \n",
      "==================================================================================================\n",
      "Total params: 725\n",
      "Trainable params: 725\n",
      "Non-trainable params: 0\n",
      "__________________________________________________________________________________________________\n"
     ]
    }
   ],
   "source": [
    "x_train, x_validation = train_test_split(data_train, test_size=0.2, random_state =123 )\n",
    "vae.compile(optimizer='rmsprop', loss='mse',metrics=['accuracy'])\n",
    "vae.summary()"
   ]
  },
  {
   "cell_type": "code",
   "execution_count": 10,
   "metadata": {
    "colab": {
     "base_uri": "https://localhost:8080/"
    },
    "id": "sC3aYxzXujoq",
    "outputId": "a5dc9390-aa43-43e9-e035-41a4b33e545e"
   },
   "outputs": [
    {
     "data": {
      "text/plain": [
       "(295, 21)"
      ]
     },
     "execution_count": 10,
     "metadata": {},
     "output_type": "execute_result"
    }
   ],
   "source": [
    "x_validation.shape"
   ]
  },
  {
   "cell_type": "code",
   "execution_count": 13,
   "metadata": {
    "colab": {
     "base_uri": "https://localhost:8080/",
     "height": 831
    },
    "id": "-YWjrg-Yp9Ee",
    "outputId": "93c40d77-dbe0-42ac-93f8-6be1d73dc34b"
   },
   "outputs": [
    {
     "name": "stdout",
     "output_type": "stream",
     "text": [
      "Train on 1178 samples, validate on 295 samples\n",
      "Epoch 1/30\n",
      "1178/1178 [==============================] - 0s 237us/step - loss: 0.0284 - acc: 0.4508 - val_loss: 0.0280 - val_acc: 0.4780\n",
      "Epoch 2/30\n",
      "1178/1178 [==============================] - 0s 130us/step - loss: 0.0284 - acc: 0.4508 - val_loss: 0.0280 - val_acc: 0.4780\n",
      "Epoch 3/30\n",
      "1178/1178 [==============================] - 0s 92us/step - loss: 0.0283 - acc: 0.4508 - val_loss: 0.0281 - val_acc: 0.4780\n",
      "Epoch 4/30\n",
      "1178/1178 [==============================] - 0s 112us/step - loss: 0.0282 - acc: 0.4508 - val_loss: 0.0280 - val_acc: 0.4780\n",
      "Epoch 5/30\n",
      "1178/1178 [==============================] - 0s 99us/step - loss: 0.0283 - acc: 0.4508 - val_loss: 0.0279 - val_acc: 0.4780\n",
      "Epoch 6/30\n",
      "1178/1178 [==============================] - 0s 118us/step - loss: 0.0282 - acc: 0.4508 - val_loss: 0.0279 - val_acc: 0.4780\n",
      "Epoch 7/30\n",
      "1178/1178 [==============================] - 0s 105us/step - loss: 0.0282 - acc: 0.4508 - val_loss: 0.0278 - val_acc: 0.4780\n",
      "Epoch 8/30\n",
      "1178/1178 [==============================] - 0s 101us/step - loss: 0.0283 - acc: 0.4508 - val_loss: 0.0278 - val_acc: 0.4780\n",
      "Epoch 9/30\n",
      "1178/1178 [==============================] - 0s 92us/step - loss: 0.0282 - acc: 0.4508 - val_loss: 0.0278 - val_acc: 0.4780\n",
      "Epoch 10/30\n",
      "1178/1178 [==============================] - 0s 112us/step - loss: 0.0282 - acc: 0.4508 - val_loss: 0.0279 - val_acc: 0.4780\n",
      "Epoch 11/30\n",
      "1178/1178 [==============================] - 0s 133us/step - loss: 0.0282 - acc: 0.4508 - val_loss: 0.0278 - val_acc: 0.4780\n",
      "Epoch 12/30\n",
      "1178/1178 [==============================] - 0s 125us/step - loss: 0.0281 - acc: 0.4508 - val_loss: 0.0278 - val_acc: 0.4780\n",
      "Epoch 13/30\n",
      "1178/1178 [==============================] - 0s 108us/step - loss: 0.0282 - acc: 0.4508 - val_loss: 0.0279 - val_acc: 0.4780\n",
      "Epoch 14/30\n",
      "1178/1178 [==============================] - 0s 103us/step - loss: 0.0281 - acc: 0.4508 - val_loss: 0.0278 - val_acc: 0.4780\n",
      "Epoch 15/30\n",
      "1178/1178 [==============================] - 0s 133us/step - loss: 0.0281 - acc: 0.4508 - val_loss: 0.0280 - val_acc: 0.4780\n",
      "Epoch 16/30\n",
      "1178/1178 [==============================] - 0s 115us/step - loss: 0.0281 - acc: 0.4508 - val_loss: 0.0279 - val_acc: 0.4780\n",
      "Epoch 17/30\n",
      "1178/1178 [==============================] - 0s 122us/step - loss: 0.0281 - acc: 0.4508 - val_loss: 0.0279 - val_acc: 0.4780\n",
      "Epoch 18/30\n",
      "1178/1178 [==============================] - 0s 101us/step - loss: 0.0281 - acc: 0.4508 - val_loss: 0.0278 - val_acc: 0.4780\n",
      "Epoch 19/30\n",
      "1178/1178 [==============================] - 0s 113us/step - loss: 0.0281 - acc: 0.4508 - val_loss: 0.0278 - val_acc: 0.4780\n",
      "Epoch 20/30\n",
      "1178/1178 [==============================] - 0s 112us/step - loss: 0.0281 - acc: 0.4508 - val_loss: 0.0277 - val_acc: 0.4780\n",
      "Epoch 21/30\n",
      "1178/1178 [==============================] - 0s 108us/step - loss: 0.0281 - acc: 0.4508 - val_loss: 0.0279 - val_acc: 0.4780\n",
      "Epoch 22/30\n",
      "1178/1178 [==============================] - 0s 102us/step - loss: 0.0281 - acc: 0.4508 - val_loss: 0.0279 - val_acc: 0.4780\n",
      "Epoch 23/30\n",
      "1178/1178 [==============================] - 0s 107us/step - loss: 0.0281 - acc: 0.4508 - val_loss: 0.0278 - val_acc: 0.4780\n",
      "Epoch 24/30\n",
      "1178/1178 [==============================] - 0s 144us/step - loss: 0.0281 - acc: 0.4508 - val_loss: 0.0277 - val_acc: 0.4780\n",
      "Epoch 25/30\n",
      "1178/1178 [==============================] - 0s 152us/step - loss: 0.0281 - acc: 0.4508 - val_loss: 0.0278 - val_acc: 0.4780\n",
      "Epoch 26/30\n",
      "1178/1178 [==============================] - 0s 142us/step - loss: 0.0281 - acc: 0.4508 - val_loss: 0.0278 - val_acc: 0.4780\n",
      "Epoch 27/30\n",
      "1178/1178 [==============================] - 0s 138us/step - loss: 0.0281 - acc: 0.4508 - val_loss: 0.0278 - val_acc: 0.4780\n",
      "Epoch 28/30\n",
      "1178/1178 [==============================] - 0s 113us/step - loss: 0.0281 - acc: 0.4508 - val_loss: 0.0278 - val_acc: 0.4780\n",
      "Epoch 29/30\n",
      "1178/1178 [==============================] - 0s 98us/step - loss: 0.0281 - acc: 0.4508 - val_loss: 0.0278 - val_acc: 0.4780\n",
      "Epoch 30/30\n",
      "1178/1178 [==============================] - 0s 118us/step - loss: 0.0280 - acc: 0.4508 - val_loss: 0.0278 - val_acc: 0.4780\n"
     ]
    }
   ],
   "source": [
    "hist = vae.fit(\n",
    "    x_train,\n",
    "    x_train,\n",
    "    shuffle=True,\n",
    "    epochs=epochs,\n",
    "    batch_size=batch_size,\n",
    "    validation_data=(x_validation, x_validation))\n",
    "\n"
   ]
  },
  {
   "cell_type": "code",
   "execution_count": 14,
   "metadata": {
    "ExecuteTime": {
     "end_time": "2020-12-01T05:11:17.106113Z",
     "start_time": "2020-12-01T05:11:14.356606Z"
    },
    "id": "hrw8KlsWSDCK",
    "outputId": "697962f2-b6be-4586-a0cb-81fa2d399173"
   },
   "outputs": [
    {
     "data": {
      "text/html": [
       "<div>\n",
       "<style>\n",
       "    .dataframe thead tr:only-child th {\n",
       "        text-align: right;\n",
       "    }\n",
       "\n",
       "    .dataframe thead th {\n",
       "        text-align: left;\n",
       "    }\n",
       "\n",
       "    .dataframe tbody tr th {\n",
       "        vertical-align: top;\n",
       "    }\n",
       "</style>\n",
       "<table border=\"1\" class=\"dataframe\">\n",
       "  <thead>\n",
       "    <tr style=\"text-align: right;\">\n",
       "      <th></th>\n",
       "      <th>reconstruction_error</th>\n",
       "      <th>true_class</th>\n",
       "    </tr>\n",
       "  </thead>\n",
       "  <tbody>\n",
       "    <tr>\n",
       "      <th>count</th>\n",
       "      <td>358.000000</td>\n",
       "      <td>358.000000</td>\n",
       "    </tr>\n",
       "    <tr>\n",
       "      <th>mean</th>\n",
       "      <td>0.064474</td>\n",
       "      <td>0.491620</td>\n",
       "    </tr>\n",
       "    <tr>\n",
       "      <th>std</th>\n",
       "      <td>0.050690</td>\n",
       "      <td>0.500629</td>\n",
       "    </tr>\n",
       "    <tr>\n",
       "      <th>min</th>\n",
       "      <td>0.005061</td>\n",
       "      <td>0.000000</td>\n",
       "    </tr>\n",
       "    <tr>\n",
       "      <th>25%</th>\n",
       "      <td>0.024763</td>\n",
       "      <td>0.000000</td>\n",
       "    </tr>\n",
       "    <tr>\n",
       "      <th>50%</th>\n",
       "      <td>0.050766</td>\n",
       "      <td>0.000000</td>\n",
       "    </tr>\n",
       "    <tr>\n",
       "      <th>75%</th>\n",
       "      <td>0.086088</td>\n",
       "      <td>1.000000</td>\n",
       "    </tr>\n",
       "    <tr>\n",
       "      <th>max</th>\n",
       "      <td>0.256948</td>\n",
       "      <td>1.000000</td>\n",
       "    </tr>\n",
       "  </tbody>\n",
       "</table>\n",
       "</div>"
      ],
      "text/plain": [
       "       reconstruction_error  true_class\n",
       "count            358.000000  358.000000\n",
       "mean               0.064474    0.491620\n",
       "std                0.050690    0.500629\n",
       "min                0.005061    0.000000\n",
       "25%                0.024763    0.000000\n",
       "50%                0.050766    0.000000\n",
       "75%                0.086088    1.000000\n",
       "max                0.256948    1.000000"
      ]
     },
     "execution_count": 14,
     "metadata": {},
     "output_type": "execute_result"
    }
   ],
   "source": [
    "predictions_2 = vae.predict(x_test)\n",
    "mse_2 = np.mean(np.power(x_test - predictions_2, 2), axis=1)\n",
    "error_df2 = pd.DataFrame({'reconstruction_error': mse_2,\n",
    "                        'true_class': y_test})\n",
    "error_df2.describe()\n"
   ]
  },
  {
   "cell_type": "code",
   "execution_count": 15,
   "metadata": {
    "id": "YqQgO-Av7sBK",
    "outputId": "6571513b-1ca9-4f91-f3fa-586ff637c571"
   },
   "outputs": [
    {
     "data": {
      "text/html": [
       "<div>\n",
       "<style>\n",
       "    .dataframe thead tr:only-child th {\n",
       "        text-align: right;\n",
       "    }\n",
       "\n",
       "    .dataframe thead th {\n",
       "        text-align: left;\n",
       "    }\n",
       "\n",
       "    .dataframe tbody tr th {\n",
       "        vertical-align: top;\n",
       "    }\n",
       "</style>\n",
       "<table border=\"1\" class=\"dataframe\">\n",
       "  <thead>\n",
       "    <tr style=\"text-align: right;\">\n",
       "      <th></th>\n",
       "      <th>reconstruction_error</th>\n",
       "      <th>true_class</th>\n",
       "    </tr>\n",
       "  </thead>\n",
       "  <tbody>\n",
       "    <tr>\n",
       "      <th>count</th>\n",
       "      <td>182.000000</td>\n",
       "      <td>182.0</td>\n",
       "    </tr>\n",
       "    <tr>\n",
       "      <th>mean</th>\n",
       "      <td>0.029128</td>\n",
       "      <td>0.0</td>\n",
       "    </tr>\n",
       "    <tr>\n",
       "      <th>std</th>\n",
       "      <td>0.016743</td>\n",
       "      <td>0.0</td>\n",
       "    </tr>\n",
       "    <tr>\n",
       "      <th>min</th>\n",
       "      <td>0.005061</td>\n",
       "      <td>0.0</td>\n",
       "    </tr>\n",
       "    <tr>\n",
       "      <th>25%</th>\n",
       "      <td>0.018015</td>\n",
       "      <td>0.0</td>\n",
       "    </tr>\n",
       "    <tr>\n",
       "      <th>50%</th>\n",
       "      <td>0.024850</td>\n",
       "      <td>0.0</td>\n",
       "    </tr>\n",
       "    <tr>\n",
       "      <th>75%</th>\n",
       "      <td>0.033400</td>\n",
       "      <td>0.0</td>\n",
       "    </tr>\n",
       "    <tr>\n",
       "      <th>max</th>\n",
       "      <td>0.112889</td>\n",
       "      <td>0.0</td>\n",
       "    </tr>\n",
       "  </tbody>\n",
       "</table>\n",
       "</div>"
      ],
      "text/plain": [
       "       reconstruction_error  true_class\n",
       "count            182.000000       182.0\n",
       "mean               0.029128         0.0\n",
       "std                0.016743         0.0\n",
       "min                0.005061         0.0\n",
       "25%                0.018015         0.0\n",
       "50%                0.024850         0.0\n",
       "75%                0.033400         0.0\n",
       "max                0.112889         0.0"
      ]
     },
     "execution_count": 15,
     "metadata": {},
     "output_type": "execute_result"
    }
   ],
   "source": [
    "error_df2[error_df2['true_class']==0].describe()"
   ]
  },
  {
   "cell_type": "code",
   "execution_count": 16,
   "metadata": {
    "id": "kXin-zyc7sBK",
    "outputId": "9d84558e-406a-4d46-83f8-8d74adfdaf7c"
   },
   "outputs": [
    {
     "data": {
      "text/html": [
       "<div>\n",
       "<style>\n",
       "    .dataframe thead tr:only-child th {\n",
       "        text-align: right;\n",
       "    }\n",
       "\n",
       "    .dataframe thead th {\n",
       "        text-align: left;\n",
       "    }\n",
       "\n",
       "    .dataframe tbody tr th {\n",
       "        vertical-align: top;\n",
       "    }\n",
       "</style>\n",
       "<table border=\"1\" class=\"dataframe\">\n",
       "  <thead>\n",
       "    <tr style=\"text-align: right;\">\n",
       "      <th></th>\n",
       "      <th>reconstruction_error</th>\n",
       "      <th>true_class</th>\n",
       "    </tr>\n",
       "  </thead>\n",
       "  <tbody>\n",
       "    <tr>\n",
       "      <th>count</th>\n",
       "      <td>176.000000</td>\n",
       "      <td>176.0</td>\n",
       "    </tr>\n",
       "    <tr>\n",
       "      <th>mean</th>\n",
       "      <td>0.101024</td>\n",
       "      <td>1.0</td>\n",
       "    </tr>\n",
       "    <tr>\n",
       "      <th>std</th>\n",
       "      <td>0.048050</td>\n",
       "      <td>0.0</td>\n",
       "    </tr>\n",
       "    <tr>\n",
       "      <th>min</th>\n",
       "      <td>0.039345</td>\n",
       "      <td>1.0</td>\n",
       "    </tr>\n",
       "    <tr>\n",
       "      <th>25%</th>\n",
       "      <td>0.067877</td>\n",
       "      <td>1.0</td>\n",
       "    </tr>\n",
       "    <tr>\n",
       "      <th>50%</th>\n",
       "      <td>0.086018</td>\n",
       "      <td>1.0</td>\n",
       "    </tr>\n",
       "    <tr>\n",
       "      <th>75%</th>\n",
       "      <td>0.113923</td>\n",
       "      <td>1.0</td>\n",
       "    </tr>\n",
       "    <tr>\n",
       "      <th>max</th>\n",
       "      <td>0.256948</td>\n",
       "      <td>1.0</td>\n",
       "    </tr>\n",
       "  </tbody>\n",
       "</table>\n",
       "</div>"
      ],
      "text/plain": [
       "       reconstruction_error  true_class\n",
       "count            176.000000       176.0\n",
       "mean               0.101024         1.0\n",
       "std                0.048050         0.0\n",
       "min                0.039345         1.0\n",
       "25%                0.067877         1.0\n",
       "50%                0.086018         1.0\n",
       "75%                0.113923         1.0\n",
       "max                0.256948         1.0"
      ]
     },
     "execution_count": 16,
     "metadata": {},
     "output_type": "execute_result"
    }
   ],
   "source": [
    "error_df2[error_df2['true_class']==1].describe()"
   ]
  },
  {
   "cell_type": "code",
   "execution_count": 17,
   "metadata": {
    "id": "AYElC2uz7sBL",
    "outputId": "8bd454ce-4186-4684-b09d-26b295cd1f16"
   },
   "outputs": [
    {
     "data": {
      "image/png": "[encoded data removed]",
      "text/plain": [
       "<matplotlib.figure.Figure at 0x24e42244470>"
      ]
     },
     "metadata": {},
     "output_type": "display_data"
    }
   ],
   "source": [
    "# Construction error plot\n",
    "hist_3 = plt.hist(error_df2[error_df2['true_class']==0].reconstruction_error, bins=30,alpha=0.3, color='green', label='0-Normal')\n",
    "hist_4 = plt.hist(error_df2[error_df2['true_class']==1].reconstruction_error, bins=30,alpha =0.3 , color='red',label='1-frauds')\n",
    "plt.legend()\n",
    "plt.show()"
   ]
  },
  {
   "cell_type": "code",
   "execution_count": 18,
   "metadata": {
    "id": "0IucYr_f7sBM",
    "outputId": "50d35792-96a4-4976-84e3-12f0969949ca"
   },
   "outputs": [
    {
     "data": {
      "text/plain": [
       "array([0., 1., 0., 0., 0., 1., 1., 0., 0., 0., 0., 0., 0., 1., 0., 1., 0.,\n",
       "       1., 0., 1., 1., 0., 0., 0., 0., 1., 1., 1., 1., 0., 0., 0., 0., 0.,\n",
       "       0., 0., 0., 1., 0., 0., 0., 0., 1., 0., 1., 0., 0., 0., 0., 0., 0.,\n",
       "       0., 0., 0., 1., 0., 0., 0., 0., 0., 1., 0., 1., 0., 1., 1., 1., 0.,\n",
       "       0., 0., 0., 1., 0., 0., 0., 0., 0., 0., 0., 0., 0., 0., 0., 0., 1.,\n",
       "       0., 1., 0., 0., 0., 0., 0., 0., 0., 0., 1., 0., 1., 0., 1., 0., 0.,\n",
       "       0., 0., 0., 1., 0., 0., 0., 0., 0., 0., 1., 0., 0., 1., 0., 0., 1.,\n",
       "       0., 0., 0., 1., 0., 0., 0., 1., 0., 0., 1., 0., 0., 0., 0., 0., 0.,\n",
       "       1., 0., 1., 1., 0., 0., 1., 0., 1., 0., 0., 0., 0., 0., 1., 0., 1.,\n",
       "       1., 0., 0., 0., 0., 0., 0., 1., 0., 0., 0., 0., 0., 1., 1., 0., 1.,\n",
       "       0., 0., 0., 0., 0., 0., 1., 0., 0., 0., 0., 0., 0., 1., 0., 1., 0.,\n",
       "       0., 0., 0., 1., 1., 0., 0., 0., 0., 1., 0., 0., 1., 1., 1., 1., 1.,\n",
       "       1., 1., 1., 1., 1., 1., 1., 1., 1., 1., 1., 1., 1., 1., 1., 1., 1.,\n",
       "       1., 1., 1., 1., 1., 1., 1., 1., 1., 1., 1., 1., 1., 1., 1., 1., 1.,\n",
       "       1., 1., 1., 1., 1., 1., 1., 1., 1., 1., 1., 1., 1., 1., 1., 1., 1.,\n",
       "       1., 1., 1., 1., 1., 1., 1., 1., 1., 1., 1., 1., 1., 1., 1., 1., 1.,\n",
       "       1., 1., 1., 1., 1., 1., 1., 1., 1., 1., 1., 1., 1., 1., 1., 1., 1.,\n",
       "       1., 1., 1., 1., 1., 1., 1., 1., 1., 1., 1., 1., 1., 1., 1., 1., 1.,\n",
       "       1., 1., 1., 1., 1., 1., 1., 1., 1., 1., 1., 1., 1., 1., 1., 1., 1.,\n",
       "       1., 1., 1., 1., 1., 1., 1., 1., 1., 1., 1., 1., 1., 1., 1., 1., 1.,\n",
       "       1., 1., 1., 1., 1., 1., 1., 1., 1., 1., 1., 1., 1., 1., 1., 1., 1.,\n",
       "       1.])"
      ]
     },
     "execution_count": 18,
     "metadata": {},
     "output_type": "execute_result"
    }
   ],
   "source": [
    "mse_2[mse_2 > 0.038] = 1\n",
    "mse_2[mse_2 < 0.038] = 0\n",
    "mse_2"
   ]
  },
  {
   "cell_type": "code",
   "execution_count": 19,
   "metadata": {
    "id": "94VgQhii7sBM",
    "outputId": "b36667b0-3f6f-45e4-9b58-6b6d47ba9503"
   },
   "outputs": [
    {
     "data": {
      "text/plain": [
       "array([0., 0., 0., 0., 0., 1., 1., 0., 0., 0., 0., 0., 0., 0., 0., 0., 0.,\n",
       "       1., 0., 0., 1., 0., 0., 0., 0., 0., 0., 0., 1., 0., 0., 0., 0., 0.,\n",
       "       0., 0., 0., 0., 0., 0., 0., 0., 0., 0., 0., 0., 0., 0., 0., 0., 0.,\n",
       "       0., 0., 0., 1., 0., 0., 0., 0., 0., 1., 0., 1., 0., 0., 0., 0., 0.,\n",
       "       0., 0., 0., 0., 0., 0., 0., 0., 0., 0., 0., 0., 0., 0., 0., 0., 0.,\n",
       "       0., 1., 0., 0., 0., 0., 0., 0., 0., 0., 0., 0., 0., 0., 0., 0., 0.,\n",
       "       0., 0., 0., 0., 0., 0., 0., 0., 0., 0., 1., 0., 0., 0., 0., 0., 0.,\n",
       "       0., 0., 0., 0., 0., 0., 0., 0., 0., 0., 0., 0., 0., 0., 0., 0., 0.,\n",
       "       0., 0., 1., 0., 0., 0., 0., 0., 1., 0., 0., 0., 0., 0., 0., 0., 1.,\n",
       "       0., 0., 0., 0., 0., 0., 0., 1., 0., 0., 0., 0., 0., 0., 1., 0., 0.,\n",
       "       0., 0., 0., 0., 0., 0., 0., 0., 0., 0., 0., 0., 0., 0., 0., 0., 0.,\n",
       "       0., 0., 0., 1., 1., 0., 0., 0., 0., 1., 0., 0., 0., 1., 1., 1., 1.,\n",
       "       1., 1., 1., 1., 1., 1., 1., 1., 1., 1., 1., 1., 1., 1., 1., 1., 1.,\n",
       "       1., 1., 1., 1., 1., 1., 1., 1., 1., 1., 1., 1., 1., 1., 1., 1., 1.,\n",
       "       1., 1., 1., 1., 1., 1., 1., 1., 1., 1., 1., 1., 1., 1., 1., 1., 1.,\n",
       "       1., 1., 1., 1., 1., 1., 1., 1., 1., 1., 1., 1., 1., 1., 1., 1., 1.,\n",
       "       1., 1., 1., 1., 1., 1., 1., 1., 1., 1., 1., 1., 1., 1., 1., 1., 1.,\n",
       "       1., 1., 1., 1., 1., 1., 1., 1., 1., 1., 1., 1., 1., 1., 1., 1., 1.,\n",
       "       1., 1., 1., 1., 1., 1., 1., 1., 1., 1., 1., 1., 1., 1., 1., 1., 1.,\n",
       "       1., 1., 1., 1., 1., 1., 1., 1., 1., 1., 1., 1., 1., 1., 1., 1., 1.,\n",
       "       1., 1., 1., 1., 1., 1., 1., 1., 1., 1., 1., 1., 1., 1., 1., 1., 1.,\n",
       "       1.])"
      ]
     },
     "execution_count": 19,
     "metadata": {},
     "output_type": "execute_result"
    }
   ],
   "source": [
    "y_true=y_test.values\n",
    "y_true"
   ]
  },
  {
   "cell_type": "code",
   "execution_count": 20,
   "metadata": {
    "id": "0NIL_qhZ7sBN",
    "outputId": "65287dd0-6486-4247-f4d9-63684c609250"
   },
   "outputs": [
    {
     "name": "stdout",
     "output_type": "stream",
     "text": [
      "             precision    recall  f1-score   support\n",
      "\n",
      "        0.0       1.00      0.81      0.89       182\n",
      "        1.0       0.83      1.00      0.91       176\n",
      "\n",
      "avg / total       0.92      0.90      0.90       358\n",
      "\n"
     ]
    }
   ],
   "source": [
    "#from plot\n",
    "#threshold 0.038\n",
    "from sklearn.metrics import classification_report\n",
    "print(classification_report(y_true, y_pred=mse_2))"
   ]
  },
  {
   "cell_type": "code",
   "execution_count": 21,
   "metadata": {
    "collapsed": true,
    "id": "pUgWy5QN7sBN"
   },
   "outputs": [],
   "source": [
    "# deterministic test time encoder\n",
    "test_encoder = Model(x, z_mu)\n",
    "\n",
    "# display a 2D plot of the digit classes in the latent space\n",
    "z_test = test_encoder.predict(x_test, batch_size=batch_size)"
   ]
  },
  {
   "cell_type": "code",
   "execution_count": 22,
   "metadata": {
    "ExecuteTime": {
     "end_time": "2020-12-01T05:11:19.735147Z",
     "start_time": "2020-12-01T05:11:17.108112Z"
    },
    "id": "6pjmz_2YSDCK",
    "outputId": "3e07e85c-c78f-4b03-8cc9-2f7db3d414fd"
   },
   "outputs": [
    {
     "data": {
      "image/png": "[encoded data removed]",
      "text/plain": [
       "<matplotlib.figure.Figure at 0x24e42267240>"
      ]
     },
     "metadata": {},
     "output_type": "display_data"
    }
   ],
   "source": [
    "# Latent variable plot\n",
    "z_test_0 = test_encoder.predict(test[test['label']==0].drop(['label'], axis=1))\n",
    "z_test_1 = test_encoder.predict(test[test['label']==1].drop(['label'], axis=1))\n",
    "s_0 = plt.scatter(z_test_0[:,0], z_test_0[:,1], color= 'blue',alpha=0.5, label='0-Normal')\n",
    "s_1 = plt.scatter(z_test_1[:,0], z_test_1[:,1], color= 'orange',alpha=0.5,label='1-frauds')\n",
    "plt.show()\n",
    "\n"
   ]
  },
  {
   "cell_type": "markdown",
   "metadata": {
    "collapsed": true,
    "id": "vgxHx5dnSDCL"
   },
   "source": [
    "Performance: The performance of the two models was similar, with no significant difference\n",
    "Stability and Robustness:Theoretically, vae model should be better, but perhaps because the sample size is too small for too complex model, so there is no obvious advantage for vae model in this data set"
   ]
  },
  {
   "cell_type": "code",
   "execution_count": null,
   "metadata": {
    "collapsed": true,
    "id": "Yq9a_07dSDCL"
   },
   "outputs": [],
   "source": []
  }
 ],
 "metadata": {
  "colab": {
   "name": "HW_5+(2).ipynb",
   "provenance": []
  },
  "kernelspec": {
   "display_name": "Python 3",
   "language": "python",
   "name": "python3"
  },
  "language_info": {
   "codemirror_mode": {
    "name": "ipython",
    "version": 3
   },
   "file_extension": ".py",
   "mimetype": "text/x-python",
   "name": "python",
   "nbconvert_exporter": "python",
   "pygments_lexer": "ipython3",
   "version": "3.5.4"
  },
  "latex_envs": {
   "LaTeX_envs_menu_present": true,
   "autoclose": false,
   "autocomplete": true,
   "bibliofile": "biblio.bib",
   "cite_by": "apalike",
   "current_citInitial": 1,
   "eqLabelWithNumbers": true,
   "eqNumInitial": 1,
   "hotkeys": {
    "equation": "Ctrl-E",
    "itemize": "Ctrl-I"
   },
   "labels_anchors": false,
   "latex_user_defs": false,
   "report_style_numbering": false,
   "user_envs_cfg": false
  },
  "toc": {
   "base_numbering": 1,
   "nav_menu": {},
   "number_sections": true,
   "sideBar": true,
   "skip_h1_title": false,
   "title_cell": "Table of Contents",
   "title_sidebar": "Contents",
   "toc_cell": true,
   "toc_position": {},
   "toc_section_display": true,
   "toc_window_display": false
  }
 },
 "nbformat": 4,
 "nbformat_minor": 1
}
